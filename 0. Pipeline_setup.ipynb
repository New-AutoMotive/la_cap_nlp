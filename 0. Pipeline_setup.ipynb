{
 "cells": [
  {
   "cell_type": "markdown",
   "id": "pending-vaccine",
   "metadata": {},
   "source": [
    "# Import packages"
   ]
  },
  {
   "cell_type": "code",
   "execution_count": 1,
   "id": "dried-kitty",
   "metadata": {},
   "outputs": [],
   "source": [
    "import io\n",
    "import os\n",
    "import nltk\n",
    "import json\n",
    "import tika\n",
    "tika.initVM()\n",
    "import requests\n",
    "import pdfplumber\n",
    "from tqdm import tqdm\n",
    "from io import BytesIO\n",
    "from tika import parser"
   ]
  },
  {
   "cell_type": "markdown",
   "id": "typical-alias",
   "metadata": {},
   "source": [
    "# Import files"
   ]
  },
  {
   "cell_type": "code",
   "execution_count": 2,
   "id": "modified-palestine",
   "metadata": {
    "scrolled": true
   },
   "outputs": [
    {
     "name": "stdout",
     "output_type": "stream",
     "text": [
      "Directory Data already exists\n"
     ]
    }
   ],
   "source": [
    "dirname = 'Data' \n",
    "if os.path.basename(os.getcwd())== 'la_cap_nlp':\n",
    "    if not os.path.isdir(dirname):\n",
    "        try:\n",
    "            os.mkdir(dirname)\n",
    "        except OSError:\n",
    "            print (\"Creation of the directory %s failed\" % dirname)\n",
    "        else:\n",
    "            print (\"Successfully created the directory %s \" % dirname)\n",
    "    else: \n",
    "        print (\"Directory %s already exists\" % dirname)"
   ]
  },
  {
   "cell_type": "code",
   "execution_count": 6,
   "id": "inappropriate-greene",
   "metadata": {},
   "outputs": [],
   "source": [
    "#Set the path to the Coventry folder\n",
    "remote_path = '../../Google Drive/New Automotive/Research & analysis/Charging device research 2021/Coventry'"
   ]
  },
  {
   "cell_type": "code",
   "execution_count": 8,
   "id": "revised-scholarship",
   "metadata": {},
   "outputs": [],
   "source": [
    "#List all files inside the folder\n",
    "list_file = os.listdir(remote_path)"
   ]
  },
  {
   "cell_type": "code",
   "execution_count": 9,
   "id": "junior-audit",
   "metadata": {},
   "outputs": [
    {
     "data": {
      "text/plain": [
       "'coventry_pdfs.json'"
      ]
     },
     "execution_count": 9,
     "metadata": {},
     "output_type": "execute_result"
    }
   ],
   "source": [
    "list_file[0]"
   ]
  },
  {
   "cell_type": "code",
   "execution_count": 10,
   "id": "regulation-cloud",
   "metadata": {},
   "outputs": [],
   "source": [
    "#Import all the entries in the json file\n",
    "with open(remote_path+'/'+list_file[0]) as f:\n",
    "    data = json.load(f)"
   ]
  },
  {
   "cell_type": "code",
   "execution_count": 11,
   "id": "streaming-reception",
   "metadata": {},
   "outputs": [
    {
     "data": {
      "text/plain": [
       "12259"
      ]
     },
     "execution_count": 11,
     "metadata": {},
     "output_type": "execute_result"
    }
   ],
   "source": [
    "#check total number of links in the json file\n",
    "len(data)"
   ]
  },
  {
   "cell_type": "markdown",
   "id": "combined-control",
   "metadata": {},
   "source": [
    "# Step 1) Download PDFs to local machine"
   ]
  },
  {
   "cell_type": "markdown",
   "id": "second-sampling",
   "metadata": {},
   "source": [
    "For each link in the json file, download the associated PDF file and store it in a local Data/PDF folder with the file name starting from 00001. The extra zeros are necessary to correctly sort the file name.  "
   ]
  },
  {
   "cell_type": "code",
   "execution_count": 31,
   "id": "agreed-orientation",
   "metadata": {
    "scrolled": true
   },
   "outputs": [
    {
     "name": "stderr",
     "output_type": "stream",
     "text": [
      " 14%|█▎        | 1685/12259 [11:47<1:00:03,  2.93it/s]"
     ]
    },
    {
     "name": "stdout",
     "output_type": "stream",
     "text": [
      "Link not valid 1685\n"
     ]
    },
    {
     "name": "stderr",
     "output_type": "stream",
     "text": [
      " 15%|█▍        | 1806/12259 [12:44<57:43,  3.02it/s]   "
     ]
    },
    {
     "name": "stdout",
     "output_type": "stream",
     "text": [
      "Link not valid 1806\n",
      "Link not valid 1807\n",
      "Link not valid 1808\n",
      "Link not valid 1809\n"
     ]
    },
    {
     "name": "stderr",
     "output_type": "stream",
     "text": [
      " 23%|██▎       | 2782/12259 [17:04<59:48,  2.64it/s]  "
     ]
    },
    {
     "name": "stdout",
     "output_type": "stream",
     "text": [
      "Link not valid 2782\n"
     ]
    },
    {
     "name": "stderr",
     "output_type": "stream",
     "text": [
      " 27%|██▋       | 3291/12259 [20:15<2:06:56,  1.18it/s]"
     ]
    },
    {
     "name": "stdout",
     "output_type": "stream",
     "text": [
      "Link not valid 3291\n"
     ]
    },
    {
     "name": "stderr",
     "output_type": "stream",
     "text": [
      "\r",
      " 27%|██▋       | 3293/12259 [20:16<1:19:32,  1.88it/s]"
     ]
    },
    {
     "name": "stdout",
     "output_type": "stream",
     "text": [
      "Link not valid 3293\n"
     ]
    },
    {
     "name": "stderr",
     "output_type": "stream",
     "text": [
      " 27%|██▋       | 3325/12259 [20:42<1:19:17,  1.88it/s]"
     ]
    },
    {
     "name": "stdout",
     "output_type": "stream",
     "text": [
      "Link not valid 3323\n"
     ]
    },
    {
     "name": "stderr",
     "output_type": "stream",
     "text": [
      " 87%|████████▋ | 10672/12259 [50:54<07:21,  3.60it/s]  "
     ]
    },
    {
     "name": "stdout",
     "output_type": "stream",
     "text": [
      "Link not valid 10671\n"
     ]
    },
    {
     "name": "stderr",
     "output_type": "stream",
     "text": [
      " 87%|████████▋ | 10723/12259 [51:09<05:16,  4.85it/s]"
     ]
    },
    {
     "name": "stdout",
     "output_type": "stream",
     "text": [
      "Link not valid 10722\n"
     ]
    },
    {
     "name": "stderr",
     "output_type": "stream",
     "text": [
      " 88%|████████▊ | 10739/12259 [51:16<11:23,  2.22it/s]"
     ]
    },
    {
     "name": "stdout",
     "output_type": "stream",
     "text": [
      "Link not valid 10738\n"
     ]
    },
    {
     "name": "stderr",
     "output_type": "stream",
     "text": [
      " 88%|████████▊ | 10757/12259 [51:25<10:40,  2.34it/s]"
     ]
    },
    {
     "name": "stdout",
     "output_type": "stream",
     "text": [
      "Link not valid 10755\n"
     ]
    },
    {
     "name": "stderr",
     "output_type": "stream",
     "text": [
      " 91%|█████████ | 11117/12259 [53:26<05:04,  3.75it/s]"
     ]
    },
    {
     "name": "stdout",
     "output_type": "stream",
     "text": [
      "Link not valid 11117\n",
      "Link not valid 11118\n",
      "Link not valid 11119\n"
     ]
    },
    {
     "name": "stderr",
     "output_type": "stream",
     "text": [
      " 99%|█████████▉| 12194/12259 [59:35<00:27,  2.33it/s]"
     ]
    },
    {
     "name": "stdout",
     "output_type": "stream",
     "text": [
      "Link not valid 12194\n",
      "Link not valid 12195\n",
      "Link not valid 12196\n",
      "Link not valid 12197\n",
      "Link not valid 12198\n"
     ]
    },
    {
     "name": "stderr",
     "output_type": "stream",
     "text": [
      "100%|█████████▉| 12229/12259 [59:46<00:16,  1.79it/s]"
     ]
    },
    {
     "name": "stdout",
     "output_type": "stream",
     "text": [
      "Link not valid 12229\n"
     ]
    },
    {
     "name": "stderr",
     "output_type": "stream",
     "text": [
      "100%|██████████| 12259/12259 [1:00:18<00:00,  3.39it/s]\n"
     ]
    }
   ],
   "source": [
    "cnt = 0\n",
    "for item in tqdm(data):\n",
    "    try: \n",
    "        file_url = item['pdf_link']\n",
    "        filepath = './Data/PDF/test_{:05d}.pdf'.format(cnt)\n",
    "        rq = requests.get(file_url)\n",
    "        with open(filepath, 'wb') as file:\n",
    "            file.write(rq.content)\n",
    "        cnt+=1\n",
    "    except OSError:\n",
    "        print('Link not valid',cnt)\n",
    "        cnt+=1"
   ]
  },
  {
   "cell_type": "markdown",
   "id": "agricultural-sigma",
   "metadata": {},
   "source": [
    "# Step 2) Convert PDFs to .txt files"
   ]
  },
  {
   "cell_type": "markdown",
   "id": "lesbian-exhaust",
   "metadata": {},
   "source": [
    "For each downloaded PDF file in Data/PDF folder, open it and convert it into txt file to be stored in /Data/Text. The name of files that cannot be converted are stored inside fail_ext list. "
   ]
  },
  {
   "cell_type": "code",
   "execution_count": 45,
   "id": "surface-links",
   "metadata": {
    "scrolled": true
   },
   "outputs": [
    {
     "name": "stderr",
     "output_type": "stream",
     "text": [
      "  0%|          | 38/12237 [00:02<06:45, 30.10it/s]"
     ]
    },
    {
     "name": "stdout",
     "output_type": "stream",
     "text": [
      "Text could not be extracted test_00033.pdf\n",
      "Text could not be extracted test_00034.pdf\n"
     ]
    },
    {
     "name": "stderr",
     "output_type": "stream",
     "text": [
      "  0%|          | 61/12237 [00:03<09:24, 21.56it/s]"
     ]
    },
    {
     "name": "stdout",
     "output_type": "stream",
     "text": [
      "Text could not be extracted test_00059.pdf\n"
     ]
    },
    {
     "name": "stderr",
     "output_type": "stream",
     "text": [
      "  1%|          | 109/12237 [00:06<10:28, 19.30it/s]"
     ]
    },
    {
     "name": "stdout",
     "output_type": "stream",
     "text": [
      "Text could not be extracted test_00104.pdf\n"
     ]
    },
    {
     "name": "stderr",
     "output_type": "stream",
     "text": [
      "  1%|          | 133/12237 [00:10<11:52, 16.98it/s]"
     ]
    },
    {
     "name": "stdout",
     "output_type": "stream",
     "text": [
      "Text could not be extracted test_00126.pdf\n",
      "Text could not be extracted test_00127.pdf\n",
      "Text could not be extracted test_00130.pdf\n"
     ]
    },
    {
     "name": "stderr",
     "output_type": "stream",
     "text": [
      "\r",
      "  1%|          | 136/12237 [00:10<10:25, 19.34it/s]"
     ]
    },
    {
     "name": "stdout",
     "output_type": "stream",
     "text": [
      "Text could not be extracted test_00133.pdf\n"
     ]
    },
    {
     "name": "stderr",
     "output_type": "stream",
     "text": [
      "\r",
      "  1%|          | 139/12237 [00:11<25:26,  7.92it/s]"
     ]
    },
    {
     "name": "stdout",
     "output_type": "stream",
     "text": [
      "Text could not be extracted test_00137.pdf\n",
      "Text could not be extracted test_00138.pdf\n"
     ]
    },
    {
     "name": "stderr",
     "output_type": "stream",
     "text": [
      "  1%|          | 143/12237 [00:11<22:07,  9.11it/s]"
     ]
    },
    {
     "name": "stdout",
     "output_type": "stream",
     "text": [
      "Text could not be extracted test_00141.pdf\n"
     ]
    },
    {
     "name": "stderr",
     "output_type": "stream",
     "text": [
      "\r",
      "  1%|          | 145/12237 [00:12<25:02,  8.05it/s]"
     ]
    },
    {
     "name": "stdout",
     "output_type": "stream",
     "text": [
      "Text could not be extracted test_00145.pdf\n"
     ]
    },
    {
     "name": "stderr",
     "output_type": "stream",
     "text": [
      "  1%|▏         | 172/12237 [00:16<12:37, 15.93it/s]  "
     ]
    },
    {
     "name": "stdout",
     "output_type": "stream",
     "text": [
      "Text could not be extracted test_00167.pdf\n",
      "Text could not be extracted test_00168.pdf\n"
     ]
    },
    {
     "name": "stderr",
     "output_type": "stream",
     "text": [
      "  2%|▏         | 186/12237 [00:18<18:21, 10.94it/s]"
     ]
    },
    {
     "name": "stdout",
     "output_type": "stream",
     "text": [
      "Text could not be extracted test_00184.pdf\n",
      "Text could not be extracted test_00187.pdf\n"
     ]
    },
    {
     "name": "stderr",
     "output_type": "stream",
     "text": [
      "  2%|▏         | 211/12237 [00:19<13:05, 15.31it/s]"
     ]
    },
    {
     "name": "stdout",
     "output_type": "stream",
     "text": [
      "Text could not be extracted test_00209.pdf\n"
     ]
    },
    {
     "name": "stderr",
     "output_type": "stream",
     "text": [
      "  2%|▏         | 239/12237 [00:22<11:33, 17.31it/s]"
     ]
    },
    {
     "name": "stdout",
     "output_type": "stream",
     "text": [
      "Text could not be extracted test_00240.pdf\n"
     ]
    },
    {
     "name": "stderr",
     "output_type": "stream",
     "text": [
      "  2%|▏         | 270/12237 [00:25<11:37, 17.16it/s]"
     ]
    },
    {
     "name": "stdout",
     "output_type": "stream",
     "text": [
      "Text could not be extracted test_00265.pdf\n",
      "Text could not be extracted test_00269.pdf\n",
      "Text could not be extracted test_00270.pdf\n",
      "Text could not be extracted test_00271.pdf\n"
     ]
    },
    {
     "name": "stderr",
     "output_type": "stream",
     "text": [
      "  2%|▏         | 288/12237 [00:28<26:28,  7.52it/s]"
     ]
    },
    {
     "name": "stdout",
     "output_type": "stream",
     "text": [
      "Text could not be extracted test_00285.pdf\n"
     ]
    },
    {
     "name": "stderr",
     "output_type": "stream",
     "text": [
      "  3%|▎         | 346/12237 [00:49<31:47,  6.23it/s]  "
     ]
    },
    {
     "name": "stdout",
     "output_type": "stream",
     "text": [
      "Text could not be extracted test_00345.pdf\n"
     ]
    },
    {
     "name": "stderr",
     "output_type": "stream",
     "text": [
      "  4%|▍         | 517/12237 [01:09<1:12:59,  2.68it/s]"
     ]
    },
    {
     "name": "stdout",
     "output_type": "stream",
     "text": [
      "Text could not be extracted test_00517.pdf\n"
     ]
    },
    {
     "name": "stderr",
     "output_type": "stream",
     "text": [
      "  4%|▍         | 526/12237 [01:14<1:14:40,  2.61it/s]"
     ]
    },
    {
     "name": "stdout",
     "output_type": "stream",
     "text": [
      "Text could not be extracted test_00521.pdf\n",
      "Text could not be extracted test_00522.pdf\n",
      "Text could not be extracted test_00523.pdf\n",
      "Text could not be extracted test_00524.pdf\n",
      "Text could not be extracted test_00528.pdf\n"
     ]
    },
    {
     "name": "stderr",
     "output_type": "stream",
     "text": [
      "  4%|▍         | 534/12237 [01:15<50:24,  3.87it/s]  "
     ]
    },
    {
     "name": "stdout",
     "output_type": "stream",
     "text": [
      "Text could not be extracted test_00531.pdf\n"
     ]
    },
    {
     "name": "stderr",
     "output_type": "stream",
     "text": [
      "  4%|▍         | 543/12237 [01:16<21:22,  9.12it/s]"
     ]
    },
    {
     "name": "stdout",
     "output_type": "stream",
     "text": [
      "Text could not be extracted test_00538.pdf\n"
     ]
    },
    {
     "name": "stderr",
     "output_type": "stream",
     "text": [
      "  5%|▍         | 552/12237 [01:17<21:16,  9.15it/s]"
     ]
    },
    {
     "name": "stdout",
     "output_type": "stream",
     "text": [
      "Text could not be extracted test_00551.pdf\n"
     ]
    },
    {
     "name": "stderr",
     "output_type": "stream",
     "text": [
      "  5%|▍         | 557/12237 [01:17<17:53, 10.88it/s]"
     ]
    },
    {
     "name": "stdout",
     "output_type": "stream",
     "text": [
      "Text could not be extracted test_00553.pdf\n",
      "Text could not be extracted test_00556.pdf\n"
     ]
    },
    {
     "name": "stderr",
     "output_type": "stream",
     "text": [
      "  5%|▍         | 561/12237 [01:17<16:34, 11.74it/s]"
     ]
    },
    {
     "name": "stdout",
     "output_type": "stream",
     "text": [
      "Text could not be extracted test_00558.pdf\n",
      "Text could not be extracted test_00559.pdf\n",
      "Text could not be extracted test_00560.pdf\n",
      "Text could not be extracted test_00561.pdf\n"
     ]
    },
    {
     "name": "stderr",
     "output_type": "stream",
     "text": [
      "\r",
      "  5%|▍         | 563/12237 [01:18<15:25, 12.62it/s]"
     ]
    },
    {
     "name": "stdout",
     "output_type": "stream",
     "text": [
      "Text could not be extracted test_00562.pdf\n"
     ]
    },
    {
     "name": "stderr",
     "output_type": "stream",
     "text": [
      "  5%|▍         | 608/12237 [01:27<14:16, 13.57it/s]  "
     ]
    },
    {
     "name": "stdout",
     "output_type": "stream",
     "text": [
      "Text could not be extracted test_00604.pdf\n"
     ]
    },
    {
     "name": "stderr",
     "output_type": "stream",
     "text": [
      "  5%|▌         | 644/12237 [01:35<32:25,  5.96it/s]  "
     ]
    },
    {
     "name": "stdout",
     "output_type": "stream",
     "text": [
      "Text could not be extracted test_00642.pdf\n"
     ]
    },
    {
     "name": "stderr",
     "output_type": "stream",
     "text": [
      "\r",
      "  5%|▌         | 645/12237 [01:35<31:26,  6.15it/s]"
     ]
    },
    {
     "name": "stdout",
     "output_type": "stream",
     "text": [
      "Text could not be extracted test_00645.pdf\n"
     ]
    },
    {
     "name": "stderr",
     "output_type": "stream",
     "text": [
      "  5%|▌         | 672/12237 [01:42<31:29,  6.12it/s]  "
     ]
    },
    {
     "name": "stdout",
     "output_type": "stream",
     "text": [
      "Text could not be extracted test_00672.pdf\n"
     ]
    },
    {
     "name": "stderr",
     "output_type": "stream",
     "text": [
      "  6%|▌         | 676/12237 [01:42<28:59,  6.65it/s]"
     ]
    },
    {
     "name": "stdout",
     "output_type": "stream",
     "text": [
      "Text could not be extracted test_00674.pdf\n"
     ]
    },
    {
     "name": "stderr",
     "output_type": "stream",
     "text": [
      "  7%|▋         | 865/12237 [02:16<52:22,  3.62it/s]  "
     ]
    },
    {
     "name": "stdout",
     "output_type": "stream",
     "text": [
      "Text could not be extracted test_00865.pdf\n"
     ]
    },
    {
     "name": "stderr",
     "output_type": "stream",
     "text": [
      "  7%|▋         | 893/12237 [02:17<08:59, 21.02it/s]"
     ]
    },
    {
     "name": "stdout",
     "output_type": "stream",
     "text": [
      "Text could not be extracted test_00890.pdf\n",
      "Text could not be extracted test_00893.pdf\n"
     ]
    },
    {
     "name": "stderr",
     "output_type": "stream",
     "text": [
      "  8%|▊         | 932/12237 [02:31<14:54, 12.64it/s]  "
     ]
    },
    {
     "name": "stdout",
     "output_type": "stream",
     "text": [
      "Text could not be extracted test_00930.pdf\n"
     ]
    },
    {
     "name": "stderr",
     "output_type": "stream",
     "text": [
      "  8%|▊         | 938/12237 [02:32<19:10,  9.82it/s]"
     ]
    },
    {
     "name": "stdout",
     "output_type": "stream",
     "text": [
      "Text could not be extracted test_00936.pdf\n"
     ]
    },
    {
     "name": "stderr",
     "output_type": "stream",
     "text": [
      "  8%|▊         | 959/12237 [02:47<40:15,  4.67it/s]  "
     ]
    },
    {
     "name": "stdout",
     "output_type": "stream",
     "text": [
      "Text could not be extracted test_00957.pdf\n"
     ]
    },
    {
     "name": "stderr",
     "output_type": "stream",
     "text": [
      "  8%|▊         | 1012/12237 [03:06<1:16:50,  2.43it/s]"
     ]
    },
    {
     "name": "stdout",
     "output_type": "stream",
     "text": [
      "Text could not be extracted test_01006.pdf\n"
     ]
    },
    {
     "name": "stderr",
     "output_type": "stream",
     "text": [
      "  8%|▊         | 1018/12237 [03:07<41:19,  4.53it/s]  "
     ]
    },
    {
     "name": "stdout",
     "output_type": "stream",
     "text": [
      "Text could not be extracted test_01014.pdf\n"
     ]
    },
    {
     "name": "stderr",
     "output_type": "stream",
     "text": [
      "  8%|▊         | 1024/12237 [03:07<26:05,  7.16it/s]"
     ]
    },
    {
     "name": "stdout",
     "output_type": "stream",
     "text": [
      "Text could not be extracted test_01022.pdf\n",
      "Text could not be extracted test_01024.pdf\n"
     ]
    },
    {
     "name": "stderr",
     "output_type": "stream",
     "text": [
      "  8%|▊         | 1030/12237 [03:07<17:11, 10.86it/s]"
     ]
    },
    {
     "name": "stdout",
     "output_type": "stream",
     "text": [
      "Text could not be extracted test_01025.pdf\n",
      "Text could not be extracted test_01029.pdf\n"
     ]
    },
    {
     "name": "stderr",
     "output_type": "stream",
     "text": [
      "\r",
      "  8%|▊         | 1033/12237 [03:07<14:14, 13.11it/s]"
     ]
    },
    {
     "name": "stdout",
     "output_type": "stream",
     "text": [
      "Text could not be extracted test_01030.pdf\n"
     ]
    },
    {
     "name": "stderr",
     "output_type": "stream",
     "text": [
      "  9%|▊         | 1047/12237 [03:08<14:13, 13.11it/s]"
     ]
    },
    {
     "name": "stdout",
     "output_type": "stream",
     "text": [
      "Text could not be extracted test_01045.pdf\n"
     ]
    },
    {
     "name": "stderr",
     "output_type": "stream",
     "text": [
      "  9%|▊         | 1053/12237 [03:08<10:24, 17.90it/s]"
     ]
    },
    {
     "name": "stdout",
     "output_type": "stream",
     "text": [
      "Text could not be extracted test_01052.pdf\n"
     ]
    },
    {
     "name": "stderr",
     "output_type": "stream",
     "text": [
      "  9%|▊         | 1062/12237 [03:09<11:23, 16.35it/s]"
     ]
    },
    {
     "name": "stdout",
     "output_type": "stream",
     "text": [
      "Text could not be extracted test_01059.pdf\n"
     ]
    },
    {
     "name": "stderr",
     "output_type": "stream",
     "text": [
      "  9%|▉         | 1071/12237 [03:10<13:30, 13.78it/s]"
     ]
    },
    {
     "name": "stdout",
     "output_type": "stream",
     "text": [
      "Text could not be extracted test_01069.pdf\n"
     ]
    },
    {
     "name": "stderr",
     "output_type": "stream",
     "text": [
      "  9%|▉         | 1114/12237 [03:17<32:13,  5.75it/s]  "
     ]
    },
    {
     "name": "stdout",
     "output_type": "stream",
     "text": [
      "Text could not be extracted test_01114.pdf\n"
     ]
    },
    {
     "name": "stderr",
     "output_type": "stream",
     "text": [
      " 10%|▉         | 1175/12237 [03:29<19:19,  9.54it/s]  "
     ]
    },
    {
     "name": "stdout",
     "output_type": "stream",
     "text": [
      "Text could not be extracted test_01174.pdf\n"
     ]
    },
    {
     "name": "stderr",
     "output_type": "stream",
     "text": [
      " 10%|▉         | 1182/12237 [03:30<18:52,  9.76it/s]"
     ]
    },
    {
     "name": "stdout",
     "output_type": "stream",
     "text": [
      "Text could not be extracted test_01179.pdf\n",
      "Text could not be extracted test_01180.pdf\n",
      "Text could not be extracted test_01181.pdf\n",
      "Text could not be extracted test_01183.pdf\n",
      "Text could not be extracted test_01184.pdf\n"
     ]
    },
    {
     "name": "stderr",
     "output_type": "stream",
     "text": [
      " 10%|▉         | 1213/12237 [03:40<1:08:57,  2.66it/s]"
     ]
    },
    {
     "name": "stdout",
     "output_type": "stream",
     "text": [
      "Text could not be extracted test_01213.pdf\n"
     ]
    },
    {
     "name": "stderr",
     "output_type": "stream",
     "text": [
      " 12%|█▏        | 1416/12237 [04:24<4:26:45,  1.48s/it]"
     ]
    },
    {
     "name": "stdout",
     "output_type": "stream",
     "text": [
      "Text could not be extracted test_01416.pdf\n"
     ]
    },
    {
     "name": "stderr",
     "output_type": "stream",
     "text": [
      " 12%|█▏        | 1465/12237 [04:30<12:59, 13.82it/s]  "
     ]
    },
    {
     "name": "stdout",
     "output_type": "stream",
     "text": [
      "Text could not be extracted test_01463.pdf\n"
     ]
    },
    {
     "name": "stderr",
     "output_type": "stream",
     "text": [
      " 12%|█▏        | 1471/12237 [04:31<10:29, 17.09it/s]"
     ]
    },
    {
     "name": "stdout",
     "output_type": "stream",
     "text": [
      "Text could not be extracted test_01467.pdf\n",
      "Text could not be extracted test_01468.pdf\n"
     ]
    },
    {
     "name": "stderr",
     "output_type": "stream",
     "text": [
      "\r",
      " 12%|█▏        | 1475/12237 [04:31<08:31, 21.03it/s]"
     ]
    },
    {
     "name": "stdout",
     "output_type": "stream",
     "text": [
      "Text could not be extracted test_01475.pdf\n",
      "Text could not be extracted test_01478.pdf\n",
      "Text could not be extracted test_01479.pdf\n"
     ]
    },
    {
     "name": "stderr",
     "output_type": "stream",
     "text": [
      " 13%|█▎        | 1536/12237 [04:45<26:26,  6.74it/s]  "
     ]
    },
    {
     "name": "stdout",
     "output_type": "stream",
     "text": [
      "Text could not be extracted test_01534.pdf\n",
      "Text could not be extracted test_01536.pdf\n"
     ]
    },
    {
     "name": "stderr",
     "output_type": "stream",
     "text": [
      " 13%|█▎        | 1543/12237 [04:45<14:03, 12.68it/s]"
     ]
    },
    {
     "name": "stdout",
     "output_type": "stream",
     "text": [
      "Text could not be extracted test_01538.pdf\n",
      "Text could not be extracted test_01540.pdf\n"
     ]
    },
    {
     "name": "stderr",
     "output_type": "stream",
     "text": [
      " 13%|█▎        | 1548/12237 [04:45<11:17, 15.78it/s]"
     ]
    },
    {
     "name": "stdout",
     "output_type": "stream",
     "text": [
      "Text could not be extracted test_01544.pdf\n",
      "Text could not be extracted test_01545.pdf\n",
      "Text could not be extracted test_01546.pdf\n"
     ]
    },
    {
     "name": "stderr",
     "output_type": "stream",
     "text": [
      " 13%|█▎        | 1555/12237 [04:46<08:00, 22.23it/s]"
     ]
    },
    {
     "name": "stdout",
     "output_type": "stream",
     "text": [
      "Text could not be extracted test_01550.pdf\n",
      "Text could not be extracted test_01551.pdf\n",
      "Text could not be extracted test_01553.pdf\n",
      "Text could not be extracted test_01554.pdf\n"
     ]
    },
    {
     "name": "stderr",
     "output_type": "stream",
     "text": [
      " 13%|█▎        | 1562/12237 [04:46<07:58, 22.30it/s]"
     ]
    },
    {
     "name": "stdout",
     "output_type": "stream",
     "text": [
      "Text could not be extracted test_01557.pdf\n",
      "Text could not be extracted test_01558.pdf\n"
     ]
    },
    {
     "name": "stderr",
     "output_type": "stream",
     "text": [
      " 13%|█▎        | 1571/12237 [04:46<06:13, 28.57it/s]"
     ]
    },
    {
     "name": "stdout",
     "output_type": "stream",
     "text": [
      "Text could not be extracted test_01566.pdf\n",
      "Text could not be extracted test_01567.pdf\n",
      "Text could not be extracted test_01568.pdf\n",
      "Text could not be extracted test_01569.pdf\n",
      "Text could not be extracted test_01571.pdf\n",
      "Text could not be extracted test_01573.pdf\n"
     ]
    },
    {
     "name": "stderr",
     "output_type": "stream",
     "text": [
      " 13%|█▎        | 1585/12237 [04:48<10:22, 17.11it/s]"
     ]
    },
    {
     "name": "stdout",
     "output_type": "stream",
     "text": [
      "Text could not be extracted test_01577.pdf\n",
      "Text could not be extracted test_01578.pdf\n",
      "Text could not be extracted test_01579.pdf\n",
      "Text could not be extracted test_01581.pdf\n",
      "Text could not be extracted test_01582.pdf\n"
     ]
    },
    {
     "name": "stderr",
     "output_type": "stream",
     "text": [
      " 13%|█▎        | 1591/12237 [04:48<13:05, 13.55it/s]"
     ]
    },
    {
     "name": "stdout",
     "output_type": "stream",
     "text": [
      "Text could not be extracted test_01588.pdf\n"
     ]
    },
    {
     "name": "stderr",
     "output_type": "stream",
     "text": [
      " 13%|█▎        | 1609/12237 [04:50<11:16, 15.71it/s]"
     ]
    },
    {
     "name": "stdout",
     "output_type": "stream",
     "text": [
      "Text could not be extracted test_01607.pdf\n",
      "Text could not be extracted test_01609.pdf\n"
     ]
    },
    {
     "name": "stderr",
     "output_type": "stream",
     "text": [
      " 14%|█▍        | 1720/12237 [05:06<30:41,  5.71it/s]  "
     ]
    },
    {
     "name": "stdout",
     "output_type": "stream",
     "text": [
      "Text could not be extracted test_01722.pdf\n"
     ]
    },
    {
     "name": "stderr",
     "output_type": "stream",
     "text": [
      " 14%|█▍        | 1738/12237 [05:06<07:37, 22.93it/s]"
     ]
    },
    {
     "name": "stdout",
     "output_type": "stream",
     "text": [
      "Text could not be extracted test_01735.pdf\n"
     ]
    },
    {
     "name": "stderr",
     "output_type": "stream",
     "text": [
      " 14%|█▍        | 1771/12237 [05:10<23:29,  7.43it/s]"
     ]
    },
    {
     "name": "stdout",
     "output_type": "stream",
     "text": [
      "Text could not be extracted test_01769.pdf\n"
     ]
    },
    {
     "name": "stderr",
     "output_type": "stream",
     "text": [
      " 15%|█▍        | 1828/12237 [05:20<14:00, 12.38it/s]  "
     ]
    },
    {
     "name": "stdout",
     "output_type": "stream",
     "text": [
      "Text could not be extracted test_01827.pdf\n"
     ]
    },
    {
     "name": "stderr",
     "output_type": "stream",
     "text": [
      "\r",
      " 15%|█▍        | 1830/12237 [05:20<15:41, 11.05it/s]"
     ]
    },
    {
     "name": "stdout",
     "output_type": "stream",
     "text": [
      "Text could not be extracted test_01834.pdf\n"
     ]
    },
    {
     "name": "stderr",
     "output_type": "stream",
     "text": [
      " 15%|█▌        | 1847/12237 [05:21<06:54, 25.04it/s]"
     ]
    },
    {
     "name": "stdout",
     "output_type": "stream",
     "text": [
      "Text could not be extracted test_01845.pdf\n",
      "Text could not be extracted test_01847.pdf\n",
      "Text could not be extracted test_01848.pdf\n",
      "Text could not be extracted test_01849.pdf\n"
     ]
    },
    {
     "name": "stderr",
     "output_type": "stream",
     "text": [
      "\r",
      " 15%|█▌        | 1852/12237 [05:21<07:49, 22.12it/s]"
     ]
    },
    {
     "name": "stdout",
     "output_type": "stream",
     "text": [
      "Text could not be extracted test_01854.pdf\n"
     ]
    },
    {
     "name": "stderr",
     "output_type": "stream",
     "text": [
      " 15%|█▌        | 1865/12237 [05:22<07:07, 24.25it/s]"
     ]
    },
    {
     "name": "stdout",
     "output_type": "stream",
     "text": [
      "Text could not be extracted test_01865.pdf\n",
      "Text could not be extracted test_01866.pdf\n",
      "Text could not be extracted test_01867.pdf\n",
      "Text could not be extracted test_01868.pdf\n"
     ]
    },
    {
     "name": "stderr",
     "output_type": "stream",
     "text": [
      "\r",
      " 15%|█▌        | 1868/12237 [05:22<08:23, 20.59it/s]"
     ]
    },
    {
     "name": "stdout",
     "output_type": "stream",
     "text": [
      "Text could not be extracted test_01871.pdf\n"
     ]
    },
    {
     "name": "stderr",
     "output_type": "stream",
     "text": [
      " 15%|█▌        | 1874/12237 [05:22<08:10, 21.14it/s]"
     ]
    },
    {
     "name": "stdout",
     "output_type": "stream",
     "text": [
      "Text could not be extracted test_01875.pdf\n",
      "Text could not be extracted test_01877.pdf\n",
      "Text could not be extracted test_01878.pdf\n",
      "Text could not be extracted test_01880.pdf\n"
     ]
    },
    {
     "name": "stderr",
     "output_type": "stream",
     "text": [
      "\r",
      " 15%|█▌        | 1879/12237 [05:22<06:31, 26.46it/s]"
     ]
    },
    {
     "name": "stdout",
     "output_type": "stream",
     "text": [
      "Text could not be extracted test_01881.pdf\n",
      "Text could not be extracted test_01882.pdf\n",
      "Text could not be extracted test_01884.pdf\n"
     ]
    },
    {
     "name": "stderr",
     "output_type": "stream",
     "text": [
      " 15%|█▌        | 1895/12237 [05:23<04:40, 36.93it/s]"
     ]
    },
    {
     "name": "stdout",
     "output_type": "stream",
     "text": [
      "Text could not be extracted test_01888.pdf\n",
      "Text could not be extracted test_01889.pdf\n",
      "Text could not be extracted test_01890.pdf\n",
      "Text could not be extracted test_01892.pdf\n",
      "Text could not be extracted test_01893.pdf\n",
      "Text could not be extracted test_01894.pdf\n",
      "Text could not be extracted test_01895.pdf\n",
      "Text could not be extracted test_01896.pdf\n",
      "Text could not be extracted test_01897.pdf\n",
      "Text could not be extracted test_01898.pdf\n",
      "Text could not be extracted test_01899.pdf\n"
     ]
    },
    {
     "name": "stderr",
     "output_type": "stream",
     "text": [
      "\r",
      " 16%|█▌        | 1902/12237 [05:23<04:02, 42.63it/s]"
     ]
    },
    {
     "name": "stdout",
     "output_type": "stream",
     "text": [
      "Text could not be extracted test_01900.pdf\n",
      "Text could not be extracted test_01901.pdf\n",
      "Text could not be extracted test_01902.pdf\n",
      "Text could not be extracted test_01903.pdf\n",
      "Text could not be extracted test_01904.pdf\n",
      "Text could not be extracted test_01906.pdf\n",
      "Text could not be extracted test_01907.pdf\n",
      "Text could not be extracted test_01908.pdf\n",
      "Text could not be extracted test_01909.pdf\n",
      "Text could not be extracted test_01910.pdf\n"
     ]
    },
    {
     "name": "stderr",
     "output_type": "stream",
     "text": [
      " 16%|█▌        | 1912/12237 [05:23<04:09, 41.33it/s]"
     ]
    },
    {
     "name": "stdout",
     "output_type": "stream",
     "text": [
      "Text could not be extracted test_01911.pdf\n",
      "Text could not be extracted test_01912.pdf\n",
      "Text could not be extracted test_01914.pdf\n",
      "Text could not be extracted test_01915.pdf\n",
      "Text could not be extracted test_01916.pdf\n",
      "Text could not be extracted test_01917.pdf\n",
      "Text could not be extracted test_01918.pdf\n",
      "Text could not be extracted test_01919.pdf\n"
     ]
    },
    {
     "name": "stderr",
     "output_type": "stream",
     "text": [
      " 16%|█▌        | 1923/12237 [05:23<03:41, 46.56it/s]"
     ]
    },
    {
     "name": "stdout",
     "output_type": "stream",
     "text": [
      "Text could not be extracted test_01920.pdf\n",
      "Text could not be extracted test_01921.pdf\n",
      "Text could not be extracted test_01922.pdf\n",
      "Text could not be extracted test_01923.pdf\n",
      "Text could not be extracted test_01924.pdf\n",
      "Text could not be extracted test_01925.pdf\n",
      "Text could not be extracted test_01926.pdf\n",
      "Text could not be extracted test_01927.pdf\n",
      "Text could not be extracted test_01928.pdf\n",
      "Text could not be extracted test_01929.pdf\n"
     ]
    },
    {
     "name": "stderr",
     "output_type": "stream",
     "text": [
      " 16%|█▌        | 1933/12237 [05:24<04:23, 39.08it/s]"
     ]
    },
    {
     "name": "stdout",
     "output_type": "stream",
     "text": [
      "Text could not be extracted test_01930.pdf\n",
      "Text could not be extracted test_01931.pdf\n",
      "Text could not be extracted test_01932.pdf\n",
      "Text could not be extracted test_01933.pdf\n",
      "Text could not be extracted test_01934.pdf\n",
      "Text could not be extracted test_01935.pdf\n",
      "Text could not be extracted test_01936.pdf\n",
      "Text could not be extracted test_01937.pdf\n"
     ]
    },
    {
     "name": "stderr",
     "output_type": "stream",
     "text": [
      "\r",
      " 16%|█▌        | 1939/12237 [05:24<04:06, 41.81it/s]"
     ]
    },
    {
     "name": "stdout",
     "output_type": "stream",
     "text": [
      "Text could not be extracted test_01938.pdf\n",
      "Text could not be extracted test_01939.pdf\n",
      "Text could not be extracted test_01940.pdf\n",
      "Text could not be extracted test_01941.pdf\n",
      "Text could not be extracted test_01942.pdf\n",
      "Text could not be extracted test_01943.pdf\n",
      "Text could not be extracted test_01944.pdf\n",
      "Text could not be extracted test_01945.pdf\n",
      "Text could not be extracted test_01946.pdf\n"
     ]
    },
    {
     "name": "stderr",
     "output_type": "stream",
     "text": [
      " 16%|█▌        | 1950/12237 [05:24<04:01, 42.65it/s]"
     ]
    },
    {
     "name": "stdout",
     "output_type": "stream",
     "text": [
      "Text could not be extracted test_01948.pdf\n",
      "Text could not be extracted test_01953.pdf\n",
      "Text could not be extracted test_01954.pdf\n"
     ]
    },
    {
     "name": "stderr",
     "output_type": "stream",
     "text": [
      " 16%|█▋        | 2008/12237 [05:25<05:04, 33.62it/s]"
     ]
    },
    {
     "name": "stdout",
     "output_type": "stream",
     "text": [
      "Text could not be extracted test_02008.pdf\n",
      "Text could not be extracted test_02009.pdf\n",
      "Text could not be extracted test_02012.pdf\n",
      "Text could not be extracted test_02013.pdf\n",
      "Text could not be extracted test_02014.pdf\n"
     ]
    },
    {
     "name": "stderr",
     "output_type": "stream",
     "text": [
      " 16%|█▋        | 2018/12237 [05:26<04:38, 36.72it/s]"
     ]
    },
    {
     "name": "stdout",
     "output_type": "stream",
     "text": [
      "Text could not be extracted test_02015.pdf\n",
      "Text could not be extracted test_02017.pdf\n",
      "Text could not be extracted test_02019.pdf\n",
      "Text could not be extracted test_02020.pdf\n",
      "Text could not be extracted test_02021.pdf\n",
      "Text could not be extracted test_02022.pdf\n",
      "Text could not be extracted test_02023.pdf\n",
      "Text could not be extracted test_02024.pdf\n"
     ]
    },
    {
     "name": "stderr",
     "output_type": "stream",
     "text": [
      " 17%|█▋        | 2029/12237 [05:26<04:00, 42.40it/s]"
     ]
    },
    {
     "name": "stdout",
     "output_type": "stream",
     "text": [
      "Text could not be extracted test_02025.pdf\n",
      "Text could not be extracted test_02026.pdf\n",
      "Text could not be extracted test_02027.pdf\n",
      "Text could not be extracted test_02028.pdf\n",
      "Text could not be extracted test_02029.pdf\n",
      "Text could not be extracted test_02030.pdf\n",
      "Text could not be extracted test_02031.pdf\n",
      "Text could not be extracted test_02032.pdf\n",
      "Text could not be extracted test_02033.pdf\n",
      "Text could not be extracted test_02034.pdf\n"
     ]
    },
    {
     "name": "stderr",
     "output_type": "stream",
     "text": [
      "\r",
      " 17%|█▋        | 2034/12237 [05:26<04:00, 42.46it/s]"
     ]
    },
    {
     "name": "stdout",
     "output_type": "stream",
     "text": [
      "Text could not be extracted test_02035.pdf\n",
      "Text could not be extracted test_02036.pdf\n",
      "Text could not be extracted test_02037.pdf\n",
      "Text could not be extracted test_02038.pdf\n",
      "Text could not be extracted test_02039.pdf\n",
      "Text could not be extracted test_02040.pdf\n",
      "Text could not be extracted test_02041.pdf"
     ]
    },
    {
     "name": "stderr",
     "output_type": "stream",
     "text": [
      " 17%|█▋        | 2046/12237 [05:26<03:52, 43.76it/s]"
     ]
    },
    {
     "name": "stdout",
     "output_type": "stream",
     "text": [
      "\n",
      "Text could not be extracted test_02042.pdf\n",
      "Text could not be extracted test_02043.pdf\n",
      "Text could not be extracted test_02044.pdf\n",
      "Text could not be extracted test_02046.pdf\n",
      "Text could not be extracted test_02052.pdf\n"
     ]
    },
    {
     "name": "stderr",
     "output_type": "stream",
     "text": [
      " 17%|█▋        | 2078/12237 [05:27<04:15, 39.81it/s]"
     ]
    },
    {
     "name": "stdout",
     "output_type": "stream",
     "text": [
      "Text could not be extracted test_02073.pdf\n",
      "Text could not be extracted test_02076.pdf\n",
      "Text could not be extracted test_02078.pdf\n",
      "Text could not be extracted test_02079.pdf\n",
      "Text could not be extracted test_02080.pdf\n",
      "Text could not be extracted test_02081.pdf\n",
      "Text could not be extracted test_02082.pdf\n",
      "Text could not be extracted test_02083.pdf\n"
     ]
    },
    {
     "name": "stderr",
     "output_type": "stream",
     "text": [
      " 17%|█▋        | 2091/12237 [05:27<03:24, 49.53it/s]"
     ]
    },
    {
     "name": "stdout",
     "output_type": "stream",
     "text": [
      "Text could not be extracted test_02084.pdf\n",
      "Text could not be extracted test_02085.pdf\n",
      "Text could not be extracted test_02086.pdf\n",
      "Text could not be extracted test_02087.pdf\n",
      "Text could not be extracted test_02088.pdf\n",
      "Text could not be extracted test_02089.pdf\n",
      "Text could not be extracted test_02090.pdf\n",
      "Text could not be extracted test_02091.pdf\n",
      "Text could not be extracted test_02092.pdf\n",
      "Text could not be extracted test_02093.pdf\n",
      "Text could not be extracted test_02094.pdf\n",
      "Text could not be extracted test_02096.pdf\n"
     ]
    },
    {
     "name": "stderr",
     "output_type": "stream",
     "text": [
      " 17%|█▋        | 2103/12237 [05:28<03:31, 47.94it/s]"
     ]
    },
    {
     "name": "stdout",
     "output_type": "stream",
     "text": [
      "Text could not be extracted test_02099.pdf\n",
      "Text could not be extracted test_02100.pdf\n",
      "Text could not be extracted test_02103.pdf\n",
      "Text could not be extracted test_02104.pdf\n",
      "Text could not be extracted test_02105.pdf\n"
     ]
    },
    {
     "name": "stderr",
     "output_type": "stream",
     "text": [
      "\r",
      " 17%|█▋        | 2108/12237 [05:28<03:37, 46.50it/s]"
     ]
    },
    {
     "name": "stdout",
     "output_type": "stream",
     "text": [
      "Text could not be extracted test_02109.pdf\n",
      "Text could not be extracted test_02110.pdf\n",
      "Text could not be extracted test_02111.pdf\n",
      "Text could not be extracted test_02112.pdf\n",
      "Text could not be extracted test_02113.pdf\n",
      "Text could not be extracted test_02114.pdf\n",
      "Text could not be extracted test_02115.pdf\n",
      "Text could not be extracted test_02116.pdf\n"
     ]
    },
    {
     "name": "stderr",
     "output_type": "stream",
     "text": [
      " 17%|█▋        | 2118/12237 [05:28<03:55, 42.88it/s]"
     ]
    },
    {
     "name": "stdout",
     "output_type": "stream",
     "text": [
      "Text could not be extracted test_02117.pdf\n",
      "Text could not be extracted test_02118.pdf\n",
      "Text could not be extracted test_02119.pdf\n",
      "Text could not be extracted test_02120.pdf\n",
      "Text could not be extracted test_02122.pdf\n",
      "Text could not be extracted test_02123.pdf\n",
      "Text could not be extracted test_02124.pdf\n",
      "Text could not be extracted test_02125.pdf\n",
      "Text could not be extracted test_02126.pdf\n"
     ]
    },
    {
     "name": "stderr",
     "output_type": "stream",
     "text": [
      " 17%|█▋        | 2133/12237 [05:28<02:59, 56.23it/s]"
     ]
    },
    {
     "name": "stdout",
     "output_type": "stream",
     "text": [
      "Text could not be extracted test_02127.pdf\n",
      "Text could not be extracted test_02129.pdf\n",
      "Text could not be extracted test_02131.pdf\n",
      "Text could not be extracted test_02138.pdf\n"
     ]
    },
    {
     "name": "stderr",
     "output_type": "stream",
     "text": [
      " 18%|█▊        | 2176/12237 [05:29<04:26, 37.71it/s]"
     ]
    },
    {
     "name": "stdout",
     "output_type": "stream",
     "text": [
      "Text could not be extracted test_02183.pdf\n"
     ]
    },
    {
     "name": "stderr",
     "output_type": "stream",
     "text": [
      " 18%|█▊        | 2190/12237 [05:41<59:04,  2.83it/s]  "
     ]
    },
    {
     "name": "stdout",
     "output_type": "stream",
     "text": [
      "Text could not be extracted test_02187.pdf\n",
      "Text could not be extracted test_02188.pdf\n"
     ]
    },
    {
     "name": "stderr",
     "output_type": "stream",
     "text": [
      " 19%|█▊        | 2286/12237 [05:43<04:55, 33.65it/s]"
     ]
    },
    {
     "name": "stdout",
     "output_type": "stream",
     "text": [
      "Text could not be extracted test_02283.pdf\n",
      "Text could not be extracted test_02287.pdf\n",
      "Text could not be extracted test_02288.pdf\n",
      "Text could not be extracted test_02289.pdf\n",
      "Text could not be extracted test_02290.pdf\n"
     ]
    },
    {
     "name": "stderr",
     "output_type": "stream",
     "text": [
      " 19%|█▊        | 2294/12237 [05:43<04:42, 35.14it/s]"
     ]
    },
    {
     "name": "stdout",
     "output_type": "stream",
     "text": [
      "Text could not be extracted test_02291.pdf\n",
      "Text could not be extracted test_02292.pdf\n",
      "Text could not be extracted test_02293.pdf\n",
      "Text could not be extracted test_02295.pdf\n",
      "Text could not be extracted test_02296.pdf\n",
      "Text could not be extracted test_02297.pdf\n",
      "Text could not be extracted test_02298.pdf\n"
     ]
    },
    {
     "name": "stderr",
     "output_type": "stream",
     "text": [
      " 19%|█▉        | 2302/12237 [05:44<04:35, 36.12it/s]"
     ]
    },
    {
     "name": "stdout",
     "output_type": "stream",
     "text": [
      "Text could not be extracted test_02299.pdf\n",
      "Text could not be extracted test_02300.pdf\n",
      "Text could not be extracted test_02301.pdf\n",
      "Text could not be extracted test_02302.pdf\n",
      "Text could not be extracted test_02303.pdf\n",
      "Text could not be extracted test_02304.pdf\n",
      "Text could not be extracted test_02305.pdf\n",
      "Text could not be extracted test_02306.pdf\n"
     ]
    },
    {
     "name": "stderr",
     "output_type": "stream",
     "text": [
      " 19%|█▉        | 2311/12237 [05:44<04:13, 39.13it/s]"
     ]
    },
    {
     "name": "stdout",
     "output_type": "stream",
     "text": [
      "Text could not be extracted test_02307.pdf\n",
      "Text could not be extracted test_02308.pdf\n",
      "Text could not be extracted test_02309.pdf\n",
      "Text could not be extracted test_02310.pdf\n",
      "Text could not be extracted test_02311.pdf\n",
      "Text could not be extracted test_02312.pdf\n",
      "Text could not be extracted test_02313.pdf\n",
      "Text could not be extracted test_02314.pdf\n",
      "Text could not be extracted test_02315.pdf\n"
     ]
    },
    {
     "name": "stderr",
     "output_type": "stream",
     "text": [
      "\r",
      " 19%|█▉        | 2317/12237 [05:44<03:55, 42.09it/s]"
     ]
    },
    {
     "name": "stdout",
     "output_type": "stream",
     "text": [
      "Text could not be extracted test_02316.pdf\n",
      "Text could not be extracted test_02317.pdf\n",
      "Text could not be extracted test_02318.pdf\n",
      "Text could not be extracted test_02319.pdf\n",
      "Text could not be extracted test_02320.pdf\n",
      "Text could not be extracted test_02321.pdf\n",
      "Text could not be extracted test_02322.pdf\n",
      "Text could not be extracted test_02323.pdf\n",
      "Text could not be extracted test_02324.pdf\n",
      "Text could not be extracted test_02325.pdf\n",
      "Text could not be extracted test_02326.pdf\n"
     ]
    },
    {
     "name": "stderr",
     "output_type": "stream",
     "text": [
      " 19%|█▉        | 2332/12237 [05:44<03:10, 51.88it/s]"
     ]
    },
    {
     "name": "stdout",
     "output_type": "stream",
     "text": [
      "Text could not be extracted test_02327.pdf\n",
      "Text could not be extracted test_02328.pdf\n",
      "Text could not be extracted test_02329.pdf\n",
      "Text could not be extracted test_02330.pdf\n",
      "Text could not be extracted test_02331.pdf\n",
      "Text could not be extracted test_02332.pdf\n",
      "Text could not be extracted test_02333.pdf\n",
      "Text could not be extracted test_02334.pdf\n",
      "Text could not be extracted test_02335.pdf\n",
      "Text could not be extracted test_02336.pdf\n",
      "Text could not be extracted test_02337.pdf\n",
      "Text could not be extracted test_02338.pdf\n"
     ]
    },
    {
     "name": "stderr",
     "output_type": "stream",
     "text": [
      "\r",
      " 19%|█▉        | 2338/12237 [05:44<03:39, 45.16it/s]"
     ]
    },
    {
     "name": "stdout",
     "output_type": "stream",
     "text": [
      "Text could not be extracted test_02339.pdf\n",
      "Text could not be extracted test_02340.pdf\n",
      "Text could not be extracted test_02341.pdf\n",
      "Text could not be extracted test_02342.pdf\n",
      "Text could not be extracted test_02343.pdf\n",
      "Text could not be extracted test_02344.pdf\n",
      "Text could not be extracted test_02345.pdf\n",
      "Text could not be extracted test_02346.pdf\n"
     ]
    },
    {
     "name": "stderr",
     "output_type": "stream",
     "text": [
      " 19%|█▉        | 2350/12237 [05:45<03:17, 50.14it/s]"
     ]
    },
    {
     "name": "stdout",
     "output_type": "stream",
     "text": [
      "Text could not be extracted test_02347.pdf\n",
      "Text could not be extracted test_02348.pdf\n",
      "Text could not be extracted test_02349.pdf\n",
      "Text could not be extracted test_02350.pdf\n",
      "Text could not be extracted test_02351.pdf\n",
      "Text could not be extracted test_02352.pdf\n",
      "Text could not be extracted test_02353.pdf\n",
      "Text could not be extracted test_02354.pdf\n",
      "Text could not be extracted test_02355.pdf\n",
      "Text could not be extracted test_02356.pdf\n",
      "Text could not be extracted test_02357.pdf\n"
     ]
    },
    {
     "name": "stderr",
     "output_type": "stream",
     "text": [
      " 20%|█▉        | 2416/12237 [05:46<03:48, 43.05it/s]"
     ]
    },
    {
     "name": "stdout",
     "output_type": "stream",
     "text": [
      "Text could not be extracted test_02416.pdf\n"
     ]
    },
    {
     "name": "stderr",
     "output_type": "stream",
     "text": [
      " 20%|█▉        | 2426/12237 [05:46<04:35, 35.62it/s]"
     ]
    },
    {
     "name": "stdout",
     "output_type": "stream",
     "text": [
      "Text could not be extracted test_02428.pdf\n",
      "Text could not be extracted test_02429.pdf\n",
      "Text could not be extracted test_02431.pdf\n",
      "Text could not be extracted test_02432.pdf\n"
     ]
    },
    {
     "name": "stderr",
     "output_type": "stream",
     "text": [
      " 20%|█▉        | 2434/12237 [05:47<04:35, 35.54it/s]"
     ]
    },
    {
     "name": "stdout",
     "output_type": "stream",
     "text": [
      "Text could not be extracted test_02435.pdf\n",
      "Text could not be extracted test_02436.pdf\n",
      "Text could not be extracted test_02437.pdf\n",
      "Text could not be extracted test_02438.pdf\n",
      "Text could not be extracted test_02441.pdf\n"
     ]
    },
    {
     "name": "stderr",
     "output_type": "stream",
     "text": [
      " 20%|█▉        | 2443/12237 [05:47<04:36, 35.47it/s]"
     ]
    },
    {
     "name": "stdout",
     "output_type": "stream",
     "text": [
      "Text could not be extracted test_02449.pdf\n"
     ]
    },
    {
     "name": "stderr",
     "output_type": "stream",
     "text": [
      " 20%|██        | 2471/12237 [05:59<22:47,  7.14it/s]  "
     ]
    },
    {
     "name": "stdout",
     "output_type": "stream",
     "text": [
      "Text could not be extracted test_02467.pdf\n"
     ]
    },
    {
     "name": "stderr",
     "output_type": "stream",
     "text": [
      " 21%|██        | 2545/12237 [06:00<04:24, 36.59it/s]"
     ]
    },
    {
     "name": "stdout",
     "output_type": "stream",
     "text": [
      "Text could not be extracted test_02551.pdf\n"
     ]
    },
    {
     "name": "stderr",
     "output_type": "stream",
     "text": [
      " 21%|██        | 2558/12237 [06:01<06:27, 25.01it/s]"
     ]
    },
    {
     "name": "stdout",
     "output_type": "stream",
     "text": [
      "Text could not be extracted test_02555.pdf\n",
      "Text could not be extracted test_02557.pdf\n"
     ]
    },
    {
     "name": "stderr",
     "output_type": "stream",
     "text": [
      " 22%|██▏       | 2657/12237 [06:05<04:29, 35.56it/s]"
     ]
    },
    {
     "name": "stdout",
     "output_type": "stream",
     "text": [
      "Text could not be extracted test_02653.pdf\n",
      "Text could not be extracted test_02654.pdf\n",
      "Text could not be extracted test_02659.pdf\n",
      "Text could not be extracted test_02660.pdf\n",
      "Text could not be extracted test_02662.pdf\n"
     ]
    },
    {
     "name": "stderr",
     "output_type": "stream",
     "text": [
      "\r",
      " 22%|██▏       | 2661/12237 [06:05<05:05, 31.32it/s]"
     ]
    },
    {
     "name": "stdout",
     "output_type": "stream",
     "text": [
      "Text could not be extracted test_02664.pdf\n"
     ]
    },
    {
     "name": "stderr",
     "output_type": "stream",
     "text": [
      " 22%|██▏       | 2669/12237 [06:05<06:21, 25.11it/s]"
     ]
    },
    {
     "name": "stdout",
     "output_type": "stream",
     "text": [
      "Text could not be extracted test_02671.pdf\n"
     ]
    },
    {
     "name": "stderr",
     "output_type": "stream",
     "text": [
      " 23%|██▎       | 2860/12237 [06:23<10:27, 14.95it/s]"
     ]
    },
    {
     "name": "stdout",
     "output_type": "stream",
     "text": [
      "Text could not be extracted test_02859.pdf\n"
     ]
    },
    {
     "name": "stderr",
     "output_type": "stream",
     "text": [
      " 24%|██▍       | 2915/12237 [06:26<07:59, 19.44it/s]"
     ]
    },
    {
     "name": "stdout",
     "output_type": "stream",
     "text": [
      "Text could not be extracted test_02915.pdf\n"
     ]
    },
    {
     "name": "stderr",
     "output_type": "stream",
     "text": [
      " 24%|██▍       | 2939/12237 [06:27<09:19, 16.63it/s]"
     ]
    },
    {
     "name": "stdout",
     "output_type": "stream",
     "text": [
      "Text could not be extracted test_02941.pdf\n"
     ]
    },
    {
     "name": "stderr",
     "output_type": "stream",
     "text": [
      " 25%|██▍       | 3044/12237 [06:35<07:02, 21.78it/s]"
     ]
    },
    {
     "name": "stdout",
     "output_type": "stream",
     "text": [
      "Text could not be extracted test_03047.pdf\n"
     ]
    },
    {
     "name": "stderr",
     "output_type": "stream",
     "text": [
      " 26%|██▌       | 3174/12237 [06:43<07:04, 21.35it/s]"
     ]
    },
    {
     "name": "stdout",
     "output_type": "stream",
     "text": [
      "Text could not be extracted test_03176.pdf\n",
      "Text could not be extracted test_03177.pdf\n",
      "Text could not be extracted test_03178.pdf\n"
     ]
    },
    {
     "name": "stderr",
     "output_type": "stream",
     "text": [
      " 27%|██▋       | 3292/12237 [06:56<03:34, 41.71it/s]  "
     ]
    },
    {
     "name": "stdout",
     "output_type": "stream",
     "text": [
      "Text could not be extracted test_03294.pdf\n",
      "Text could not be extracted test_03296.pdf\n"
     ]
    },
    {
     "name": "stderr",
     "output_type": "stream",
     "text": [
      " 27%|██▋       | 3314/12237 [06:57<04:01, 36.89it/s]"
     ]
    },
    {
     "name": "stdout",
     "output_type": "stream",
     "text": [
      "Text could not be extracted test_03315.pdf\n"
     ]
    },
    {
     "name": "stderr",
     "output_type": "stream",
     "text": [
      " 27%|██▋       | 3322/12237 [06:57<04:43, 31.50it/s]"
     ]
    },
    {
     "name": "stdout",
     "output_type": "stream",
     "text": [
      "Text could not be extracted test_03326.pdf\n"
     ]
    },
    {
     "name": "stderr",
     "output_type": "stream",
     "text": [
      " 27%|██▋       | 3352/12237 [06:58<06:00, 24.65it/s]"
     ]
    },
    {
     "name": "stdout",
     "output_type": "stream",
     "text": [
      "Text could not be extracted test_03356.pdf\n",
      "Text could not be extracted test_03357.pdf\n"
     ]
    },
    {
     "name": "stderr",
     "output_type": "stream",
     "text": [
      " 27%|██▋       | 3358/12237 [06:59<06:19, 23.38it/s]"
     ]
    },
    {
     "name": "stdout",
     "output_type": "stream",
     "text": [
      "Text could not be extracted test_03362.pdf\n",
      "Text could not be extracted test_03363.pdf\n",
      "Text could not be extracted test_03365.pdf\n"
     ]
    },
    {
     "name": "stderr",
     "output_type": "stream",
     "text": [
      " 27%|██▋       | 3364/12237 [06:59<05:50, 25.33it/s]"
     ]
    },
    {
     "name": "stdout",
     "output_type": "stream",
     "text": [
      "Text could not be extracted test_03370.pdf\n"
     ]
    },
    {
     "name": "stderr",
     "output_type": "stream",
     "text": [
      " 28%|██▊       | 3383/12237 [07:00<06:58, 21.15it/s]"
     ]
    },
    {
     "name": "stdout",
     "output_type": "stream",
     "text": [
      "Text could not be extracted test_03387.pdf\n",
      "Text could not be extracted test_03388.pdf\n",
      "Text could not be extracted test_03389.pdf\n",
      "Text could not be extracted test_03391.pdf\n",
      "Text could not be extracted test_03392.pdf\n"
     ]
    },
    {
     "name": "stderr",
     "output_type": "stream",
     "text": [
      " 28%|██▊       | 3390/12237 [07:00<05:56, 24.84it/s]"
     ]
    },
    {
     "name": "stdout",
     "output_type": "stream",
     "text": [
      "Text could not be extracted test_03396.pdf\n",
      "Text could not be extracted test_03397.pdf\n",
      "Text could not be extracted test_03398.pdf\n",
      "Text could not be extracted test_03400.pdf\n"
     ]
    },
    {
     "name": "stderr",
     "output_type": "stream",
     "text": [
      " 28%|██▊       | 3397/12237 [07:00<05:35, 26.37it/s]"
     ]
    },
    {
     "name": "stdout",
     "output_type": "stream",
     "text": [
      "Text could not be extracted test_03401.pdf\n",
      "Text could not be extracted test_03402.pdf\n",
      "Text could not be extracted test_03403.pdf\n",
      "Text could not be extracted test_03406.pdf\n"
     ]
    },
    {
     "name": "stderr",
     "output_type": "stream",
     "text": [
      " 28%|██▊       | 3403/12237 [07:01<09:07, 16.14it/s]"
     ]
    },
    {
     "name": "stdout",
     "output_type": "stream",
     "text": [
      "Text could not be extracted test_03409.pdf\n",
      "Text could not be extracted test_03410.pdf\n"
     ]
    },
    {
     "name": "stderr",
     "output_type": "stream",
     "text": [
      " 28%|██▊       | 3409/12237 [07:01<08:05, 18.19it/s]"
     ]
    },
    {
     "name": "stdout",
     "output_type": "stream",
     "text": [
      "Text could not be extracted test_03414.pdf\n",
      "Text could not be extracted test_03417.pdf\n"
     ]
    },
    {
     "name": "stderr",
     "output_type": "stream",
     "text": [
      " 28%|██▊       | 3432/12237 [07:02<06:41, 21.91it/s]"
     ]
    },
    {
     "name": "stdout",
     "output_type": "stream",
     "text": [
      "Text could not be extracted test_03437.pdf\n",
      "Text could not be extracted test_03438.pdf\n"
     ]
    },
    {
     "name": "stderr",
     "output_type": "stream",
     "text": [
      " 28%|██▊       | 3445/12237 [07:03<04:54, 29.82it/s]"
     ]
    },
    {
     "name": "stdout",
     "output_type": "stream",
     "text": [
      "Text could not be extracted test_03447.pdf\n"
     ]
    },
    {
     "name": "stderr",
     "output_type": "stream",
     "text": [
      " 28%|██▊       | 3454/12237 [07:03<04:12, 34.81it/s]"
     ]
    },
    {
     "name": "stdout",
     "output_type": "stream",
     "text": [
      "Text could not be extracted test_03456.pdf\n",
      "Text could not be extracted test_03458.pdf\n",
      "Text could not be extracted test_03460.pdf\n",
      "Text could not be extracted test_03462.pdf\n",
      "Text could not be extracted test_03463.pdf\n",
      "Text could not be extracted test_03464.pdf\n"
     ]
    },
    {
     "name": "stderr",
     "output_type": "stream",
     "text": [
      " 28%|██▊       | 3464/12237 [07:03<06:27, 22.63it/s]"
     ]
    },
    {
     "name": "stdout",
     "output_type": "stream",
     "text": [
      "Text could not be extracted test_03467.pdf\n",
      "Text could not be extracted test_03470.pdf\n"
     ]
    },
    {
     "name": "stderr",
     "output_type": "stream",
     "text": [
      " 28%|██▊       | 3471/12237 [07:04<06:44, 21.66it/s]"
     ]
    },
    {
     "name": "stdout",
     "output_type": "stream",
     "text": [
      "Text could not be extracted test_03475.pdf\n"
     ]
    },
    {
     "name": "stderr",
     "output_type": "stream",
     "text": [
      " 28%|██▊       | 3478/12237 [07:04<05:51, 24.92it/s]"
     ]
    },
    {
     "name": "stdout",
     "output_type": "stream",
     "text": [
      "Text could not be extracted test_03483.pdf\n",
      "Text could not be extracted test_03485.pdf\n"
     ]
    },
    {
     "name": "stderr",
     "output_type": "stream",
     "text": [
      "\r",
      " 28%|██▊       | 3481/12237 [07:04<07:32, 19.37it/s]"
     ]
    },
    {
     "name": "stdout",
     "output_type": "stream",
     "text": [
      "Text could not be extracted test_03491.pdf\n"
     ]
    },
    {
     "name": "stderr",
     "output_type": "stream",
     "text": [
      " 28%|██▊       | 3486/12237 [07:05<12:30, 11.66it/s]"
     ]
    },
    {
     "name": "stdout",
     "output_type": "stream",
     "text": [
      "Text could not be extracted test_03493.pdf\n"
     ]
    },
    {
     "name": "stderr",
     "output_type": "stream",
     "text": [
      " 29%|██▊       | 3491/12237 [07:05<09:57, 14.63it/s]"
     ]
    },
    {
     "name": "stdout",
     "output_type": "stream",
     "text": [
      "Text could not be extracted test_03497.pdf\n"
     ]
    },
    {
     "name": "stderr",
     "output_type": "stream",
     "text": [
      " 29%|██▉       | 3520/12237 [07:07<07:31, 19.32it/s]"
     ]
    },
    {
     "name": "stdout",
     "output_type": "stream",
     "text": [
      "Text could not be extracted test_03524.pdf\n",
      "Text could not be extracted test_03530.pdf\n"
     ]
    },
    {
     "name": "stderr",
     "output_type": "stream",
     "text": [
      " 29%|██▉       | 3527/12237 [07:07<05:57, 24.34it/s]"
     ]
    },
    {
     "name": "stdout",
     "output_type": "stream",
     "text": [
      "Text could not be extracted test_03533.pdf\n",
      "Text could not be extracted test_03535.pdf\n"
     ]
    },
    {
     "name": "stderr",
     "output_type": "stream",
     "text": [
      " 29%|██▉       | 3533/12237 [07:08<07:31, 19.29it/s]"
     ]
    },
    {
     "name": "stdout",
     "output_type": "stream",
     "text": [
      "Text could not be extracted test_03539.pdf\n",
      "Text could not be extracted test_03542.pdf\n"
     ]
    },
    {
     "name": "stderr",
     "output_type": "stream",
     "text": [
      " 29%|██▉       | 3544/12237 [07:08<06:13, 23.29it/s]"
     ]
    },
    {
     "name": "stdout",
     "output_type": "stream",
     "text": [
      "Text could not be extracted test_03546.pdf\n",
      "Text could not be extracted test_03547.pdf\n",
      "Text could not be extracted test_03548.pdf\n",
      "Text could not be extracted test_03549.pdf\n"
     ]
    },
    {
     "name": "stderr",
     "output_type": "stream",
     "text": [
      " 29%|██▉       | 3556/12237 [07:09<06:36, 21.90it/s]"
     ]
    },
    {
     "name": "stdout",
     "output_type": "stream",
     "text": [
      "Text could not be extracted test_03562.pdf\n"
     ]
    },
    {
     "name": "stderr",
     "output_type": "stream",
     "text": [
      " 29%|██▉       | 3565/12237 [07:09<06:43, 21.50it/s]"
     ]
    },
    {
     "name": "stdout",
     "output_type": "stream",
     "text": [
      "Text could not be extracted test_03571.pdf\n",
      "Text could not be extracted test_03572.pdf\n"
     ]
    },
    {
     "name": "stderr",
     "output_type": "stream",
     "text": [
      " 29%|██▉       | 3578/12237 [07:10<09:20, 15.46it/s]"
     ]
    },
    {
     "name": "stdout",
     "output_type": "stream",
     "text": [
      "Text could not be extracted test_03585.pdf\n",
      "Text could not be extracted test_03586.pdf\n",
      "Text could not be extracted test_03588.pdf\n"
     ]
    },
    {
     "name": "stderr",
     "output_type": "stream",
     "text": [
      " 29%|██▉       | 3583/12237 [07:10<08:16, 17.42it/s]"
     ]
    },
    {
     "name": "stdout",
     "output_type": "stream",
     "text": [
      "Text could not be extracted test_03589.pdf\n",
      "Text could not be extracted test_03591.pdf\n",
      "Text could not be extracted test_03594.pdf\n"
     ]
    },
    {
     "name": "stderr",
     "output_type": "stream",
     "text": [
      " 29%|██▉       | 3594/12237 [07:11<05:50, 24.67it/s]"
     ]
    },
    {
     "name": "stdout",
     "output_type": "stream",
     "text": [
      "Text could not be extracted test_03599.pdf\n",
      "Text could not be extracted test_03601.pdf\n"
     ]
    },
    {
     "name": "stderr",
     "output_type": "stream",
     "text": [
      " 29%|██▉       | 3600/12237 [07:11<11:02, 13.03it/s]"
     ]
    },
    {
     "name": "stdout",
     "output_type": "stream",
     "text": [
      "Text could not be extracted test_03606.pdf\n",
      "Text could not be extracted test_03607.pdf\n",
      "Text could not be extracted test_03610.pdf\n"
     ]
    },
    {
     "name": "stderr",
     "output_type": "stream",
     "text": [
      " 29%|██▉       | 3609/12237 [07:12<06:30, 22.10it/s]"
     ]
    },
    {
     "name": "stdout",
     "output_type": "stream",
     "text": [
      "Text could not be extracted test_03612.pdf\n",
      "Text could not be extracted test_03613.pdf\n"
     ]
    },
    {
     "name": "stderr",
     "output_type": "stream",
     "text": [
      " 30%|██▉       | 3618/12237 [07:12<05:34, 25.75it/s]"
     ]
    },
    {
     "name": "stdout",
     "output_type": "stream",
     "text": [
      "Text could not be extracted test_03620.pdf\n",
      "Text could not be extracted test_03623.pdf\n",
      "Text could not be extracted test_03624.pdf\n",
      "Text could not be extracted test_03625.pdf\n"
     ]
    },
    {
     "name": "stderr",
     "output_type": "stream",
     "text": [
      " 30%|██▉       | 3628/12237 [07:12<06:12, 23.13it/s]"
     ]
    },
    {
     "name": "stdout",
     "output_type": "stream",
     "text": [
      "Text could not be extracted test_03632.pdf\n",
      "Text could not be extracted test_03634.pdf\n",
      "Text could not be extracted test_03636.pdf\n"
     ]
    },
    {
     "name": "stderr",
     "output_type": "stream",
     "text": [
      "\r",
      " 30%|██▉       | 3631/12237 [07:13<07:39, 18.74it/s]"
     ]
    },
    {
     "name": "stdout",
     "output_type": "stream",
     "text": [
      "Text could not be extracted test_03638.pdf\n"
     ]
    },
    {
     "name": "stderr",
     "output_type": "stream",
     "text": [
      " 30%|██▉       | 3637/12237 [07:13<07:41, 18.62it/s]"
     ]
    },
    {
     "name": "stdout",
     "output_type": "stream",
     "text": [
      "Text could not be extracted test_03641.pdf\n",
      "Text could not be extracted test_03642.pdf\n",
      "Text could not be extracted test_03643.pdf\n",
      "Text could not be extracted test_03644.pdf\n"
     ]
    },
    {
     "name": "stderr",
     "output_type": "stream",
     "text": [
      " 30%|██▉       | 3641/12237 [07:13<08:03, 17.78it/s]"
     ]
    },
    {
     "name": "stdout",
     "output_type": "stream",
     "text": [
      "Text could not be extracted test_03647.pdf\n",
      "Text could not be extracted test_03650.pdf\n",
      "Text could not be extracted test_03651.pdf\n"
     ]
    },
    {
     "name": "stderr",
     "output_type": "stream",
     "text": [
      " 30%|██▉       | 3653/12237 [07:14<05:43, 24.97it/s]"
     ]
    },
    {
     "name": "stdout",
     "output_type": "stream",
     "text": [
      "Text could not be extracted test_03655.pdf\n",
      "Text could not be extracted test_03656.pdf\n",
      "Text could not be extracted test_03657.pdf\n",
      "Text could not be extracted test_03659.pdf\n",
      "Text could not be extracted test_03661.pdf\n"
     ]
    },
    {
     "name": "stderr",
     "output_type": "stream",
     "text": [
      " 30%|██▉       | 3660/12237 [07:14<06:42, 21.33it/s]"
     ]
    },
    {
     "name": "stdout",
     "output_type": "stream",
     "text": [
      "Text could not be extracted test_03665.pdf\n"
     ]
    },
    {
     "name": "stderr",
     "output_type": "stream",
     "text": [
      " 30%|██▉       | 3667/12237 [07:14<06:49, 20.94it/s]"
     ]
    },
    {
     "name": "stdout",
     "output_type": "stream",
     "text": [
      "Text could not be extracted test_03670.pdf\n",
      "Text could not be extracted test_03673.pdf\n",
      "Text could not be extracted test_03674.pdf\n",
      "Text could not be extracted test_03675.pdf\n"
     ]
    },
    {
     "name": "stderr",
     "output_type": "stream",
     "text": [
      " 30%|███       | 3676/12237 [07:15<05:17, 26.94it/s]"
     ]
    },
    {
     "name": "stdout",
     "output_type": "stream",
     "text": [
      "Text could not be extracted test_03677.pdf\n",
      "Text could not be extracted test_03679.pdf\n",
      "Text could not be extracted test_03680.pdf\n",
      "Text could not be extracted test_03681.pdf\n",
      "Text could not be extracted test_03682.pdf\n",
      "Text could not be extracted test_03684.pdf\n"
     ]
    },
    {
     "name": "stderr",
     "output_type": "stream",
     "text": [
      " 30%|███       | 3683/12237 [07:15<05:05, 27.98it/s]"
     ]
    },
    {
     "name": "stdout",
     "output_type": "stream",
     "text": [
      "Text could not be extracted test_03688.pdf\n",
      "Text could not be extracted test_03689.pdf\n",
      "Text could not be extracted test_03690.pdf\n",
      "Text could not be extracted test_03691.pdf\n",
      "Text could not be extracted test_03693.pdf\n"
     ]
    },
    {
     "name": "stderr",
     "output_type": "stream",
     "text": [
      " 30%|███       | 3690/12237 [07:15<05:05, 27.99it/s]"
     ]
    },
    {
     "name": "stdout",
     "output_type": "stream",
     "text": [
      "Text could not be extracted test_03696.pdf\n",
      "Text could not be extracted test_03698.pdf\n"
     ]
    },
    {
     "name": "stderr",
     "output_type": "stream",
     "text": [
      " 30%|███       | 3697/12237 [07:15<04:54, 29.03it/s]"
     ]
    },
    {
     "name": "stdout",
     "output_type": "stream",
     "text": [
      "Text could not be extracted test_03703.pdf\n",
      "Text could not be extracted test_03704.pdf\n"
     ]
    },
    {
     "name": "stderr",
     "output_type": "stream",
     "text": [
      " 30%|███       | 3703/12237 [07:16<05:54, 24.05it/s]"
     ]
    },
    {
     "name": "stdout",
     "output_type": "stream",
     "text": [
      "Text could not be extracted test_03707.pdf\n",
      "Text could not be extracted test_03710.pdf\n"
     ]
    },
    {
     "name": "stderr",
     "output_type": "stream",
     "text": [
      "\r",
      " 30%|███       | 3706/12237 [07:16<06:20, 22.42it/s]"
     ]
    },
    {
     "name": "stdout",
     "output_type": "stream",
     "text": [
      "Text could not be extracted test_03712.pdf\n",
      "Text could not be extracted test_03714.pdf\n",
      "Text could not be extracted test_03715.pdf\n"
     ]
    },
    {
     "name": "stderr",
     "output_type": "stream",
     "text": [
      " 30%|███       | 3712/12237 [07:16<06:44, 21.07it/s]"
     ]
    },
    {
     "name": "stdout",
     "output_type": "stream",
     "text": [
      "Text could not be extracted test_03718.pdf\n",
      "Text could not be extracted test_03719.pdf\n"
     ]
    },
    {
     "name": "stderr",
     "output_type": "stream",
     "text": [
      "\r",
      " 30%|███       | 3715/12237 [07:16<06:47, 20.93it/s]"
     ]
    },
    {
     "name": "stdout",
     "output_type": "stream",
     "text": [
      "Text could not be extracted test_03724.pdf\n"
     ]
    },
    {
     "name": "stderr",
     "output_type": "stream",
     "text": [
      " 30%|███       | 3723/12237 [07:17<05:55, 23.94it/s]"
     ]
    },
    {
     "name": "stdout",
     "output_type": "stream",
     "text": [
      "Text could not be extracted test_03727.pdf\n",
      "Text could not be extracted test_03730.pdf\n",
      "Text could not be extracted test_03732.pdf\n"
     ]
    },
    {
     "name": "stderr",
     "output_type": "stream",
     "text": [
      " 30%|███       | 3732/12237 [07:17<04:51, 29.20it/s]"
     ]
    },
    {
     "name": "stdout",
     "output_type": "stream",
     "text": [
      "Text could not be extracted test_03735.pdf\n",
      "Text could not be extracted test_03738.pdf\n",
      "Text could not be extracted test_03739.pdf\n",
      "Text could not be extracted test_03740.pdf\n",
      "Text could not be extracted test_03741.pdf\n"
     ]
    },
    {
     "name": "stderr",
     "output_type": "stream",
     "text": [
      "\r",
      " 31%|███       | 3736/12237 [07:17<04:30, 31.46it/s]"
     ]
    },
    {
     "name": "stdout",
     "output_type": "stream",
     "text": [
      "Text could not be extracted test_03744.pdf\n"
     ]
    },
    {
     "name": "stderr",
     "output_type": "stream",
     "text": [
      " 31%|███       | 3743/12237 [07:18<07:39, 18.49it/s]"
     ]
    },
    {
     "name": "stdout",
     "output_type": "stream",
     "text": [
      "Text could not be extracted test_03748.pdf\n",
      "Text could not be extracted test_03751.pdf\n"
     ]
    },
    {
     "name": "stderr",
     "output_type": "stream",
     "text": [
      " 31%|███       | 3750/12237 [07:18<05:59, 23.62it/s]"
     ]
    },
    {
     "name": "stdout",
     "output_type": "stream",
     "text": [
      "Text could not be extracted test_03753.pdf\n",
      "Text could not be extracted test_03755.pdf\n",
      "Text could not be extracted test_03756.pdf\n",
      "Text could not be extracted test_03758.pdf\n"
     ]
    },
    {
     "name": "stderr",
     "output_type": "stream",
     "text": [
      " 31%|███       | 3756/12237 [07:18<06:49, 20.69it/s]"
     ]
    },
    {
     "name": "stdout",
     "output_type": "stream",
     "text": [
      "Text could not be extracted test_03761.pdf\n",
      "Text could not be extracted test_03764.pdf\n",
      "Text could not be extracted test_03765.pdf\n"
     ]
    },
    {
     "name": "stderr",
     "output_type": "stream",
     "text": [
      "\r",
      " 31%|███       | 3760/12237 [07:18<06:45, 20.92it/s]"
     ]
    },
    {
     "name": "stdout",
     "output_type": "stream",
     "text": [
      "Text could not be extracted test_03767.pdf\n",
      "Text could not be extracted test_03769.pdf\n"
     ]
    },
    {
     "name": "stderr",
     "output_type": "stream",
     "text": [
      " 31%|███       | 3772/12237 [07:20<10:44, 13.14it/s]"
     ]
    },
    {
     "name": "stdout",
     "output_type": "stream",
     "text": [
      "Text could not be extracted test_03777.pdf\n",
      "Text could not be extracted test_03778.pdf\n"
     ]
    },
    {
     "name": "stderr",
     "output_type": "stream",
     "text": [
      "\r",
      " 31%|███       | 3775/12237 [07:20<09:28, 14.89it/s]"
     ]
    },
    {
     "name": "stdout",
     "output_type": "stream",
     "text": [
      "Text could not be extracted test_03782.pdf\n",
      "Text could not be extracted test_03783.pdf\n"
     ]
    },
    {
     "name": "stderr",
     "output_type": "stream",
     "text": [
      " 31%|███       | 3785/12237 [07:20<08:02, 17.53it/s]"
     ]
    },
    {
     "name": "stdout",
     "output_type": "stream",
     "text": [
      "Text could not be extracted test_03789.pdf\n",
      "Text could not be extracted test_03790.pdf\n",
      "Text could not be extracted test_03791.pdf\n",
      "Text could not be extracted test_03792.pdf\n"
     ]
    },
    {
     "name": "stderr",
     "output_type": "stream",
     "text": [
      " 31%|███       | 3794/12237 [07:20<05:09, 27.32it/s]"
     ]
    },
    {
     "name": "stdout",
     "output_type": "stream",
     "text": [
      "Text could not be extracted test_03795.pdf\n",
      "Text could not be extracted test_03796.pdf\n",
      "Text could not be extracted test_03797.pdf\n",
      "Text could not be extracted test_03801.pdf\n",
      "Text could not be extracted test_03802.pdf\n"
     ]
    },
    {
     "name": "stderr",
     "output_type": "stream",
     "text": [
      "\r",
      " 31%|███       | 3798/12237 [07:21<04:52, 28.86it/s]"
     ]
    },
    {
     "name": "stdout",
     "output_type": "stream",
     "text": [
      "Text could not be extracted test_03804.pdf\n",
      "Text could not be extracted test_03809.pdf\n"
     ]
    },
    {
     "name": "stderr",
     "output_type": "stream",
     "text": [
      " 31%|███       | 3807/12237 [07:21<04:35, 30.60it/s]"
     ]
    },
    {
     "name": "stdout",
     "output_type": "stream",
     "text": [
      "Text could not be extracted test_03811.pdf\n"
     ]
    },
    {
     "name": "stderr",
     "output_type": "stream",
     "text": [
      " 31%|███       | 3815/12237 [07:21<04:59, 28.08it/s]"
     ]
    },
    {
     "name": "stdout",
     "output_type": "stream",
     "text": [
      "Text could not be extracted test_03817.pdf\n",
      "Text could not be extracted test_03822.pdf\n",
      "Text could not be extracted test_03823.pdf\n"
     ]
    },
    {
     "name": "stderr",
     "output_type": "stream",
     "text": [
      " 31%|███       | 3823/12237 [07:21<04:37, 30.30it/s]"
     ]
    },
    {
     "name": "stdout",
     "output_type": "stream",
     "text": [
      "Text could not be extracted test_03827.pdf\n",
      "Text could not be extracted test_03830.pdf\n",
      "Text could not be extracted test_03834.pdf\n",
      "Text could not be extracted test_03835.pdf\n"
     ]
    },
    {
     "name": "stderr",
     "output_type": "stream",
     "text": [
      " 31%|███▏      | 3832/12237 [07:22<04:37, 30.29it/s]"
     ]
    },
    {
     "name": "stdout",
     "output_type": "stream",
     "text": [
      "Text could not be extracted test_03838.pdf\n",
      "Text could not be extracted test_03840.pdf\n"
     ]
    },
    {
     "name": "stderr",
     "output_type": "stream",
     "text": [
      " 31%|███▏      | 3845/12237 [07:22<06:12, 22.53it/s]"
     ]
    },
    {
     "name": "stdout",
     "output_type": "stream",
     "text": [
      "Text could not be extracted test_03851.pdf\n"
     ]
    },
    {
     "name": "stderr",
     "output_type": "stream",
     "text": [
      " 31%|███▏      | 3852/12237 [07:23<05:57, 23.44it/s]"
     ]
    },
    {
     "name": "stdout",
     "output_type": "stream",
     "text": [
      "Text could not be extracted test_03857.pdf\n",
      "Text could not be extracted test_03862.pdf\n"
     ]
    },
    {
     "name": "stderr",
     "output_type": "stream",
     "text": [
      " 32%|███▏      | 3863/12237 [07:23<05:26, 25.66it/s]"
     ]
    },
    {
     "name": "stdout",
     "output_type": "stream",
     "text": [
      "Text could not be extracted test_03867.pdf\n",
      "Text could not be extracted test_03868.pdf\n",
      "Text could not be extracted test_03870.pdf\n",
      "Text could not be extracted test_03871.pdf\n"
     ]
    },
    {
     "name": "stderr",
     "output_type": "stream",
     "text": [
      " 32%|███▏      | 3871/12237 [07:23<04:42, 29.66it/s]"
     ]
    },
    {
     "name": "stdout",
     "output_type": "stream",
     "text": [
      "Text could not be extracted test_03875.pdf\n",
      "Text could not be extracted test_03876.pdf\n",
      "Text could not be extracted test_03877.pdf\n",
      "Text could not be extracted test_03878.pdf\n"
     ]
    },
    {
     "name": "stderr",
     "output_type": "stream",
     "text": [
      " 32%|███▏      | 3878/12237 [07:24<05:18, 26.25it/s]"
     ]
    },
    {
     "name": "stdout",
     "output_type": "stream",
     "text": [
      "Text could not be extracted test_03883.pdf\n",
      "Text could not be extracted test_03884.pdf\n",
      "Text could not be extracted test_03889.pdf\n"
     ]
    },
    {
     "name": "stderr",
     "output_type": "stream",
     "text": [
      " 32%|███▏      | 3901/12237 [07:24<04:19, 32.13it/s]"
     ]
    },
    {
     "name": "stdout",
     "output_type": "stream",
     "text": [
      "Text could not be extracted test_03903.pdf\n",
      "Text could not be extracted test_03905.pdf\n",
      "Text could not be extracted test_03908.pdf\n"
     ]
    },
    {
     "name": "stderr",
     "output_type": "stream",
     "text": [
      " 32%|███▏      | 3908/12237 [07:25<05:08, 27.01it/s]"
     ]
    },
    {
     "name": "stdout",
     "output_type": "stream",
     "text": [
      "Text could not be extracted test_03912.pdf\n",
      "Text could not be extracted test_03915.pdf\n",
      "Text could not be extracted test_03916.pdf\n"
     ]
    },
    {
     "name": "stderr",
     "output_type": "stream",
     "text": [
      " 32%|███▏      | 3914/12237 [07:25<04:58, 27.88it/s]"
     ]
    },
    {
     "name": "stdout",
     "output_type": "stream",
     "text": [
      "Text could not be extracted test_03917.pdf\n",
      "Text could not be extracted test_03921.pdf\n"
     ]
    },
    {
     "name": "stderr",
     "output_type": "stream",
     "text": [
      " 32%|███▏      | 3924/12237 [07:25<03:48, 36.46it/s]"
     ]
    },
    {
     "name": "stdout",
     "output_type": "stream",
     "text": [
      "Text could not be extracted test_03924.pdf\n",
      "Text could not be extracted test_03925.pdf\n",
      "Text could not be extracted test_03927.pdf\n",
      "Text could not be extracted test_03928.pdf\n",
      "Text could not be extracted test_03929.pdf\n",
      "Text could not be extracted test_03930.pdf\n",
      "Text could not be extracted test_03931.pdf\n",
      "Text could not be extracted test_03933.pdf\n",
      "Text could not be extracted test_03934.pdf\n"
     ]
    },
    {
     "name": "stderr",
     "output_type": "stream",
     "text": [
      " 32%|███▏      | 3932/12237 [07:25<04:32, 30.49it/s]"
     ]
    },
    {
     "name": "stdout",
     "output_type": "stream",
     "text": [
      "Text could not be extracted test_03936.pdf\n",
      "Text could not be extracted test_03938.pdf\n",
      "Text could not be extracted test_03939.pdf\n",
      "Text could not be extracted test_03940.pdf\n",
      "Text could not be extracted test_03941.pdf\n"
     ]
    },
    {
     "name": "stderr",
     "output_type": "stream",
     "text": [
      " 32%|███▏      | 3940/12237 [07:26<04:44, 29.18it/s]"
     ]
    },
    {
     "name": "stdout",
     "output_type": "stream",
     "text": [
      "Text could not be extracted test_03943.pdf\n",
      "Text could not be extracted test_03945.pdf\n",
      "Text could not be extracted test_03946.pdf\n"
     ]
    },
    {
     "name": "stderr",
     "output_type": "stream",
     "text": [
      "\r",
      " 32%|███▏      | 3944/12237 [07:26<04:25, 31.28it/s]"
     ]
    },
    {
     "name": "stdout",
     "output_type": "stream",
     "text": [
      "Text could not be extracted test_03950.pdf\n",
      "Text could not be extracted test_03952.pdf\n"
     ]
    },
    {
     "name": "stderr",
     "output_type": "stream",
     "text": [
      " 32%|███▏      | 3962/12237 [07:28<13:28, 10.24it/s]"
     ]
    },
    {
     "name": "stdout",
     "output_type": "stream",
     "text": [
      "Text could not be extracted test_03969.pdf\n"
     ]
    },
    {
     "name": "stderr",
     "output_type": "stream",
     "text": [
      " 32%|███▏      | 3966/12237 [07:28<13:09, 10.47it/s]"
     ]
    },
    {
     "name": "stdout",
     "output_type": "stream",
     "text": [
      "Text could not be extracted test_03972.pdf\n",
      "Text could not be extracted test_03973.pdf\n"
     ]
    },
    {
     "name": "stderr",
     "output_type": "stream",
     "text": [
      " 32%|███▏      | 3973/12237 [07:28<08:32, 16.11it/s]"
     ]
    },
    {
     "name": "stdout",
     "output_type": "stream",
     "text": [
      "Text could not be extracted test_03979.pdf\n",
      "Text could not be extracted test_03980.pdf\n",
      "Text could not be extracted test_03982.pdf\n"
     ]
    },
    {
     "name": "stderr",
     "output_type": "stream",
     "text": [
      " 33%|███▎      | 3994/12237 [07:29<05:03, 27.19it/s]"
     ]
    },
    {
     "name": "stdout",
     "output_type": "stream",
     "text": [
      "Text could not be extracted test_03997.pdf\n",
      "Text could not be extracted test_03998.pdf\n",
      "Text could not be extracted test_04002.pdf\n"
     ]
    },
    {
     "name": "stderr",
     "output_type": "stream",
     "text": [
      " 33%|███▎      | 4004/12237 [07:29<05:10, 26.49it/s]"
     ]
    },
    {
     "name": "stdout",
     "output_type": "stream",
     "text": [
      "Text could not be extracted test_04010.pdf\n",
      "Text could not be extracted test_04012.pdf\n"
     ]
    },
    {
     "name": "stderr",
     "output_type": "stream",
     "text": [
      " 33%|███▎      | 4017/12237 [07:30<05:37, 24.37it/s]"
     ]
    },
    {
     "name": "stdout",
     "output_type": "stream",
     "text": [
      "Text could not be extracted test_04023.pdf\n",
      "Text could not be extracted test_04025.pdf\n"
     ]
    },
    {
     "name": "stderr",
     "output_type": "stream",
     "text": [
      " 33%|███▎      | 4024/12237 [07:30<05:42, 24.01it/s]"
     ]
    },
    {
     "name": "stdout",
     "output_type": "stream",
     "text": [
      "Text could not be extracted test_04029.pdf\n",
      "Text could not be extracted test_04031.pdf\n",
      "Text could not be extracted test_04032.pdf\n"
     ]
    },
    {
     "name": "stderr",
     "output_type": "stream",
     "text": [
      " 33%|███▎      | 4036/12237 [07:31<06:36, 20.67it/s]"
     ]
    },
    {
     "name": "stdout",
     "output_type": "stream",
     "text": [
      "Text could not be extracted test_04043.pdf\n",
      "Text could not be extracted test_04044.pdf\n",
      "Text could not be extracted test_04046.pdf\n"
     ]
    },
    {
     "name": "stderr",
     "output_type": "stream",
     "text": [
      " 33%|███▎      | 4046/12237 [07:31<05:29, 24.85it/s]"
     ]
    },
    {
     "name": "stdout",
     "output_type": "stream",
     "text": [
      "Text could not be extracted test_04050.pdf\n",
      "Text could not be extracted test_04051.pdf\n"
     ]
    },
    {
     "name": "stderr",
     "output_type": "stream",
     "text": [
      " 33%|███▎      | 4075/12237 [07:32<04:03, 33.55it/s]"
     ]
    },
    {
     "name": "stdout",
     "output_type": "stream",
     "text": [
      "Text could not be extracted test_04077.pdf\n",
      "Text could not be extracted test_04078.pdf\n"
     ]
    },
    {
     "name": "stderr",
     "output_type": "stream",
     "text": [
      " 33%|███▎      | 4091/12237 [07:33<04:59, 27.22it/s]"
     ]
    },
    {
     "name": "stdout",
     "output_type": "stream",
     "text": [
      "Text could not be extracted test_04096.pdf\n",
      "Text could not be extracted test_04100.pdf\n"
     ]
    },
    {
     "name": "stderr",
     "output_type": "stream",
     "text": [
      " 33%|███▎      | 4097/12237 [07:33<05:45, 23.56it/s]"
     ]
    },
    {
     "name": "stdout",
     "output_type": "stream",
     "text": [
      "Text could not be extracted test_04102.pdf\n"
     ]
    },
    {
     "name": "stderr",
     "output_type": "stream",
     "text": [
      "\r",
      " 34%|███▎      | 4100/12237 [07:33<05:39, 23.96it/s]"
     ]
    },
    {
     "name": "stdout",
     "output_type": "stream",
     "text": [
      "Text could not be extracted test_04107.pdf\n",
      "Text could not be extracted test_04108.pdf\n"
     ]
    },
    {
     "name": "stderr",
     "output_type": "stream",
     "text": [
      " 34%|███▎      | 4113/12237 [07:34<08:52, 15.24it/s]"
     ]
    },
    {
     "name": "stdout",
     "output_type": "stream",
     "text": [
      "Text could not be extracted test_04119.pdf\n"
     ]
    },
    {
     "name": "stderr",
     "output_type": "stream",
     "text": [
      " 34%|███▎      | 4122/12237 [07:35<05:28, 24.72it/s]"
     ]
    },
    {
     "name": "stdout",
     "output_type": "stream",
     "text": [
      "Text could not be extracted test_04124.pdf\n",
      "Text could not be extracted test_04125.pdf\n",
      "Text could not be extracted test_04130.pdf\n"
     ]
    },
    {
     "name": "stderr",
     "output_type": "stream",
     "text": [
      " 34%|███▍      | 4134/12237 [07:35<04:18, 31.33it/s]"
     ]
    },
    {
     "name": "stdout",
     "output_type": "stream",
     "text": [
      "Text could not be extracted test_04137.pdf\n"
     ]
    },
    {
     "name": "stderr",
     "output_type": "stream",
     "text": [
      " 34%|███▍      | 4143/12237 [07:35<04:52, 27.66it/s]"
     ]
    },
    {
     "name": "stdout",
     "output_type": "stream",
     "text": [
      "Text could not be extracted test_04147.pdf\n",
      "Text could not be extracted test_04148.pdf\n",
      "Text could not be extracted test_04150.pdf\n"
     ]
    },
    {
     "name": "stderr",
     "output_type": "stream",
     "text": [
      " 34%|███▍      | 4150/12237 [07:35<04:33, 29.62it/s]"
     ]
    },
    {
     "name": "stdout",
     "output_type": "stream",
     "text": [
      "Text could not be extracted test_04158.pdf\n"
     ]
    },
    {
     "name": "stderr",
     "output_type": "stream",
     "text": [
      " 34%|███▍      | 4158/12237 [07:36<05:14, 25.72it/s]"
     ]
    },
    {
     "name": "stdout",
     "output_type": "stream",
     "text": [
      "Text could not be extracted test_04163.pdf\n",
      "Text could not be extracted test_04164.pdf\n",
      "Text could not be extracted test_04168.pdf\n"
     ]
    },
    {
     "name": "stderr",
     "output_type": "stream",
     "text": [
      "\r",
      " 34%|███▍      | 4161/12237 [07:36<05:16, 25.51it/s]"
     ]
    },
    {
     "name": "stdout",
     "output_type": "stream",
     "text": [
      "Text could not be extracted test_04170.pdf\n"
     ]
    },
    {
     "name": "stderr",
     "output_type": "stream",
     "text": [
      " 34%|███▍      | 4171/12237 [07:37<07:20, 18.32it/s]"
     ]
    },
    {
     "name": "stdout",
     "output_type": "stream",
     "text": [
      "Text could not be extracted test_04175.pdf\n",
      "Text could not be extracted test_04177.pdf\n",
      "Text could not be extracted test_04180.pdf\n"
     ]
    },
    {
     "name": "stderr",
     "output_type": "stream",
     "text": [
      " 34%|███▍      | 4179/12237 [07:37<07:18, 18.38it/s]"
     ]
    },
    {
     "name": "stdout",
     "output_type": "stream",
     "text": [
      "Text could not be extracted test_04185.pdf\n",
      "Text could not be extracted test_04186.pdf\n"
     ]
    },
    {
     "name": "stderr",
     "output_type": "stream",
     "text": [
      " 34%|███▍      | 4197/12237 [07:38<08:27, 15.83it/s]"
     ]
    },
    {
     "name": "stdout",
     "output_type": "stream",
     "text": [
      "Text could not be extracted test_04203.pdf\n",
      "Text could not be extracted test_04207.pdf\n",
      "Text could not be extracted test_04209.pdf\n"
     ]
    },
    {
     "name": "stderr",
     "output_type": "stream",
     "text": [
      " 34%|███▍      | 4207/12237 [07:41<26:13,  5.10it/s]"
     ]
    },
    {
     "name": "stdout",
     "output_type": "stream",
     "text": [
      "Text could not be extracted test_04214.pdf\n"
     ]
    },
    {
     "name": "stderr",
     "output_type": "stream",
     "text": [
      " 35%|███▍      | 4225/12237 [07:45<13:50,  9.64it/s]"
     ]
    },
    {
     "name": "stdout",
     "output_type": "stream",
     "text": [
      "Text could not be extracted test_04230.pdf\n",
      "Text could not be extracted test_04235.pdf\n"
     ]
    },
    {
     "name": "stderr",
     "output_type": "stream",
     "text": [
      " 35%|███▍      | 4234/12237 [07:45<07:12, 18.50it/s]"
     ]
    },
    {
     "name": "stdout",
     "output_type": "stream",
     "text": [
      "Text could not be extracted test_04238.pdf\n"
     ]
    },
    {
     "name": "stderr",
     "output_type": "stream",
     "text": [
      " 35%|███▍      | 4245/12237 [07:46<07:50, 16.97it/s]"
     ]
    },
    {
     "name": "stdout",
     "output_type": "stream",
     "text": [
      "Text could not be extracted test_04253.pdf\n"
     ]
    },
    {
     "name": "stderr",
     "output_type": "stream",
     "text": [
      " 35%|███▍      | 4250/12237 [07:46<08:36, 15.46it/s]"
     ]
    },
    {
     "name": "stdout",
     "output_type": "stream",
     "text": [
      "Text could not be extracted test_04256.pdf\n"
     ]
    },
    {
     "name": "stderr",
     "output_type": "stream",
     "text": [
      " 35%|███▍      | 4259/12237 [07:47<07:45, 17.13it/s]"
     ]
    },
    {
     "name": "stdout",
     "output_type": "stream",
     "text": [
      "Text could not be extracted test_04265.pdf\n",
      "Text could not be extracted test_04266.pdf\n"
     ]
    },
    {
     "name": "stderr",
     "output_type": "stream",
     "text": [
      " 35%|███▍      | 4264/12237 [07:47<06:49, 19.46it/s]"
     ]
    },
    {
     "name": "stdout",
     "output_type": "stream",
     "text": [
      "Text could not be extracted test_04269.pdf\n",
      "Text could not be extracted test_04270.pdf\n",
      "Text could not be extracted test_04271.pdf\n",
      "Text could not be extracted test_04272.pdf\n",
      "Text could not be extracted test_04273.pdf\n"
     ]
    },
    {
     "name": "stderr",
     "output_type": "stream",
     "text": [
      " 35%|███▍      | 4270/12237 [07:47<07:22, 18.02it/s]"
     ]
    },
    {
     "name": "stdout",
     "output_type": "stream",
     "text": [
      "Text could not be extracted test_04275.pdf\n"
     ]
    },
    {
     "name": "stderr",
     "output_type": "stream",
     "text": [
      " 35%|███▍      | 4277/12237 [07:47<05:18, 24.99it/s]"
     ]
    },
    {
     "name": "stdout",
     "output_type": "stream",
     "text": [
      "Text could not be extracted test_04280.pdf\n"
     ]
    },
    {
     "name": "stderr",
     "output_type": "stream",
     "text": [
      " 35%|███▌      | 4322/12237 [08:00<27:16,  4.84it/s]  "
     ]
    },
    {
     "name": "stdout",
     "output_type": "stream",
     "text": [
      "Text could not be extracted test_04328.pdf\n",
      "Text could not be extracted test_04329.pdf\n"
     ]
    },
    {
     "name": "stderr",
     "output_type": "stream",
     "text": [
      " 35%|███▌      | 4329/12237 [08:00<12:01, 10.96it/s]"
     ]
    },
    {
     "name": "stdout",
     "output_type": "stream",
     "text": [
      "Text could not be extracted test_04333.pdf\n",
      "Text could not be extracted test_04334.pdf\n"
     ]
    },
    {
     "name": "stderr",
     "output_type": "stream",
     "text": [
      " 36%|███▌      | 4345/12237 [08:01<05:37, 23.35it/s]"
     ]
    },
    {
     "name": "stdout",
     "output_type": "stream",
     "text": [
      "Text could not be extracted test_04347.pdf\n",
      "Text could not be extracted test_04351.pdf\n"
     ]
    },
    {
     "name": "stderr",
     "output_type": "stream",
     "text": [
      " 36%|███▌      | 4360/12237 [08:02<05:31, 23.74it/s]"
     ]
    },
    {
     "name": "stdout",
     "output_type": "stream",
     "text": [
      "Text could not be extracted test_04364.pdf\n"
     ]
    },
    {
     "name": "stderr",
     "output_type": "stream",
     "text": [
      "\r",
      " 36%|███▌      | 4363/12237 [08:02<05:34, 23.56it/s]"
     ]
    },
    {
     "name": "stdout",
     "output_type": "stream",
     "text": [
      "Text could not be extracted test_04370.pdf\n",
      "Text could not be extracted test_04371.pdf\n"
     ]
    },
    {
     "name": "stderr",
     "output_type": "stream",
     "text": [
      " 36%|███▌      | 4377/12237 [08:03<06:15, 20.95it/s]"
     ]
    },
    {
     "name": "stdout",
     "output_type": "stream",
     "text": [
      "Text could not be extracted test_04380.pdf\n",
      "Text could not be extracted test_04381.pdf\n",
      "Text could not be extracted test_04382.pdf\n",
      "Text could not be extracted test_04383.pdf\n",
      "Text could not be extracted test_04384.pdf\n",
      "Text could not be extracted test_04386.pdf\n",
      "Text could not be extracted test_04387.pdf\n"
     ]
    },
    {
     "name": "stderr",
     "output_type": "stream",
     "text": [
      " 36%|███▌      | 4401/12237 [08:05<10:26, 12.51it/s]"
     ]
    },
    {
     "name": "stdout",
     "output_type": "stream",
     "text": [
      "Text could not be extracted test_04407.pdf\n"
     ]
    },
    {
     "name": "stderr",
     "output_type": "stream",
     "text": [
      " 38%|███▊      | 4590/12237 [08:30<30:02,  4.24it/s]  "
     ]
    },
    {
     "name": "stdout",
     "output_type": "stream",
     "text": [
      "Text could not be extracted test_04600.pdf\n"
     ]
    },
    {
     "name": "stderr",
     "output_type": "stream",
     "text": [
      " 38%|███▊      | 4635/12237 [08:34<06:58, 18.17it/s]"
     ]
    },
    {
     "name": "stdout",
     "output_type": "stream",
     "text": [
      "Text could not be extracted test_04637.pdf\n"
     ]
    },
    {
     "name": "stderr",
     "output_type": "stream",
     "text": [
      "\r",
      " 38%|███▊      | 4639/12237 [08:35<09:48, 12.91it/s]"
     ]
    },
    {
     "name": "stdout",
     "output_type": "stream",
     "text": [
      "Text could not be extracted test_04646.pdf\n"
     ]
    },
    {
     "name": "stderr",
     "output_type": "stream",
     "text": [
      " 38%|███▊      | 4652/12237 [08:36<08:54, 14.19it/s]"
     ]
    },
    {
     "name": "stdout",
     "output_type": "stream",
     "text": [
      "Text could not be extracted test_04657.pdf\n"
     ]
    },
    {
     "name": "stderr",
     "output_type": "stream",
     "text": [
      " 38%|███▊      | 4666/12237 [08:37<09:43, 12.97it/s]"
     ]
    },
    {
     "name": "stdout",
     "output_type": "stream",
     "text": [
      "Text could not be extracted test_04675.pdf\n"
     ]
    },
    {
     "name": "stderr",
     "output_type": "stream",
     "text": [
      " 38%|███▊      | 4677/12237 [08:38<07:15, 17.35it/s]"
     ]
    },
    {
     "name": "stdout",
     "output_type": "stream",
     "text": [
      "Text could not be extracted test_04679.pdf\n"
     ]
    },
    {
     "name": "stderr",
     "output_type": "stream",
     "text": [
      " 38%|███▊      | 4690/12237 [08:38<05:57, 21.09it/s]"
     ]
    },
    {
     "name": "stdout",
     "output_type": "stream",
     "text": [
      "Text could not be extracted test_04693.pdf\n"
     ]
    },
    {
     "name": "stderr",
     "output_type": "stream",
     "text": [
      " 38%|███▊      | 4696/12237 [08:39<05:54, 21.24it/s]"
     ]
    },
    {
     "name": "stdout",
     "output_type": "stream",
     "text": [
      "Text could not be extracted test_04703.pdf\n"
     ]
    },
    {
     "name": "stderr",
     "output_type": "stream",
     "text": [
      " 40%|███▉      | 4879/12237 [08:47<04:44, 25.82it/s]"
     ]
    },
    {
     "name": "stdout",
     "output_type": "stream",
     "text": [
      "Text could not be extracted test_04882.pdf\n"
     ]
    },
    {
     "name": "stderr",
     "output_type": "stream",
     "text": [
      " 41%|████      | 4960/12237 [08:50<03:43, 32.60it/s]"
     ]
    },
    {
     "name": "stdout",
     "output_type": "stream",
     "text": [
      "Text could not be extracted test_04963.pdf\n",
      "Text could not be extracted test_04968.pdf\n"
     ]
    },
    {
     "name": "stderr",
     "output_type": "stream",
     "text": [
      " 41%|████      | 4978/12237 [08:51<03:47, 31.96it/s]"
     ]
    },
    {
     "name": "stdout",
     "output_type": "stream",
     "text": [
      "Text could not be extracted test_04982.pdf\n"
     ]
    },
    {
     "name": "stderr",
     "output_type": "stream",
     "text": [
      " 41%|████      | 4999/12237 [08:51<03:51, 31.29it/s]"
     ]
    },
    {
     "name": "stdout",
     "output_type": "stream",
     "text": [
      "Text could not be extracted test_05005.pdf\n"
     ]
    },
    {
     "name": "stderr",
     "output_type": "stream",
     "text": [
      " 41%|████▏     | 5050/12237 [08:53<04:43, 25.36it/s]"
     ]
    },
    {
     "name": "stdout",
     "output_type": "stream",
     "text": [
      "Text could not be extracted test_05053.pdf\n"
     ]
    },
    {
     "name": "stderr",
     "output_type": "stream",
     "text": [
      " 41%|████▏     | 5065/12237 [08:53<03:43, 32.08it/s]"
     ]
    },
    {
     "name": "stdout",
     "output_type": "stream",
     "text": [
      "Text could not be extracted test_05066.pdf\n",
      "Text could not be extracted test_05067.pdf\n"
     ]
    },
    {
     "name": "stderr",
     "output_type": "stream",
     "text": [
      " 42%|████▏     | 5141/12237 [09:00<05:34, 21.20it/s]"
     ]
    },
    {
     "name": "stdout",
     "output_type": "stream",
     "text": [
      "Text could not be extracted test_05144.pdf\n"
     ]
    },
    {
     "name": "stderr",
     "output_type": "stream",
     "text": [
      " 42%|████▏     | 5187/12237 [09:02<04:11, 28.04it/s]"
     ]
    },
    {
     "name": "stdout",
     "output_type": "stream",
     "text": [
      "Text could not be extracted test_05193.pdf\n"
     ]
    },
    {
     "name": "stderr",
     "output_type": "stream",
     "text": [
      " 45%|████▍     | 5495/12237 [09:13<03:07, 36.00it/s]"
     ]
    },
    {
     "name": "stdout",
     "output_type": "stream",
     "text": [
      "Text could not be extracted test_05499.pdf\n",
      "Text could not be extracted test_05503.pdf\n"
     ]
    },
    {
     "name": "stderr",
     "output_type": "stream",
     "text": [
      " 45%|████▌     | 5517/12237 [09:14<06:25, 17.43it/s]"
     ]
    },
    {
     "name": "stdout",
     "output_type": "stream",
     "text": [
      "Text could not be extracted test_05521.pdf\n",
      "Text could not be extracted test_05525.pdf\n"
     ]
    },
    {
     "name": "stderr",
     "output_type": "stream",
     "text": [
      " 45%|████▌     | 5530/12237 [09:15<05:06, 21.89it/s]"
     ]
    },
    {
     "name": "stdout",
     "output_type": "stream",
     "text": [
      "Text could not be extracted test_05534.pdf\n",
      "Text could not be extracted test_05537.pdf\n"
     ]
    },
    {
     "name": "stderr",
     "output_type": "stream",
     "text": [
      " 45%|████▌     | 5546/12237 [09:16<06:10, 18.08it/s]"
     ]
    },
    {
     "name": "stdout",
     "output_type": "stream",
     "text": [
      "Text could not be extracted test_05554.pdf\n"
     ]
    },
    {
     "name": "stderr",
     "output_type": "stream",
     "text": [
      " 47%|████▋     | 5693/12237 [09:22<03:14, 33.60it/s]"
     ]
    },
    {
     "name": "stdout",
     "output_type": "stream",
     "text": [
      "Text could not be extracted test_05695.pdf\n"
     ]
    },
    {
     "name": "stderr",
     "output_type": "stream",
     "text": [
      " 47%|████▋     | 5706/12237 [09:23<05:37, 19.33it/s]"
     ]
    },
    {
     "name": "stdout",
     "output_type": "stream",
     "text": [
      "Text could not be extracted test_05709.pdf\n",
      "Text could not be extracted test_05713.pdf\n"
     ]
    },
    {
     "name": "stderr",
     "output_type": "stream",
     "text": [
      " 47%|████▋     | 5716/12237 [09:23<03:54, 27.80it/s]"
     ]
    },
    {
     "name": "stdout",
     "output_type": "stream",
     "text": [
      "Text could not be extracted test_05721.pdf\n"
     ]
    },
    {
     "name": "stderr",
     "output_type": "stream",
     "text": [
      " 47%|████▋     | 5752/12237 [09:25<05:30, 19.63it/s]"
     ]
    },
    {
     "name": "stdout",
     "output_type": "stream",
     "text": [
      "Text could not be extracted test_05756.pdf\n",
      "Text could not be extracted test_05762.pdf\n"
     ]
    },
    {
     "name": "stderr",
     "output_type": "stream",
     "text": [
      " 47%|████▋     | 5801/12237 [09:32<05:21, 20.00it/s]"
     ]
    },
    {
     "name": "stdout",
     "output_type": "stream",
     "text": [
      "Text could not be extracted test_05804.pdf\n"
     ]
    },
    {
     "name": "stderr",
     "output_type": "stream",
     "text": [
      " 48%|████▊     | 5817/12237 [09:32<04:35, 23.29it/s]"
     ]
    },
    {
     "name": "stdout",
     "output_type": "stream",
     "text": [
      "Text could not be extracted test_05824.pdf\n"
     ]
    },
    {
     "name": "stderr",
     "output_type": "stream",
     "text": [
      " 48%|████▊     | 5831/12237 [09:33<05:15, 20.29it/s]"
     ]
    },
    {
     "name": "stdout",
     "output_type": "stream",
     "text": [
      "Text could not be extracted test_05834.pdf\n",
      "Text could not be extracted test_05837.pdf\n"
     ]
    },
    {
     "name": "stderr",
     "output_type": "stream",
     "text": [
      " 48%|████▊     | 5847/12237 [09:34<04:06, 25.95it/s]"
     ]
    },
    {
     "name": "stdout",
     "output_type": "stream",
     "text": [
      "Text could not be extracted test_05851.pdf\n",
      "Text could not be extracted test_05854.pdf\n"
     ]
    },
    {
     "name": "stderr",
     "output_type": "stream",
     "text": [
      " 49%|████▉     | 5984/12237 [09:40<04:17, 24.28it/s]"
     ]
    },
    {
     "name": "stdout",
     "output_type": "stream",
     "text": [
      "Text could not be extracted test_05987.pdf\n"
     ]
    },
    {
     "name": "stderr",
     "output_type": "stream",
     "text": [
      " 49%|████▉     | 6030/12237 [09:42<04:25, 23.34it/s]"
     ]
    },
    {
     "name": "stdout",
     "output_type": "stream",
     "text": [
      "Text could not be extracted test_06035.pdf\n"
     ]
    },
    {
     "name": "stderr",
     "output_type": "stream",
     "text": [
      " 49%|████▉     | 6041/12237 [09:43<03:27, 29.80it/s]"
     ]
    },
    {
     "name": "stdout",
     "output_type": "stream",
     "text": [
      "Text could not be extracted test_06045.pdf\n",
      "Text could not be extracted test_06047.pdf\n"
     ]
    },
    {
     "name": "stderr",
     "output_type": "stream",
     "text": [
      " 50%|████▉     | 6064/12237 [09:44<04:08, 24.87it/s]"
     ]
    },
    {
     "name": "stdout",
     "output_type": "stream",
     "text": [
      "Text could not be extracted test_06068.pdf\n",
      "Text could not be extracted test_06070.pdf\n"
     ]
    },
    {
     "name": "stderr",
     "output_type": "stream",
     "text": [
      " 50%|█████     | 6126/12237 [09:46<03:36, 28.20it/s]"
     ]
    },
    {
     "name": "stdout",
     "output_type": "stream",
     "text": [
      "Text could not be extracted test_06129.pdf\n"
     ]
    },
    {
     "name": "stderr",
     "output_type": "stream",
     "text": [
      " 51%|█████     | 6209/12237 [09:49<05:47, 17.32it/s]"
     ]
    },
    {
     "name": "stdout",
     "output_type": "stream",
     "text": [
      "Text could not be extracted test_06216.pdf\n"
     ]
    },
    {
     "name": "stderr",
     "output_type": "stream",
     "text": [
      " 51%|█████▏    | 6279/12237 [09:53<04:48, 20.65it/s]"
     ]
    },
    {
     "name": "stdout",
     "output_type": "stream",
     "text": [
      "Text could not be extracted test_06285.pdf\n"
     ]
    },
    {
     "name": "stderr",
     "output_type": "stream",
     "text": [
      " 52%|█████▏    | 6319/12237 [09:55<03:05, 31.87it/s]"
     ]
    },
    {
     "name": "stdout",
     "output_type": "stream",
     "text": [
      "Text could not be extracted test_06324.pdf\n"
     ]
    },
    {
     "name": "stderr",
     "output_type": "stream",
     "text": [
      " 52%|█████▏    | 6343/12237 [09:56<05:37, 17.45it/s]"
     ]
    },
    {
     "name": "stdout",
     "output_type": "stream",
     "text": [
      "Text could not be extracted test_06347.pdf\n"
     ]
    },
    {
     "name": "stderr",
     "output_type": "stream",
     "text": [
      " 52%|█████▏    | 6351/12237 [09:56<04:09, 23.62it/s]"
     ]
    },
    {
     "name": "stdout",
     "output_type": "stream",
     "text": [
      "Text could not be extracted test_06353.pdf\n"
     ]
    },
    {
     "name": "stderr",
     "output_type": "stream",
     "text": [
      " 52%|█████▏    | 6366/12237 [09:58<07:37, 12.83it/s]"
     ]
    },
    {
     "name": "stdout",
     "output_type": "stream",
     "text": [
      "Text could not be extracted test_06371.pdf\n",
      "Text could not be extracted test_06372.pdf\n",
      "Text could not be extracted test_06373.pdf\n",
      "Text could not be extracted test_06374.pdf\n"
     ]
    },
    {
     "name": "stderr",
     "output_type": "stream",
     "text": [
      " 52%|█████▏    | 6372/12237 [10:00<17:35,  5.56it/s]"
     ]
    },
    {
     "name": "stdout",
     "output_type": "stream",
     "text": [
      "Text could not be extracted test_06376.pdf\n"
     ]
    },
    {
     "name": "stderr",
     "output_type": "stream",
     "text": [
      " 52%|█████▏    | 6382/12237 [10:00<08:17, 11.78it/s]"
     ]
    },
    {
     "name": "stdout",
     "output_type": "stream",
     "text": [
      "Text could not be extracted test_06388.pdf\n"
     ]
    },
    {
     "name": "stderr",
     "output_type": "stream",
     "text": [
      " 52%|█████▏    | 6391/12237 [10:01<05:28, 17.81it/s]"
     ]
    },
    {
     "name": "stdout",
     "output_type": "stream",
     "text": [
      "Text could not be extracted test_06394.pdf\n",
      "Text could not be extracted test_06395.pdf\n",
      "Text could not be extracted test_06396.pdf\n"
     ]
    },
    {
     "name": "stderr",
     "output_type": "stream",
     "text": [
      " 52%|█████▏    | 6399/12237 [10:01<03:59, 24.39it/s]"
     ]
    },
    {
     "name": "stdout",
     "output_type": "stream",
     "text": [
      "Text could not be extracted test_06401.pdf\n"
     ]
    },
    {
     "name": "stderr",
     "output_type": "stream",
     "text": [
      " 52%|█████▏    | 6407/12237 [10:01<03:31, 27.58it/s]"
     ]
    },
    {
     "name": "stdout",
     "output_type": "stream",
     "text": [
      "Text could not be extracted test_06413.pdf\n",
      "Text could not be extracted test_06414.pdf\n",
      "Text could not be extracted test_06417.pdf\n"
     ]
    },
    {
     "name": "stderr",
     "output_type": "stream",
     "text": [
      " 52%|█████▏    | 6415/12237 [10:02<03:29, 27.78it/s]"
     ]
    },
    {
     "name": "stdout",
     "output_type": "stream",
     "text": [
      "Text could not be extracted test_06418.pdf\n"
     ]
    },
    {
     "name": "stderr",
     "output_type": "stream",
     "text": [
      " 52%|█████▏    | 6423/12237 [10:02<03:10, 30.57it/s]"
     ]
    },
    {
     "name": "stdout",
     "output_type": "stream",
     "text": [
      "Text could not be extracted test_06425.pdf\n"
     ]
    },
    {
     "name": "stderr",
     "output_type": "stream",
     "text": [
      " 54%|█████▍    | 6596/12237 [10:09<06:49, 13.76it/s]"
     ]
    },
    {
     "name": "stdout",
     "output_type": "stream",
     "text": [
      "Text could not be extracted test_06599.pdf\n"
     ]
    },
    {
     "name": "stderr",
     "output_type": "stream",
     "text": [
      " 54%|█████▍    | 6619/12237 [10:10<03:36, 25.98it/s]"
     ]
    },
    {
     "name": "stdout",
     "output_type": "stream",
     "text": [
      "Text could not be extracted test_06625.pdf\n"
     ]
    },
    {
     "name": "stderr",
     "output_type": "stream",
     "text": [
      " 54%|█████▍    | 6664/12237 [10:13<03:37, 25.66it/s]"
     ]
    },
    {
     "name": "stdout",
     "output_type": "stream",
     "text": [
      "Text could not be extracted test_06669.pdf\n"
     ]
    },
    {
     "name": "stderr",
     "output_type": "stream",
     "text": [
      " 55%|█████▍    | 6676/12237 [10:14<03:16, 28.36it/s]"
     ]
    },
    {
     "name": "stdout",
     "output_type": "stream",
     "text": [
      "Text could not be extracted test_06681.pdf\n"
     ]
    },
    {
     "name": "stderr",
     "output_type": "stream",
     "text": [
      " 55%|█████▌    | 6732/12237 [10:15<02:39, 34.49it/s]"
     ]
    },
    {
     "name": "stdout",
     "output_type": "stream",
     "text": [
      "Text could not be extracted test_06739.pdf\n"
     ]
    },
    {
     "name": "stderr",
     "output_type": "stream",
     "text": [
      " 56%|█████▌    | 6820/12237 [10:19<03:17, 27.39it/s]"
     ]
    },
    {
     "name": "stdout",
     "output_type": "stream",
     "text": [
      "Text could not be extracted test_06822.pdf\n"
     ]
    },
    {
     "name": "stderr",
     "output_type": "stream",
     "text": [
      " 56%|█████▌    | 6858/12237 [10:21<04:27, 20.10it/s]"
     ]
    },
    {
     "name": "stdout",
     "output_type": "stream",
     "text": [
      "Text could not be extracted test_06862.pdf\n"
     ]
    },
    {
     "name": "stderr",
     "output_type": "stream",
     "text": [
      " 56%|█████▌    | 6877/12237 [10:22<05:08, 17.39it/s]"
     ]
    },
    {
     "name": "stdout",
     "output_type": "stream",
     "text": [
      "Text could not be extracted test_06882.pdf\n"
     ]
    },
    {
     "name": "stderr",
     "output_type": "stream",
     "text": [
      " 56%|█████▌    | 6883/12237 [10:23<04:25, 20.16it/s]"
     ]
    },
    {
     "name": "stdout",
     "output_type": "stream",
     "text": [
      "Text could not be extracted test_06891.pdf\n"
     ]
    },
    {
     "name": "stderr",
     "output_type": "stream",
     "text": [
      " 62%|██████▏   | 7542/12237 [10:56<04:35, 17.04it/s]"
     ]
    },
    {
     "name": "stdout",
     "output_type": "stream",
     "text": [
      "Text could not be extracted test_07547.pdf\n"
     ]
    },
    {
     "name": "stderr",
     "output_type": "stream",
     "text": [
      " 62%|██████▏   | 7556/12237 [10:56<02:35, 30.01it/s]"
     ]
    },
    {
     "name": "stdout",
     "output_type": "stream",
     "text": [
      "Text could not be extracted test_07556.pdf\n",
      "Text could not be extracted test_07563.pdf\n"
     ]
    },
    {
     "name": "stderr",
     "output_type": "stream",
     "text": [
      " 62%|██████▏   | 7648/12237 [11:00<02:24, 31.79it/s]"
     ]
    },
    {
     "name": "stdout",
     "output_type": "stream",
     "text": [
      "Text could not be extracted test_07652.pdf\n"
     ]
    },
    {
     "name": "stderr",
     "output_type": "stream",
     "text": [
      " 63%|██████▎   | 7656/12237 [11:00<02:31, 30.26it/s]"
     ]
    },
    {
     "name": "stdout",
     "output_type": "stream",
     "text": [
      "Text could not be extracted test_07659.pdf\n"
     ]
    },
    {
     "name": "stderr",
     "output_type": "stream",
     "text": [
      " 63%|██████▎   | 7668/12237 [11:00<02:21, 32.33it/s]"
     ]
    },
    {
     "name": "stdout",
     "output_type": "stream",
     "text": [
      "Text could not be extracted test_07671.pdf\n"
     ]
    },
    {
     "name": "stderr",
     "output_type": "stream",
     "text": [
      " 63%|██████▎   | 7710/12237 [11:02<03:10, 23.82it/s]"
     ]
    },
    {
     "name": "stdout",
     "output_type": "stream",
     "text": [
      "Text could not be extracted test_07714.pdf\n"
     ]
    },
    {
     "name": "stderr",
     "output_type": "stream",
     "text": [
      " 64%|██████▍   | 7809/12237 [11:07<02:44, 26.89it/s]"
     ]
    },
    {
     "name": "stdout",
     "output_type": "stream",
     "text": [
      "Text could not be extracted test_07815.pdf\n"
     ]
    },
    {
     "name": "stderr",
     "output_type": "stream",
     "text": [
      " 64%|██████▍   | 7881/12237 [11:10<02:38, 27.47it/s]"
     ]
    },
    {
     "name": "stdout",
     "output_type": "stream",
     "text": [
      "Text could not be extracted test_07888.pdf\n"
     ]
    },
    {
     "name": "stderr",
     "output_type": "stream",
     "text": [
      " 65%|██████▌   | 7973/12237 [11:14<02:48, 25.36it/s]"
     ]
    },
    {
     "name": "stdout",
     "output_type": "stream",
     "text": [
      "Text could not be extracted test_07975.pdf\n"
     ]
    },
    {
     "name": "stderr",
     "output_type": "stream",
     "text": [
      " 65%|██████▌   | 7997/12237 [11:15<02:39, 26.63it/s]"
     ]
    },
    {
     "name": "stdout",
     "output_type": "stream",
     "text": [
      "Text could not be extracted test_08006.pdf\n"
     ]
    },
    {
     "name": "stderr",
     "output_type": "stream",
     "text": [
      " 66%|██████▌   | 8042/12237 [11:17<02:22, 29.39it/s]"
     ]
    },
    {
     "name": "stdout",
     "output_type": "stream",
     "text": [
      "Text could not be extracted test_08044.pdf\n",
      "Text could not be extracted test_08046.pdf\n"
     ]
    },
    {
     "name": "stderr",
     "output_type": "stream",
     "text": [
      " 66%|██████▋   | 8127/12237 [11:21<04:12, 16.28it/s]"
     ]
    },
    {
     "name": "stdout",
     "output_type": "stream",
     "text": [
      "Text could not be extracted test_08132.pdf\n"
     ]
    },
    {
     "name": "stderr",
     "output_type": "stream",
     "text": [
      " 67%|██████▋   | 8193/12237 [11:25<02:09, 31.34it/s]"
     ]
    },
    {
     "name": "stdout",
     "output_type": "stream",
     "text": [
      "Text could not be extracted test_08197.pdf\n"
     ]
    },
    {
     "name": "stderr",
     "output_type": "stream",
     "text": [
      " 69%|██████▊   | 8392/12237 [11:33<02:36, 24.56it/s]"
     ]
    },
    {
     "name": "stdout",
     "output_type": "stream",
     "text": [
      "Text could not be extracted test_08398.pdf\n"
     ]
    },
    {
     "name": "stderr",
     "output_type": "stream",
     "text": [
      " 69%|██████▉   | 8419/12237 [11:34<02:29, 25.60it/s]"
     ]
    },
    {
     "name": "stdout",
     "output_type": "stream",
     "text": [
      "Text could not be extracted test_08423.pdf\n"
     ]
    },
    {
     "name": "stderr",
     "output_type": "stream",
     "text": [
      " 69%|██████▉   | 8428/12237 [11:34<01:57, 32.30it/s]"
     ]
    },
    {
     "name": "stdout",
     "output_type": "stream",
     "text": [
      "Text could not be extracted test_08431.pdf\n"
     ]
    },
    {
     "name": "stderr",
     "output_type": "stream",
     "text": [
      " 71%|███████   | 8681/12237 [11:43<02:10, 27.15it/s]"
     ]
    },
    {
     "name": "stdout",
     "output_type": "stream",
     "text": [
      "Text could not be extracted test_08684.pdf\n"
     ]
    },
    {
     "name": "stderr",
     "output_type": "stream",
     "text": [
      " 75%|███████▍  | 9124/12237 [11:59<01:28, 35.08it/s]"
     ]
    },
    {
     "name": "stdout",
     "output_type": "stream",
     "text": [
      "Text could not be extracted test_09127.pdf\n"
     ]
    },
    {
     "name": "stderr",
     "output_type": "stream",
     "text": [
      " 76%|███████▌  | 9249/12237 [12:03<01:30, 32.95it/s]"
     ]
    },
    {
     "name": "stdout",
     "output_type": "stream",
     "text": [
      "Text could not be extracted test_09252.pdf\n"
     ]
    },
    {
     "name": "stderr",
     "output_type": "stream",
     "text": [
      " 78%|███████▊  | 9605/12237 [12:14<01:20, 32.50it/s]"
     ]
    },
    {
     "name": "stdout",
     "output_type": "stream",
     "text": [
      "Text could not be extracted test_09608.pdf\n"
     ]
    },
    {
     "name": "stderr",
     "output_type": "stream",
     "text": [
      " 81%|████████  | 9875/12237 [12:23<01:14, 31.74it/s]"
     ]
    },
    {
     "name": "stdout",
     "output_type": "stream",
     "text": [
      "Text could not be extracted test_09876.pdf\n"
     ]
    },
    {
     "name": "stderr",
     "output_type": "stream",
     "text": [
      " 81%|████████  | 9932/12237 [12:25<01:51, 20.74it/s]"
     ]
    },
    {
     "name": "stdout",
     "output_type": "stream",
     "text": [
      "Text could not be extracted test_09933.pdf\n",
      "Text could not be extracted test_09936.pdf\n",
      "Text could not be extracted test_09937.pdf\n",
      "Text could not be extracted test_09938.pdf\n"
     ]
    },
    {
     "name": "stderr",
     "output_type": "stream",
     "text": [
      "\r",
      " 81%|████████  | 9936/12237 [12:26<01:53, 20.29it/s]"
     ]
    },
    {
     "name": "stdout",
     "output_type": "stream",
     "text": [
      "Text could not be extracted test_09941.pdf\n"
     ]
    },
    {
     "name": "stderr",
     "output_type": "stream",
     "text": [
      " 81%|████████▏ | 9960/12237 [12:27<01:23, 27.42it/s]"
     ]
    },
    {
     "name": "stdout",
     "output_type": "stream",
     "text": [
      "Text could not be extracted test_09961.pdf\n",
      "Text could not be extracted test_09962.pdf\n"
     ]
    },
    {
     "name": "stderr",
     "output_type": "stream",
     "text": [
      " 81%|████████▏ | 9973/12237 [12:30<04:57,  7.62it/s]"
     ]
    },
    {
     "name": "stdout",
     "output_type": "stream",
     "text": [
      "Text could not be extracted test_09976.pdf\n"
     ]
    },
    {
     "name": "stderr",
     "output_type": "stream",
     "text": [
      " 82%|████████▏ | 10063/12237 [12:34<01:15, 28.94it/s]"
     ]
    },
    {
     "name": "stdout",
     "output_type": "stream",
     "text": [
      "Text could not be extracted test_10068.pdf\n",
      "Text could not be extracted test_10071.pdf\n",
      "Text could not be extracted test_10072.pdf\n",
      "Text could not be extracted test_10073.pdf\n",
      "Text could not be extracted test_10074.pdf\n",
      "Text could not be extracted test_10075.pdf\n"
     ]
    },
    {
     "name": "stderr",
     "output_type": "stream",
     "text": [
      " 82%|████████▏ | 10084/12237 [12:39<06:45,  5.31it/s]"
     ]
    },
    {
     "name": "stdout",
     "output_type": "stream",
     "text": [
      "Text could not be extracted test_10085.pdf\n",
      "Text could not be extracted test_10086.pdf\n",
      "Text could not be extracted test_10088.pdf\n",
      "Text could not be extracted test_10091.pdf\n"
     ]
    },
    {
     "name": "stderr",
     "output_type": "stream",
     "text": [
      " 83%|████████▎ | 10096/12237 [12:39<03:03, 11.67it/s]"
     ]
    },
    {
     "name": "stdout",
     "output_type": "stream",
     "text": [
      "Text could not be extracted test_10101.pdf\n",
      "Text could not be extracted test_10103.pdf\n"
     ]
    },
    {
     "name": "stderr",
     "output_type": "stream",
     "text": [
      " 83%|████████▎ | 10120/12237 [12:56<09:04,  3.89it/s]"
     ]
    },
    {
     "name": "stdout",
     "output_type": "stream",
     "text": [
      "Text could not be extracted test_10121.pdf\n",
      "Text could not be extracted test_10122.pdf\n",
      "Text could not be extracted test_10124.pdf\n",
      "Text could not be extracted test_10125.pdf\n",
      "Text could not be extracted test_10126.pdf\n",
      "Text could not be extracted test_10127.pdf\n",
      "Text could not be extracted test_10128.pdf\n"
     ]
    },
    {
     "name": "stderr",
     "output_type": "stream",
     "text": [
      " 83%|████████▎ | 10128/12237 [12:56<04:10,  8.42it/s]"
     ]
    },
    {
     "name": "stdout",
     "output_type": "stream",
     "text": [
      "Text could not be extracted test_10129.pdf\n",
      "Text could not be extracted test_10130.pdf\n",
      "Text could not be extracted test_10132.pdf\n",
      "Text could not be extracted test_10133.pdf\n",
      "Text could not be extracted test_10134.pdf\n",
      "Text could not be extracted test_10135.pdf\n",
      "Text could not be extracted test_10136.pdf\n"
     ]
    },
    {
     "name": "stderr",
     "output_type": "stream",
     "text": [
      "\r",
      " 83%|████████▎ | 10133/12237 [12:56<02:57, 11.83it/s]"
     ]
    },
    {
     "name": "stdout",
     "output_type": "stream",
     "text": [
      "Text could not be extracted test_10137.pdf\n",
      "Text could not be extracted test_10139.pdf\n",
      "Text could not be extracted test_10140.pdf\n",
      "Text could not be extracted test_10141.pdf\n"
     ]
    },
    {
     "name": "stderr",
     "output_type": "stream",
     "text": [
      " 84%|████████▍ | 10313/12237 [13:20<03:04, 10.42it/s]"
     ]
    },
    {
     "name": "stdout",
     "output_type": "stream",
     "text": [
      "Text could not be extracted test_10322.pdf\n"
     ]
    },
    {
     "name": "stderr",
     "output_type": "stream",
     "text": [
      " 84%|████████▍ | 10322/12237 [13:21<02:30, 12.75it/s]"
     ]
    },
    {
     "name": "stdout",
     "output_type": "stream",
     "text": [
      "Text could not be extracted test_10328.pdf\n"
     ]
    },
    {
     "name": "stderr",
     "output_type": "stream",
     "text": [
      " 85%|████████▍ | 10358/12237 [13:24<02:23, 13.06it/s]"
     ]
    },
    {
     "name": "stdout",
     "output_type": "stream",
     "text": [
      "Text could not be extracted test_10364.pdf\n"
     ]
    },
    {
     "name": "stderr",
     "output_type": "stream",
     "text": [
      " 85%|████████▌ | 10435/12237 [13:37<01:51, 16.13it/s]"
     ]
    },
    {
     "name": "stdout",
     "output_type": "stream",
     "text": [
      "Text could not be extracted test_10442.pdf\n",
      "Text could not be extracted test_10444.pdf\n"
     ]
    },
    {
     "name": "stderr",
     "output_type": "stream",
     "text": [
      " 85%|████████▌ | 10448/12237 [13:38<01:23, 21.48it/s]"
     ]
    },
    {
     "name": "stdout",
     "output_type": "stream",
     "text": [
      "Text could not be extracted test_10453.pdf\n",
      "Text could not be extracted test_10454.pdf\n"
     ]
    },
    {
     "name": "stderr",
     "output_type": "stream",
     "text": [
      " 85%|████████▌ | 10454/12237 [13:38<01:36, 18.44it/s]"
     ]
    },
    {
     "name": "stdout",
     "output_type": "stream",
     "text": [
      "Text could not be extracted test_10462.pdf\n"
     ]
    },
    {
     "name": "stderr",
     "output_type": "stream",
     "text": [
      " 86%|████████▌ | 10507/12237 [13:42<01:54, 15.11it/s]"
     ]
    },
    {
     "name": "stdout",
     "output_type": "stream",
     "text": [
      "Text could not be extracted test_10510.pdf\n",
      "Text could not be extracted test_10512.pdf\n"
     ]
    },
    {
     "name": "stderr",
     "output_type": "stream",
     "text": [
      " 86%|████████▌ | 10547/12237 [13:45<01:28, 19.13it/s]"
     ]
    },
    {
     "name": "stdout",
     "output_type": "stream",
     "text": [
      "Text could not be extracted test_10552.pdf\n",
      "Text could not be extracted test_10553.pdf\n",
      "Text could not be extracted test_10554.pdf\n",
      "Text could not be extracted test_10556.pdf\n"
     ]
    },
    {
     "name": "stderr",
     "output_type": "stream",
     "text": [
      " 86%|████████▌ | 10553/12237 [13:45<01:19, 21.18it/s]"
     ]
    },
    {
     "name": "stdout",
     "output_type": "stream",
     "text": [
      "Text could not be extracted test_10558.pdf\n",
      "Text could not be extracted test_10560.pdf\n"
     ]
    },
    {
     "name": "stderr",
     "output_type": "stream",
     "text": [
      " 86%|████████▋ | 10580/12237 [13:47<01:14, 22.11it/s]"
     ]
    },
    {
     "name": "stdout",
     "output_type": "stream",
     "text": [
      "Text could not be extracted test_10587.pdf\n"
     ]
    },
    {
     "name": "stderr",
     "output_type": "stream",
     "text": [
      " 86%|████████▋ | 10585/12237 [13:47<01:55, 14.28it/s]"
     ]
    },
    {
     "name": "stdout",
     "output_type": "stream",
     "text": [
      "Text could not be extracted test_10591.pdf\n"
     ]
    },
    {
     "name": "stderr",
     "output_type": "stream",
     "text": [
      " 87%|████████▋ | 10592/12237 [13:48<01:23, 19.78it/s]"
     ]
    },
    {
     "name": "stdout",
     "output_type": "stream",
     "text": [
      "Text could not be extracted test_10597.pdf\n",
      "Text could not be extracted test_10598.pdf\n"
     ]
    },
    {
     "name": "stderr",
     "output_type": "stream",
     "text": [
      " 87%|████████▋ | 10601/12237 [13:48<01:16, 21.35it/s]"
     ]
    },
    {
     "name": "stdout",
     "output_type": "stream",
     "text": [
      "Text could not be extracted test_10605.pdf\n",
      "Text could not be extracted test_10610.pdf\n",
      "Text could not be extracted "
     ]
    },
    {
     "name": "stderr",
     "output_type": "stream",
     "text": [
      "\r",
      " 87%|████████▋ | 10604/12237 [13:48<01:16, 21.23it/s]"
     ]
    },
    {
     "name": "stdout",
     "output_type": "stream",
     "text": [
      "test_10611.pdf\n",
      "Text could not be extracted test_10613.pdf\n"
     ]
    },
    {
     "name": "stderr",
     "output_type": "stream",
     "text": [
      " 87%|████████▋ | 10610/12237 [13:49<01:23, 19.60it/s]"
     ]
    },
    {
     "name": "stdout",
     "output_type": "stream",
     "text": [
      "Text could not be extracted test_10618.pdf\n",
      "Text could not be extracted test_10619.pdf\n"
     ]
    },
    {
     "name": "stderr",
     "output_type": "stream",
     "text": [
      " 87%|████████▋ | 10617/12237 [13:49<01:17, 20.96it/s]"
     ]
    },
    {
     "name": "stdout",
     "output_type": "stream",
     "text": [
      "Text could not be extracted test_10621.pdf\n",
      "Text could not be extracted test_10624.pdf\n"
     ]
    },
    {
     "name": "stderr",
     "output_type": "stream",
     "text": [
      " 87%|████████▋ | 10622/12237 [13:50<02:33, 10.53it/s]"
     ]
    },
    {
     "name": "stdout",
     "output_type": "stream",
     "text": [
      "Text could not be extracted test_10628.pdf\n"
     ]
    },
    {
     "name": "stderr",
     "output_type": "stream",
     "text": [
      " 87%|████████▋ | 10629/12237 [13:50<01:54, 14.08it/s]"
     ]
    },
    {
     "name": "stdout",
     "output_type": "stream",
     "text": [
      "Text could not be extracted test_10634.pdf\n",
      "Text could not be extracted test_10635.pdf\n"
     ]
    },
    {
     "name": "stderr",
     "output_type": "stream",
     "text": [
      " 87%|████████▋ | 10640/12237 [13:51<01:47, 14.89it/s]"
     ]
    },
    {
     "name": "stdout",
     "output_type": "stream",
     "text": [
      "Text could not be extracted test_10647.pdf\n"
     ]
    },
    {
     "name": "stderr",
     "output_type": "stream",
     "text": [
      " 87%|████████▋ | 10652/12237 [13:52<01:46, 14.84it/s]"
     ]
    },
    {
     "name": "stdout",
     "output_type": "stream",
     "text": [
      "Text could not be extracted test_10658.pdf\n"
     ]
    },
    {
     "name": "stderr",
     "output_type": "stream",
     "text": [
      " 87%|████████▋ | 10657/12237 [13:52<01:31, 17.19it/s]"
     ]
    },
    {
     "name": "stdout",
     "output_type": "stream",
     "text": [
      "Text could not be extracted test_10662.pdf\n"
     ]
    },
    {
     "name": "stderr",
     "output_type": "stream",
     "text": [
      " 87%|████████▋ | 10674/12237 [13:53<01:51, 13.98it/s]"
     ]
    },
    {
     "name": "stdout",
     "output_type": "stream",
     "text": [
      "Text could not be extracted test_10682.pdf\n",
      "Text could not be extracted test_10684.pdf\n"
     ]
    },
    {
     "name": "stderr",
     "output_type": "stream",
     "text": [
      " 87%|████████▋ | 10685/12237 [13:54<01:58, 13.09it/s]"
     ]
    },
    {
     "name": "stdout",
     "output_type": "stream",
     "text": [
      "Text could not be extracted test_10691.pdf\n"
     ]
    },
    {
     "name": "stderr",
     "output_type": "stream",
     "text": [
      " 87%|████████▋ | 10694/12237 [13:55<01:26, 17.75it/s]"
     ]
    },
    {
     "name": "stdout",
     "output_type": "stream",
     "text": [
      "Text could not be extracted test_10701.pdf\n",
      "Text could not be extracted test_10703.pdf\n"
     ]
    },
    {
     "name": "stderr",
     "output_type": "stream",
     "text": [
      " 88%|████████▊ | 10708/12237 [13:56<01:40, 15.14it/s]"
     ]
    },
    {
     "name": "stdout",
     "output_type": "stream",
     "text": [
      "Text could not be extracted test_10715.pdf\n"
     ]
    },
    {
     "name": "stderr",
     "output_type": "stream",
     "text": [
      " 88%|████████▊ | 10768/12237 [14:10<03:18,  7.40it/s]"
     ]
    },
    {
     "name": "stdout",
     "output_type": "stream",
     "text": [
      "Text could not be extracted test_10781.pdf\n"
     ]
    },
    {
     "name": "stderr",
     "output_type": "stream",
     "text": [
      " 88%|████████▊ | 10788/12237 [14:13<01:29, 16.17it/s]"
     ]
    },
    {
     "name": "stdout",
     "output_type": "stream",
     "text": [
      "Text could not be extracted test_10796.pdf\n"
     ]
    },
    {
     "name": "stderr",
     "output_type": "stream",
     "text": [
      " 88%|████████▊ | 10802/12237 [14:13<01:07, 21.27it/s]"
     ]
    },
    {
     "name": "stdout",
     "output_type": "stream",
     "text": [
      "Text could not be extracted test_10815.pdf\n",
      "Text could not be extracted test_10817.pdf\n",
      "Text could not be extracted test_10818.pdf\n"
     ]
    },
    {
     "name": "stderr",
     "output_type": "stream",
     "text": [
      " 88%|████████▊ | 10813/12237 [14:14<01:04, 22.14it/s]"
     ]
    },
    {
     "name": "stdout",
     "output_type": "stream",
     "text": [
      "Text could not be extracted test_10820.pdf\n"
     ]
    },
    {
     "name": "stderr",
     "output_type": "stream",
     "text": [
      " 89%|████████▉ | 10916/12237 [14:19<00:43, 30.23it/s]"
     ]
    },
    {
     "name": "stdout",
     "output_type": "stream",
     "text": [
      "Text could not be extracted test_10928.pdf\n"
     ]
    },
    {
     "name": "stderr",
     "output_type": "stream",
     "text": [
      " 89%|████████▉ | 10942/12237 [14:21<01:37, 13.32it/s]"
     ]
    },
    {
     "name": "stdout",
     "output_type": "stream",
     "text": [
      "Text could not be extracted test_10951.pdf\n"
     ]
    },
    {
     "name": "stderr",
     "output_type": "stream",
     "text": [
      " 90%|████████▉ | 10963/12237 [14:22<01:32, 13.82it/s]"
     ]
    },
    {
     "name": "stdout",
     "output_type": "stream",
     "text": [
      "Text could not be extracted test_10972.pdf\n"
     ]
    },
    {
     "name": "stderr",
     "output_type": "stream",
     "text": [
      " 90%|█████████ | 11025/12237 [14:35<05:12,  3.87it/s]"
     ]
    },
    {
     "name": "stdout",
     "output_type": "stream",
     "text": [
      "Text could not be extracted test_11036.pdf\n"
     ]
    },
    {
     "name": "stderr",
     "output_type": "stream",
     "text": [
      " 91%|█████████ | 11085/12237 [14:43<01:55, 10.00it/s]"
     ]
    },
    {
     "name": "stdout",
     "output_type": "stream",
     "text": [
      "Text could not be extracted test_11095.pdf\n"
     ]
    },
    {
     "name": "stderr",
     "output_type": "stream",
     "text": [
      "\r",
      " 91%|█████████ | 11087/12237 [14:43<01:53, 10.14it/s]"
     ]
    },
    {
     "name": "stdout",
     "output_type": "stream",
     "text": [
      "Text could not be extracted test_11100.pdf\n"
     ]
    },
    {
     "name": "stderr",
     "output_type": "stream",
     "text": [
      " 91%|█████████▏| 11175/12237 [14:52<00:47, 22.29it/s]"
     ]
    },
    {
     "name": "stdout",
     "output_type": "stream",
     "text": [
      "Text could not be extracted test_11185.pdf\n",
      "Text could not be extracted test_11189.pdf\n"
     ]
    },
    {
     "name": "stderr",
     "output_type": "stream",
     "text": [
      " 91%|█████████▏| 11195/12237 [15:07<18:57,  1.09s/it]"
     ]
    },
    {
     "name": "stdout",
     "output_type": "stream",
     "text": [
      "Text could not be extracted test_11211.pdf\n"
     ]
    },
    {
     "name": "stderr",
     "output_type": "stream",
     "text": [
      "\r",
      " 92%|█████████▏| 11197/12237 [15:09<16:13,  1.07it/s]"
     ]
    },
    {
     "name": "stdout",
     "output_type": "stream",
     "text": [
      "Text could not be extracted test_11213.pdf\n"
     ]
    },
    {
     "name": "stderr",
     "output_type": "stream",
     "text": [
      " 92%|█████████▏| 11229/12237 [15:34<18:57,  1.13s/it]"
     ]
    },
    {
     "name": "stdout",
     "output_type": "stream",
     "text": [
      "Text could not be extracted test_11244.pdf\n"
     ]
    },
    {
     "name": "stderr",
     "output_type": "stream",
     "text": [
      " 92%|█████████▏| 11232/12237 [15:38<16:51,  1.01s/it]"
     ]
    },
    {
     "name": "stdout",
     "output_type": "stream",
     "text": [
      "Text could not be extracted test_11246.pdf\n",
      "Text could not be extracted test_11247.pdf\n"
     ]
    },
    {
     "name": "stderr",
     "output_type": "stream",
     "text": [
      " 92%|█████████▏| 11235/12237 [15:38<08:03,  2.07it/s]"
     ]
    },
    {
     "name": "stdout",
     "output_type": "stream",
     "text": [
      "Text could not be extracted test_11248.pdf\n",
      "Text could not be extracted test_11249.pdf\n"
     ]
    },
    {
     "name": "stderr",
     "output_type": "stream",
     "text": [
      " 92%|█████████▏| 11245/12237 [15:40<02:09,  7.66it/s]"
     ]
    },
    {
     "name": "stdout",
     "output_type": "stream",
     "text": [
      "Text could not be extracted test_11257.pdf\n"
     ]
    },
    {
     "name": "stderr",
     "output_type": "stream",
     "text": [
      "\r",
      " 92%|█████████▏| 11247/12237 [15:40<02:11,  7.54it/s]"
     ]
    },
    {
     "name": "stdout",
     "output_type": "stream",
     "text": [
      "Text could not be extracted test_11262.pdf\n",
      "Text could not be extracted test_11263.pdf\n"
     ]
    },
    {
     "name": "stderr",
     "output_type": "stream",
     "text": [
      " 92%|█████████▏| 11256/12237 [15:41<01:18, 12.52it/s]"
     ]
    },
    {
     "name": "stdout",
     "output_type": "stream",
     "text": [
      "Text could not be extracted test_11268.pdf\n",
      "Text could not be extracted test_11269.pdf\n",
      "Text could not be extracted test_11270.pdf\n"
     ]
    },
    {
     "name": "stderr",
     "output_type": "stream",
     "text": [
      " 92%|█████████▏| 11260/12237 [15:43<05:25,  3.00it/s]"
     ]
    },
    {
     "name": "stdout",
     "output_type": "stream",
     "text": [
      "Text could not be extracted test_11276.pdf\n"
     ]
    },
    {
     "name": "stderr",
     "output_type": "stream",
     "text": [
      " 92%|█████████▏| 11270/12237 [15:45<02:42,  5.96it/s]"
     ]
    },
    {
     "name": "stdout",
     "output_type": "stream",
     "text": [
      "Text could not be extracted test_11280.pdf\n",
      "Text could not be extracted test_11282.pdf\n",
      "Text could not be extracted test_11283.pdf\n",
      "Text could not be extracted test_11284.pdf\n",
      "Text could not be extracted test_11285.pdf\n"
     ]
    },
    {
     "name": "stderr",
     "output_type": "stream",
     "text": [
      " 92%|█████████▏| 11276/12237 [15:45<01:40,  9.54it/s]"
     ]
    },
    {
     "name": "stdout",
     "output_type": "stream",
     "text": [
      "Text could not be extracted test_11289.pdf\n",
      "Text could not be extracted test_11292.pdf\n",
      "Text could not be extracted test_11293.pdf\n",
      "Text could not be extracted test_11294.pdf\n"
     ]
    },
    {
     "name": "stderr",
     "output_type": "stream",
     "text": [
      "\r",
      " 92%|█████████▏| 11281/12237 [15:45<01:09, 13.68it/s]"
     ]
    },
    {
     "name": "stdout",
     "output_type": "stream",
     "text": [
      "Text could not be extracted test_11296.pdf\n",
      "Text could not be extracted test_11298.pdf\n"
     ]
    },
    {
     "name": "stderr",
     "output_type": "stream",
     "text": [
      " 92%|█████████▏| 11286/12237 [15:52<08:30,  1.86it/s]"
     ]
    },
    {
     "name": "stdout",
     "output_type": "stream",
     "text": [
      "Text could not be extracted test_11300.pdf\n"
     ]
    },
    {
     "name": "stderr",
     "output_type": "stream",
     "text": [
      "\r",
      " 92%|█████████▏| 11288/12237 [15:53<07:32,  2.10it/s]"
     ]
    },
    {
     "name": "stdout",
     "output_type": "stream",
     "text": [
      "Text could not be extracted test_11304.pdf\n"
     ]
    },
    {
     "name": "stderr",
     "output_type": "stream",
     "text": [
      " 92%|█████████▏| 11295/12237 [15:56<06:18,  2.49it/s]"
     ]
    },
    {
     "name": "stdout",
     "output_type": "stream",
     "text": [
      "Text could not be extracted test_11306.pdf\n",
      "Text could not be extracted test_11307.pdf\n",
      "Text could not be extracted test_11310.pdf\n"
     ]
    },
    {
     "name": "stderr",
     "output_type": "stream",
     "text": [
      " 92%|█████████▏| 11299/12237 [15:57<04:22,  3.57it/s]"
     ]
    },
    {
     "name": "stdout",
     "output_type": "stream",
     "text": [
      "Text could not be extracted test_11315.pdf\n"
     ]
    },
    {
     "name": "stderr",
     "output_type": "stream",
     "text": [
      " 93%|█████████▎| 11328/12237 [16:08<02:23,  6.35it/s]"
     ]
    },
    {
     "name": "stdout",
     "output_type": "stream",
     "text": [
      "Text could not be extracted test_11342.pdf\n",
      "Text could not be extracted test_11344.pdf\n",
      "Text could not be extracted test_11345.pdf\n"
     ]
    },
    {
     "name": "stderr",
     "output_type": "stream",
     "text": [
      " 93%|█████████▎| 11348/12237 [16:12<04:15,  3.48it/s]"
     ]
    },
    {
     "name": "stdout",
     "output_type": "stream",
     "text": [
      "Text could not be extracted test_11364.pdf\n"
     ]
    },
    {
     "name": "stderr",
     "output_type": "stream",
     "text": [
      " 93%|█████████▎| 11352/12237 [16:12<02:40,  5.51it/s]"
     ]
    },
    {
     "name": "stdout",
     "output_type": "stream",
     "text": [
      "Text could not be extracted test_11366.pdf\n",
      "Text could not be extracted test_11367.pdf\n"
     ]
    },
    {
     "name": "stderr",
     "output_type": "stream",
     "text": [
      " 93%|█████████▎| 11355/12237 [16:16<10:38,  1.38it/s]"
     ]
    },
    {
     "name": "stdout",
     "output_type": "stream",
     "text": [
      "Text could not be extracted test_11371.pdf\n",
      "Text could not be extracted test_11372.pdf\n"
     ]
    },
    {
     "name": "stderr",
     "output_type": "stream",
     "text": [
      " 93%|█████████▎| 11368/12237 [16:20<04:41,  3.09it/s]"
     ]
    },
    {
     "name": "stdout",
     "output_type": "stream",
     "text": [
      "Text could not be extracted test_11382.pdf\n"
     ]
    },
    {
     "name": "stderr",
     "output_type": "stream",
     "text": [
      " 93%|█████████▎| 11376/12237 [16:23<06:09,  2.33it/s]"
     ]
    },
    {
     "name": "stdout",
     "output_type": "stream",
     "text": [
      "Text could not be extracted test_11392.pdf\n",
      "Text could not be extracted test_11393.pdf\n"
     ]
    },
    {
     "name": "stderr",
     "output_type": "stream",
     "text": [
      " 93%|█████████▎| 11402/12237 [16:28<02:38,  5.25it/s]"
     ]
    },
    {
     "name": "stdout",
     "output_type": "stream",
     "text": [
      "Text could not be extracted test_11416.pdf\n",
      "Text could not be extracted test_11420.pdf\n"
     ]
    },
    {
     "name": "stderr",
     "output_type": "stream",
     "text": [
      " 93%|█████████▎| 11416/12237 [16:29<01:07, 12.17it/s]"
     ]
    },
    {
     "name": "stdout",
     "output_type": "stream",
     "text": [
      "Text could not be extracted test_11430.pdf\n"
     ]
    },
    {
     "name": "stderr",
     "output_type": "stream",
     "text": [
      " 93%|█████████▎| 11424/12237 [16:29<00:40, 20.27it/s]"
     ]
    },
    {
     "name": "stdout",
     "output_type": "stream",
     "text": [
      "Text could not be extracted test_11435.pdf\n"
     ]
    },
    {
     "name": "stderr",
     "output_type": "stream",
     "text": [
      " 93%|█████████▎| 11440/12237 [16:31<01:16, 10.38it/s]"
     ]
    },
    {
     "name": "stdout",
     "output_type": "stream",
     "text": [
      "Text could not be extracted test_11453.pdf\n"
     ]
    },
    {
     "name": "stderr",
     "output_type": "stream",
     "text": [
      "\r",
      " 94%|█████████▎| 11442/12237 [16:32<01:43,  7.71it/s]"
     ]
    },
    {
     "name": "stdout",
     "output_type": "stream",
     "text": [
      "Text could not be extracted test_11458.pdf\n"
     ]
    },
    {
     "name": "stderr",
     "output_type": "stream",
     "text": [
      " 94%|█████████▎| 11448/12237 [16:33<02:29,  5.29it/s]"
     ]
    },
    {
     "name": "stdout",
     "output_type": "stream",
     "text": [
      "Text could not be extracted test_11459.pdf\n",
      "Text could not be extracted test_11462.pdf\n",
      "Text could not be extracted test_11463.pdf\n"
     ]
    },
    {
     "name": "stderr",
     "output_type": "stream",
     "text": [
      " 94%|█████████▍| 11478/12237 [16:38<02:45,  4.58it/s]"
     ]
    },
    {
     "name": "stdout",
     "output_type": "stream",
     "text": [
      "Text could not be extracted test_11493.pdf\n"
     ]
    },
    {
     "name": "stderr",
     "output_type": "stream",
     "text": [
      " 94%|█████████▍| 11483/12237 [16:38<01:47,  7.03it/s]"
     ]
    },
    {
     "name": "stdout",
     "output_type": "stream",
     "text": [
      "Text could not be extracted test_11496.pdf\n",
      "Text could not be extracted test_11497.pdf\n"
     ]
    },
    {
     "name": "stderr",
     "output_type": "stream",
     "text": [
      " 94%|█████████▍| 11505/12237 [16:42<01:06, 11.00it/s]"
     ]
    },
    {
     "name": "stdout",
     "output_type": "stream",
     "text": [
      "Text could not be extracted test_11517.pdf\n"
     ]
    },
    {
     "name": "stderr",
     "output_type": "stream",
     "text": [
      " 94%|█████████▍| 11542/12237 [16:44<00:37, 18.40it/s]"
     ]
    },
    {
     "name": "stdout",
     "output_type": "stream",
     "text": [
      "Text could not be extracted test_11555.pdf\n",
      "Text could not be extracted test_11556.pdf\n",
      "Text could not be extracted test_11558.pdf\n",
      "Text could not be extracted test_11559.pdf\n",
      "Text could not be extracted test_11560.pdf\n"
     ]
    },
    {
     "name": "stderr",
     "output_type": "stream",
     "text": [
      "\r",
      " 94%|█████████▍| 11547/12237 [16:44<00:27, 25.20it/s]"
     ]
    },
    {
     "name": "stdout",
     "output_type": "stream",
     "text": [
      "Text could not be extracted test_11561.pdf\n",
      "Text could not be extracted test_11562.pdf\n",
      "Text could not be extracted test_11563.pdf\n",
      "Text could not be extracted test_11564.pdf\n",
      "Text could not be extracted test_11565.pdf\n",
      "Text could not be extracted test_11566.pdf\n",
      "Text could not be extracted test_11567.pdf\n"
     ]
    },
    {
     "name": "stderr",
     "output_type": "stream",
     "text": [
      " 94%|█████████▍| 11558/12237 [16:45<00:26, 25.62it/s]"
     ]
    },
    {
     "name": "stdout",
     "output_type": "stream",
     "text": [
      "Text could not be extracted test_11569.pdf\n",
      "Text could not be extracted test_11570.pdf\n",
      "Text could not be extracted test_11571.pdf\n",
      "Text could not be extracted test_11572.pdf\n"
     ]
    },
    {
     "name": "stderr",
     "output_type": "stream",
     "text": [
      " 95%|█████████▍| 11564/12237 [16:45<00:29, 22.52it/s]"
     ]
    },
    {
     "name": "stdout",
     "output_type": "stream",
     "text": [
      "Text could not be extracted test_11578.pdf\n",
      "Text could not be extracted test_11579.pdf\n",
      "Text could not be extracted test_11580.pdf\n"
     ]
    },
    {
     "name": "stderr",
     "output_type": "stream",
     "text": [
      " 95%|█████████▍| 11603/12237 [17:12<02:42,  3.89it/s]"
     ]
    },
    {
     "name": "stdout",
     "output_type": "stream",
     "text": [
      "Text could not be extracted test_11619.pdf\n"
     ]
    },
    {
     "name": "stderr",
     "output_type": "stream",
     "text": [
      " 95%|█████████▌| 11645/12237 [17:16<00:33, 17.47it/s]"
     ]
    },
    {
     "name": "stdout",
     "output_type": "stream",
     "text": [
      "Text could not be extracted test_11657.pdf\n"
     ]
    },
    {
     "name": "stderr",
     "output_type": "stream",
     "text": [
      " 95%|█████████▌| 11672/12237 [17:18<00:28, 19.69it/s]"
     ]
    },
    {
     "name": "stdout",
     "output_type": "stream",
     "text": [
      "Text could not be extracted test_11684.pdf\n"
     ]
    },
    {
     "name": "stderr",
     "output_type": "stream",
     "text": [
      " 96%|█████████▌| 11701/12237 [17:20<00:58,  9.11it/s]"
     ]
    },
    {
     "name": "stdout",
     "output_type": "stream",
     "text": [
      "Text could not be extracted test_11715.pdf\n"
     ]
    },
    {
     "name": "stderr",
     "output_type": "stream",
     "text": [
      " 97%|█████████▋| 11875/12237 [17:45<00:51,  7.03it/s]"
     ]
    },
    {
     "name": "stdout",
     "output_type": "stream",
     "text": [
      "Text could not be extracted test_11885.pdf\n",
      "Text could not be extracted test_11886.pdf\n",
      "Text could not be extracted test_11887.pdf\n",
      "Text could not be extracted test_11888.pdf\n",
      "Text could not be extracted test_11889.pdf\n"
     ]
    },
    {
     "name": "stderr",
     "output_type": "stream",
     "text": [
      "\r",
      " 97%|█████████▋| 11879/12237 [17:45<00:36,  9.90it/s]"
     ]
    },
    {
     "name": "stdout",
     "output_type": "stream",
     "text": [
      "Text could not be extracted test_11893.pdf\n"
     ]
    },
    {
     "name": "stderr",
     "output_type": "stream",
     "text": [
      " 98%|█████████▊| 11989/12237 [18:04<00:14, 17.69it/s]"
     ]
    },
    {
     "name": "stdout",
     "output_type": "stream",
     "text": [
      "Text could not be extracted test_12001.pdf\n",
      "Text could not be extracted test_12002.pdf\n",
      "Text could not be extracted test_12004.pdf\n"
     ]
    },
    {
     "name": "stderr",
     "output_type": "stream",
     "text": [
      " 98%|█████████▊| 12005/12237 [18:05<00:09, 23.55it/s]"
     ]
    },
    {
     "name": "stdout",
     "output_type": "stream",
     "text": [
      "Text could not be extracted test_12019.pdf\n"
     ]
    },
    {
     "name": "stderr",
     "output_type": "stream",
     "text": [
      " 99%|█████████▉| 12089/12237 [18:11<00:09, 15.99it/s]"
     ]
    },
    {
     "name": "stdout",
     "output_type": "stream",
     "text": [
      "Text could not be extracted test_12107.pdf\n"
     ]
    },
    {
     "name": "stderr",
     "output_type": "stream",
     "text": [
      " 99%|█████████▉| 12169/12237 [18:17<00:05, 13.60it/s]"
     ]
    },
    {
     "name": "stdout",
     "output_type": "stream",
     "text": [
      "Text could not be extracted test_12182.pdf\n",
      "Text could not be extracted test_12184.pdf\n"
     ]
    },
    {
     "name": "stderr",
     "output_type": "stream",
     "text": [
      "100%|█████████▉| 12213/12237 [18:21<00:01, 12.81it/s]"
     ]
    },
    {
     "name": "stdout",
     "output_type": "stream",
     "text": [
      "Text could not be extracted test_12232.pdf\n"
     ]
    },
    {
     "name": "stderr",
     "output_type": "stream",
     "text": [
      "100%|██████████| 12237/12237 [18:23<00:00, 11.09it/s]\n"
     ]
    }
   ],
   "source": [
    "cnt = 0\n",
    "fail_ext = []\n",
    "for item in tqdm(os.listdir('./Data/PDF')):\n",
    "    try: \n",
    "        file_input = f'./Data/PDF/{item}'\n",
    "        filepath = f'./Data/Text/test_{item[-9:-4]}.txt'\n",
    "        \n",
    "        parsed = parser.from_file(file_input)\n",
    "        #print(parsed['metadata'])\n",
    "        \n",
    "        with open(filepath,'w', encoding='utf-8') as file: \n",
    "            file.write(parsed['content'])\n",
    "            file.close()\n",
    "        \n",
    "    except TypeError:\n",
    "        cnt+=1\n",
    "        fail_ext.append(file_input)\n",
    "        print('Text could not be extracted', item)\n",
    "    except OSError:\n",
    "        print('Link not valid', item)"
   ]
  },
  {
   "cell_type": "code",
   "execution_count": 65,
   "id": "strategic-reverse",
   "metadata": {},
   "outputs": [],
   "source": [
    "#Select from the txt files only the ones which contain valid text\n",
    "\n",
    "fail_ext_idx = [item[-9:-4] for item in fail_ext]\n",
    "valid_text = [item for item in os.listdir('./Data/Text') if item[-9:-4] not in fail_ext_idx]"
   ]
  },
  {
   "cell_type": "code",
   "execution_count": 47,
   "id": "partial-fault",
   "metadata": {},
   "outputs": [
    {
     "name": "stdout",
     "output_type": "stream",
     "text": [
      "Percentage of missing PDFs 7.62%\n"
     ]
    }
   ],
   "source": [
    "#Determine the fraction of non downloaded/converted PDF to the total PDF number\n",
    "print('Percentage of missing PDFs {per:.2f}%'.format(per = round(100*(1-len(valid_text)/len(data)),2)))"
   ]
  },
  {
   "cell_type": "markdown",
   "id": "future-register",
   "metadata": {},
   "source": [
    "# Step 3) NLP on txt files (TO BE COMPLETED)"
   ]
  },
  {
   "cell_type": "markdown",
   "id": "vocal-asset",
   "metadata": {},
   "source": [
    "Loop through each valid .txt in Data/Text and look for all files containing the word 'electric'"
   ]
  },
  {
   "cell_type": "code",
   "execution_count": 109,
   "id": "dominant-deviation",
   "metadata": {
    "collapsed": true
   },
   "outputs": [
    {
     "name": "stderr",
     "output_type": "stream",
     "text": [
      "  2%|▏         | 250/11303 [00:07<05:29, 33.59it/s]\n"
     ]
    },
    {
     "ename": "KeyboardInterrupt",
     "evalue": "",
     "output_type": "error",
     "traceback": [
      "\u001b[1;31m---------------------------------------------------------------------------\u001b[0m",
      "\u001b[1;31mKeyboardInterrupt\u001b[0m                         Traceback (most recent call last)",
      "\u001b[1;32m<ipython-input-109-fd381ddc3494>\u001b[0m in \u001b[0;36m<module>\u001b[1;34m\u001b[0m\n\u001b[0;32m      7\u001b[0m     \u001b[0mf\u001b[0m\u001b[1;33m=\u001b[0m\u001b[0mopen\u001b[0m\u001b[1;33m(\u001b[0m\u001b[0mfilename\u001b[0m\u001b[1;33m,\u001b[0m\u001b[1;34m'r'\u001b[0m\u001b[1;33m,\u001b[0m\u001b[0mencoding\u001b[0m\u001b[1;33m=\u001b[0m\u001b[1;34m'utf-8'\u001b[0m\u001b[1;33m)\u001b[0m\u001b[1;33m\u001b[0m\u001b[1;33m\u001b[0m\u001b[0m\n\u001b[0;32m      8\u001b[0m     \u001b[0mraw\u001b[0m\u001b[1;33m=\u001b[0m\u001b[0mf\u001b[0m\u001b[1;33m.\u001b[0m\u001b[0mread\u001b[0m\u001b[1;33m(\u001b[0m\u001b[1;33m)\u001b[0m\u001b[1;33m\u001b[0m\u001b[1;33m\u001b[0m\u001b[0m\n\u001b[1;32m----> 9\u001b[1;33m     \u001b[0mtokens\u001b[0m \u001b[1;33m=\u001b[0m \u001b[0mnltk\u001b[0m\u001b[1;33m.\u001b[0m\u001b[0mword_tokenize\u001b[0m\u001b[1;33m(\u001b[0m\u001b[0mraw\u001b[0m\u001b[1;33m)\u001b[0m\u001b[1;33m\u001b[0m\u001b[1;33m\u001b[0m\u001b[0m\n\u001b[0m\u001b[0;32m     10\u001b[0m     \u001b[0mf\u001b[0m\u001b[1;33m.\u001b[0m\u001b[0mclose\u001b[0m\u001b[1;33m(\u001b[0m\u001b[1;33m)\u001b[0m\u001b[1;33m\u001b[0m\u001b[1;33m\u001b[0m\u001b[0m\n\u001b[0;32m     11\u001b[0m     \u001b[0mtext\u001b[0m \u001b[1;33m=\u001b[0m \u001b[0mnltk\u001b[0m\u001b[1;33m.\u001b[0m\u001b[0mText\u001b[0m\u001b[1;33m(\u001b[0m\u001b[0mtokens\u001b[0m\u001b[1;33m)\u001b[0m\u001b[1;33m\u001b[0m\u001b[1;33m\u001b[0m\u001b[0m\n",
      "\u001b[1;32m~\\.conda\\envs\\la_cap_nlp\\lib\\site-packages\\nltk\\tokenize\\__init__.py\u001b[0m in \u001b[0;36mword_tokenize\u001b[1;34m(text, language, preserve_line)\u001b[0m\n\u001b[0;32m    128\u001b[0m     \"\"\"\n\u001b[0;32m    129\u001b[0m     \u001b[0msentences\u001b[0m \u001b[1;33m=\u001b[0m \u001b[1;33m[\u001b[0m\u001b[0mtext\u001b[0m\u001b[1;33m]\u001b[0m \u001b[1;32mif\u001b[0m \u001b[0mpreserve_line\u001b[0m \u001b[1;32melse\u001b[0m \u001b[0msent_tokenize\u001b[0m\u001b[1;33m(\u001b[0m\u001b[0mtext\u001b[0m\u001b[1;33m,\u001b[0m \u001b[0mlanguage\u001b[0m\u001b[1;33m)\u001b[0m\u001b[1;33m\u001b[0m\u001b[1;33m\u001b[0m\u001b[0m\n\u001b[1;32m--> 130\u001b[1;33m     return [\n\u001b[0m\u001b[0;32m    131\u001b[0m         \u001b[0mtoken\u001b[0m \u001b[1;32mfor\u001b[0m \u001b[0msent\u001b[0m \u001b[1;32min\u001b[0m \u001b[0msentences\u001b[0m \u001b[1;32mfor\u001b[0m \u001b[0mtoken\u001b[0m \u001b[1;32min\u001b[0m \u001b[0m_treebank_word_tokenizer\u001b[0m\u001b[1;33m.\u001b[0m\u001b[0mtokenize\u001b[0m\u001b[1;33m(\u001b[0m\u001b[0msent\u001b[0m\u001b[1;33m)\u001b[0m\u001b[1;33m\u001b[0m\u001b[1;33m\u001b[0m\u001b[0m\n\u001b[0;32m    132\u001b[0m     ]\n",
      "\u001b[1;32m~\\.conda\\envs\\la_cap_nlp\\lib\\site-packages\\nltk\\tokenize\\__init__.py\u001b[0m in \u001b[0;36m<listcomp>\u001b[1;34m(.0)\u001b[0m\n\u001b[0;32m    129\u001b[0m     \u001b[0msentences\u001b[0m \u001b[1;33m=\u001b[0m \u001b[1;33m[\u001b[0m\u001b[0mtext\u001b[0m\u001b[1;33m]\u001b[0m \u001b[1;32mif\u001b[0m \u001b[0mpreserve_line\u001b[0m \u001b[1;32melse\u001b[0m \u001b[0msent_tokenize\u001b[0m\u001b[1;33m(\u001b[0m\u001b[0mtext\u001b[0m\u001b[1;33m,\u001b[0m \u001b[0mlanguage\u001b[0m\u001b[1;33m)\u001b[0m\u001b[1;33m\u001b[0m\u001b[1;33m\u001b[0m\u001b[0m\n\u001b[0;32m    130\u001b[0m     return [\n\u001b[1;32m--> 131\u001b[1;33m         \u001b[0mtoken\u001b[0m \u001b[1;32mfor\u001b[0m \u001b[0msent\u001b[0m \u001b[1;32min\u001b[0m \u001b[0msentences\u001b[0m \u001b[1;32mfor\u001b[0m \u001b[0mtoken\u001b[0m \u001b[1;32min\u001b[0m \u001b[0m_treebank_word_tokenizer\u001b[0m\u001b[1;33m.\u001b[0m\u001b[0mtokenize\u001b[0m\u001b[1;33m(\u001b[0m\u001b[0msent\u001b[0m\u001b[1;33m)\u001b[0m\u001b[1;33m\u001b[0m\u001b[1;33m\u001b[0m\u001b[0m\n\u001b[0m\u001b[0;32m    132\u001b[0m     ]\n",
      "\u001b[1;32m~\\.conda\\envs\\la_cap_nlp\\lib\\site-packages\\nltk\\tokenize\\destructive.py\u001b[0m in \u001b[0;36mtokenize\u001b[1;34m(self, text, convert_parentheses, return_str)\u001b[0m\n\u001b[0;32m    130\u001b[0m \u001b[1;33m\u001b[0m\u001b[0m\n\u001b[0;32m    131\u001b[0m         \u001b[1;32mfor\u001b[0m \u001b[0mregexp\u001b[0m \u001b[1;32min\u001b[0m \u001b[0mself\u001b[0m\u001b[1;33m.\u001b[0m\u001b[0mCONTRACTIONS2\u001b[0m\u001b[1;33m:\u001b[0m\u001b[1;33m\u001b[0m\u001b[1;33m\u001b[0m\u001b[0m\n\u001b[1;32m--> 132\u001b[1;33m             \u001b[0mtext\u001b[0m \u001b[1;33m=\u001b[0m \u001b[0mregexp\u001b[0m\u001b[1;33m.\u001b[0m\u001b[0msub\u001b[0m\u001b[1;33m(\u001b[0m\u001b[1;34mr\" \\1 \\2 \"\u001b[0m\u001b[1;33m,\u001b[0m \u001b[0mtext\u001b[0m\u001b[1;33m)\u001b[0m\u001b[1;33m\u001b[0m\u001b[1;33m\u001b[0m\u001b[0m\n\u001b[0m\u001b[0;32m    133\u001b[0m         \u001b[1;32mfor\u001b[0m \u001b[0mregexp\u001b[0m \u001b[1;32min\u001b[0m \u001b[0mself\u001b[0m\u001b[1;33m.\u001b[0m\u001b[0mCONTRACTIONS3\u001b[0m\u001b[1;33m:\u001b[0m\u001b[1;33m\u001b[0m\u001b[1;33m\u001b[0m\u001b[0m\n\u001b[0;32m    134\u001b[0m             \u001b[0mtext\u001b[0m \u001b[1;33m=\u001b[0m \u001b[0mregexp\u001b[0m\u001b[1;33m.\u001b[0m\u001b[0msub\u001b[0m\u001b[1;33m(\u001b[0m\u001b[1;34mr\" \\1 \\2 \"\u001b[0m\u001b[1;33m,\u001b[0m \u001b[0mtext\u001b[0m\u001b[1;33m)\u001b[0m\u001b[1;33m\u001b[0m\u001b[1;33m\u001b[0m\u001b[0m\n",
      "\u001b[1;32m~\\.conda\\envs\\la_cap_nlp\\lib\\re.py\u001b[0m in \u001b[0;36m_subx\u001b[1;34m(pattern, template)\u001b[0m\n\u001b[0;32m    326\u001b[0m     \u001b[1;31m# internal: Pattern.sub/subn implementation helper\u001b[0m\u001b[1;33m\u001b[0m\u001b[1;33m\u001b[0m\u001b[1;33m\u001b[0m\u001b[0m\n\u001b[0;32m    327\u001b[0m     \u001b[0mtemplate\u001b[0m \u001b[1;33m=\u001b[0m \u001b[0m_compile_repl\u001b[0m\u001b[1;33m(\u001b[0m\u001b[0mtemplate\u001b[0m\u001b[1;33m,\u001b[0m \u001b[0mpattern\u001b[0m\u001b[1;33m)\u001b[0m\u001b[1;33m\u001b[0m\u001b[1;33m\u001b[0m\u001b[0m\n\u001b[1;32m--> 328\u001b[1;33m     \u001b[1;32mif\u001b[0m \u001b[1;32mnot\u001b[0m \u001b[0mtemplate\u001b[0m\u001b[1;33m[\u001b[0m\u001b[1;36m0\u001b[0m\u001b[1;33m]\u001b[0m \u001b[1;32mand\u001b[0m \u001b[0mlen\u001b[0m\u001b[1;33m(\u001b[0m\u001b[0mtemplate\u001b[0m\u001b[1;33m[\u001b[0m\u001b[1;36m1\u001b[0m\u001b[1;33m]\u001b[0m\u001b[1;33m)\u001b[0m \u001b[1;33m==\u001b[0m \u001b[1;36m1\u001b[0m\u001b[1;33m:\u001b[0m\u001b[1;33m\u001b[0m\u001b[1;33m\u001b[0m\u001b[0m\n\u001b[0m\u001b[0;32m    329\u001b[0m         \u001b[1;31m# literal replacement\u001b[0m\u001b[1;33m\u001b[0m\u001b[1;33m\u001b[0m\u001b[1;33m\u001b[0m\u001b[0m\n\u001b[0;32m    330\u001b[0m         \u001b[1;32mreturn\u001b[0m \u001b[0mtemplate\u001b[0m\u001b[1;33m[\u001b[0m\u001b[1;36m1\u001b[0m\u001b[1;33m]\u001b[0m\u001b[1;33m[\u001b[0m\u001b[1;36m0\u001b[0m\u001b[1;33m]\u001b[0m\u001b[1;33m\u001b[0m\u001b[1;33m\u001b[0m\u001b[0m\n",
      "\u001b[1;31mKeyboardInterrupt\u001b[0m: "
     ]
    }
   ],
   "source": [
    "concordance_text = []\n",
    "cnt = 0\n",
    "for item in tqdm(valid_text):\n",
    "    \n",
    "    filename = f'./Data/Text/{item}'\n",
    "    \n",
    "    f=open(filename,'r',encoding='utf-8')\n",
    "    raw=f.read()\n",
    "    tokens = nltk.word_tokenize(raw)\n",
    "    f.close()\n",
    "    text = nltk.Text(tokens)\n",
    "    \n",
    "    \n",
    "    if len(text.concordance_list('electric')) >0:\n",
    "        concordance_text.append(filename)\n",
    "        cnt+=1"
   ]
  }
 ],
 "metadata": {
  "kernelspec": {
   "display_name": "la_cap_nlp",
   "language": "python",
   "name": "la_cap_nlp"
  },
  "language_info": {
   "codemirror_mode": {
    "name": "ipython",
    "version": 3
   },
   "file_extension": ".py",
   "mimetype": "text/x-python",
   "name": "python",
   "nbconvert_exporter": "python",
   "pygments_lexer": "ipython3",
   "version": "3.8.5"
  }
 },
 "nbformat": 4,
 "nbformat_minor": 5
}
