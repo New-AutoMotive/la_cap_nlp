{
 "cells": [
  {
   "cell_type": "markdown",
   "metadata": {},
   "source": [
    "## Import packages"
   ]
  },
  {
   "cell_type": "code",
   "execution_count": 1,
   "metadata": {},
   "outputs": [],
   "source": [
    "#import pdfplumber\n",
    "import os\n",
    "import glob\n",
    "import PyPDF2\n",
    "import PyPDF4\n",
    "from nltk import word_tokenize\n",
    "import nltk\n",
    "import spacy\n",
    "import re\n",
    "from scipy.spatial.distance import cityblock, euclidean, cosine\n",
    "import numpy as np\n",
    "import pandas as pd\n",
    "import gensim.downloader as api\n",
    "\n"
   ]
  },
  {
   "cell_type": "markdown",
   "metadata": {},
   "source": [
    "# Section 1: Extract text and clean\n",
    "### Create text files from Bristol Climate Action Plan"
   ]
  },
  {
   "cell_type": "code",
   "execution_count": 4,
   "metadata": {},
   "outputs": [],
   "source": [
    "if not os.path.isdir('Bristol'): \n",
    "    os.mkdir('Bristol')"
   ]
  },
  {
   "cell_type": "code",
   "execution_count": 5,
   "metadata": {},
   "outputs": [],
   "source": [
    "pdf = PyPDF4.PdfFileReader(open('one-city-climate-strategy.pdf', 'rb'))\n",
    "for i in range(pdf.numPages):\n",
    "    num = str(i)\n",
    "    text = pdf.pages[i].extractText()\n",
    "    with open(f'Bristol/bristol{num}.txt', 'w', encoding='utf-8') as f:\n",
    "        f.write(text)\n"
   ]
  },
  {
   "cell_type": "markdown",
   "metadata": {},
   "source": [
    "### Now tidy up each file"
   ]
  },
  {
   "cell_type": "code",
   "execution_count": 4,
   "metadata": {},
   "outputs": [],
   "source": [
    "files = glob.glob('Bristol/bristol*.txt')\n",
    "\n",
    "#create an empty text file to receive the text...\n",
    "with open('Bristol/full_text.txt', 'w') as f:\n",
    "    pass"
   ]
  },
  {
   "cell_type": "code",
   "execution_count": 5,
   "metadata": {
    "tags": []
   },
   "outputs": [],
   "source": [
    "#First, delete empty lines\n",
    "for i in range(len(files)):\n",
    "    item = files[i]\n",
    "    with open(item, 'r+', encoding='utf-8') as f:\n",
    "        text = f.readlines()\n",
    "        #print(text)\n",
    "        new_text = ''\n",
    "        for line in text:\n",
    "            new_text += line.replace('\\n', '')\n",
    "        # now append text to master text file\n",
    "        with open('Bristol/bristol_full.txt', 'a', encoding='utf-8') as p:\n",
    "            p.write(new_text)\n"
   ]
  },
  {
   "cell_type": "markdown",
   "metadata": {},
   "source": [
    "### Some further cleaning"
   ]
  },
  {
   "cell_type": "markdown",
   "metadata": {},
   "source": [
    "Inserting spaces between digits followed immediately by letters, or letters immediately followed by digits"
   ]
  },
  {
   "cell_type": "code",
   "execution_count": 6,
   "metadata": {},
   "outputs": [],
   "source": [
    "#Define a regex expression to recognise letters followed by digits or digits followed by letters\n",
    "dl = re.compile(r'(?<=\\d)(?=[^\\d\\s,.])|(?<=[^\\d\\s,.])(?=\\d)')"
   ]
  },
  {
   "cell_type": "code",
   "execution_count": 7,
   "metadata": {},
   "outputs": [
    {
     "name": "stdout",
     "output_type": "stream",
     "text": [
      "Bristol will be carbon neutral by 2030 and from 2040 will only use 140 EVs. 2025 will see the launch of 1.5 kWh battery.\n"
     ]
    }
   ],
   "source": [
    "# Run a test\n",
    "test_string = 'Bristol will be carbon neutral by2030 and from 2040will only use 140EVs. 2025 will see the launch of 1.5kWh battery.'\n",
    "print(dl.sub(' ', test_string))"
   ]
  },
  {
   "cell_type": "code",
   "execution_count": 8,
   "metadata": {},
   "outputs": [],
   "source": [
    "#Open, take text, amend, and then wipe and rewrite\n",
    "climate_plan_text = ''\n",
    "with open('Bristol/bristol_full.txt', 'r+', encoding='utf-8') as f:\n",
    "    text = f.read()\n",
    "    climate_plan_text += dl.sub(' ', text)\n",
    "\n",
    "with open('Bristol/bristol_full.txt', 'w', encoding='utf-8') as f:\n",
    "    f.write(climate_plan_text)"
   ]
  },
  {
   "cell_type": "markdown",
   "metadata": {},
   "source": [
    "In some places, years are followed by an extra digit - usually a rogue page number, or something like that."
   ]
  },
  {
   "cell_type": "code",
   "execution_count": 9,
   "metadata": {},
   "outputs": [],
   "source": [
    "# Define a regex that matches the 5th digit in a 5 digit number. We assume that any other numbers use comma separations. \n",
    "yr = re.compile(r'(\\d)(?<=\\d{5})')"
   ]
  },
  {
   "cell_type": "code",
   "execution_count": 10,
   "metadata": {},
   "outputs": [
    {
     "name": "stdout",
     "output_type": "stream",
     "text": [
      "climate resilient Bristol by 2030 Foreword\n"
     ]
    }
   ],
   "source": [
    "test_string_2 = 'climate resilient Bristol by 20302 Foreword'\n",
    "print(yr.sub('', test_string_2))"
   ]
  },
  {
   "cell_type": "code",
   "execution_count": 11,
   "metadata": {},
   "outputs": [],
   "source": [
    "# Now apply this to the document:\n",
    "\n",
    "climate_plan_text = yr.sub('', climate_plan_text)\n",
    "with open('Bristol/bristol_full.txt', 'w', encoding = 'utf-8') as f:\n",
    "    f.write(climate_plan_text)"
   ]
  },
  {
   "cell_type": "markdown",
   "metadata": {},
   "source": [
    "We have some full stops surrounded by words, e.g. \"action.This\""
   ]
  },
  {
   "cell_type": "code",
   "execution_count": 12,
   "metadata": {},
   "outputs": [],
   "source": [
    "#Define a regex expression to match the full stops surrounded by letters and insert a space.\n",
    "fs = re.compile(r'\\.(?=\\w)')"
   ]
  },
  {
   "cell_type": "code",
   "execution_count": 13,
   "metadata": {},
   "outputs": [
    {
     "name": "stdout",
     "output_type": "stream",
     "text": [
      "in Bristol. This will help. Testing, testing. Some are. Written correctly.\n"
     ]
    }
   ],
   "source": [
    "#Run a test...\n",
    "test_string_3 = 'in Bristol.This will help.Testing, testing. Some are. Written correctly.'\n",
    "print(fs.sub('. ', test_string_3))"
   ]
  },
  {
   "cell_type": "code",
   "execution_count": 14,
   "metadata": {},
   "outputs": [],
   "source": [
    "# Now apply to text\n",
    "\n",
    "climate_plan_text = fs.sub('. ', climate_plan_text)\n",
    "\n",
    "with open('Bristol/bristol_full.txt', 'w', encoding = 'utf-8') as f:\n",
    "    f.write(climate_plan_text)"
   ]
  },
  {
   "cell_type": "markdown",
   "metadata": {},
   "source": [
    " Now we have 'Bristol/bristol_full.txt' as the whole climate action plan"
   ]
  },
  {
   "cell_type": "markdown",
   "metadata": {
    "tags": []
   },
   "source": [
    "# Section 2: Experimenting with NLP. \n",
    "## Part 1: Experimenting with NLTK (not working)"
   ]
  },
  {
   "cell_type": "code",
   "execution_count": 15,
   "metadata": {},
   "outputs": [],
   "source": [
    "climate_plan_text = ''\n",
    "with open('Bristol/bristol_full.txt', 'r', encoding = 'utf-8') as f:\n",
    "    climate_plan_text += f.read()"
   ]
  },
  {
   "cell_type": "code",
   "execution_count": 16,
   "metadata": {},
   "outputs": [
    {
     "name": "stdout",
     "output_type": "stream",
     "text": [
      "582256\n"
     ]
    }
   ],
   "source": [
    "print(len(climate_plan_text))"
   ]
  },
  {
   "cell_type": "code",
   "execution_count": 17,
   "metadata": {},
   "outputs": [
    {
     "data": {
      "text/plain": [
       "'From the One City Environmental Sustainability Boa'"
      ]
     },
     "execution_count": 17,
     "metadata": {},
     "output_type": "execute_result"
    }
   ],
   "source": [
    "climate_plan_text[100:150]"
   ]
  },
  {
   "cell_type": "markdown",
   "metadata": {},
   "source": [
    "### Sentence segmentation"
   ]
  },
  {
   "cell_type": "code",
   "execution_count": 18,
   "metadata": {},
   "outputs": [],
   "source": [
    "#Instantiate a sentence tokenizer, segment and then tokenize the sentences. \n",
    "\n",
    "sent_tokenizer = nltk.data.load('tokenizers/punkt/english.pickle')\n",
    "sents = sent_tokenizer.tokenize(climate_plan_text)"
   ]
  },
  {
   "cell_type": "code",
   "execution_count": 19,
   "metadata": {},
   "outputs": [
    {
     "name": "stdout",
     "output_type": "stream",
     "text": [
      "['The strategy will be delivered by organisations, communities and individuals working together.', 'The engagement and collaboration is just the start of what is needed.', 'We will continue to have an open dialogue and engage with individuals, households, organisations and businesses over the coming decade.', 'The evidence baseTo develop the One City Climate Strategy, we commissioned evidence-based reports on reducing greenhouse gas emissions and on improving our resilience to the impacts of a changing climate.', 'The ˜ve studies that inform this strategy are: 1.', 'A scope 1 and 2 baseline and gap analysis.', 'This sets out the baseline, historic trends, as well as the trajectory from actions that are already planned or in place and the trajectory to meet the UK national net zero target by 2050.', '2.', 'Total business emissions study.', 'This was an assessment of scope 1, 2 and 3 emissions associated with business activities in Bristol.']\n"
     ]
    }
   ],
   "source": [
    "#A bit of quality control.\n",
    "print(sents[30:40])"
   ]
  },
  {
   "cell_type": "code",
   "execution_count": 20,
   "metadata": {},
   "outputs": [],
   "source": [
    "# Word tokenize each sentence. \n",
    "sentences = [nltk.word_tokenize(sent) for sent in sents]"
   ]
  },
  {
   "cell_type": "code",
   "execution_count": 21,
   "metadata": {},
   "outputs": [],
   "source": [
    "# And position tag the words in each sentence. \n",
    "sentences_pos = [nltk.pos_tag(sent) for sent in sentences]"
   ]
  },
  {
   "cell_type": "code",
   "execution_count": 22,
   "metadata": {},
   "outputs": [
    {
     "name": "stdout",
     "output_type": "stream",
     "text": [
      "[('Net', 'JJ'), ('zero', 'NN'), ('by', 'IN'), ('2030', 'CD'), ('scope', 'NN'), ('1', 'CD'), ('and', 'CC'), ('2', 'CD'), ('study', 'NN'), ('.', '.')]\n"
     ]
    }
   ],
   "source": [
    "# A bit more quality control\n",
    "print(sentences_pos[45])"
   ]
  },
  {
   "cell_type": "markdown",
   "metadata": {},
   "source": [
    "### Now for some chunking - fire up the chunker!"
   ]
  },
  {
   "cell_type": "code",
   "execution_count": 23,
   "metadata": {},
   "outputs": [],
   "source": [
    "#first define some chunk grammar\n",
    "grammar = r\"\"\"\n",
    "NP: {<DT|PP\\$>?<JJ>*<NN>} #chunk determiner/possessssive, adjectives and noun\n",
    "\"\"\""
   ]
  },
  {
   "cell_type": "code",
   "execution_count": 24,
   "metadata": {},
   "outputs": [],
   "source": [
    "# Second, pass the grammar to the chunk parser\n",
    "cp = nltk.RegexpParser(grammar)"
   ]
  },
  {
   "cell_type": "code",
   "execution_count": 25,
   "metadata": {},
   "outputs": [],
   "source": [
    "#Finish this bit later..."
   ]
  },
  {
   "cell_type": "markdown",
   "metadata": {},
   "source": [
    "## Part 2: Topic modelling with gensim\n",
    "\n",
    "This works & will extract topics"
   ]
  },
  {
   "cell_type": "code",
   "execution_count": 26,
   "metadata": {},
   "outputs": [],
   "source": [
    "#First tokenize the text with scikit-learn\n",
    "nlp = spacy.load('en_core_web_sm')\n",
    "nlp\n",
    "from spacy.lang.en import English\n",
    "parser = English()"
   ]
  },
  {
   "cell_type": "code",
   "execution_count": 27,
   "metadata": {},
   "outputs": [],
   "source": [
    "def tokenize(text):\n",
    "    lda_tokens = []\n",
    "    tokens = parser(text)\n",
    "    for token in tokens:\n",
    "        if token.orth_.isspace():\n",
    "            continue\n",
    "        elif token.like_url:\n",
    "            lda_tokens.append('URL')\n",
    "        elif token.orth_.startswith('@'):\n",
    "            lda_tokens.append('SCREEN_NAME')\n",
    "        else:\n",
    "            lda_tokens.append(token.lower_)\n",
    "    return lda_tokens"
   ]
  },
  {
   "cell_type": "code",
   "execution_count": 28,
   "metadata": {},
   "outputs": [
    {
     "name": "stderr",
     "output_type": "stream",
     "text": [
      "[nltk_data] Downloading package wordnet to\n",
      "[nltk_data]     C:\\Users\\Ben\\AppData\\Roaming\\nltk_data...\n",
      "[nltk_data]   Package wordnet is already up-to-date!\n"
     ]
    }
   ],
   "source": [
    "# We use NLTK’s Wordnet to find the meanings of words, synonyms, antonyms, and more. In addition, we use WordNetLemmatizer to get the root word.\n",
    "nltk.download('wordnet')\n",
    "from nltk.corpus import wordnet as wn\n",
    "def get_lemma(word):\n",
    "    lemma = wn.morphy(word)\n",
    "    if lemma is None:\n",
    "        return word\n",
    "    else:\n",
    "        return lemma\n",
    "    \n",
    "from nltk.stem.wordnet import WordNetLemmatizer\n",
    "def get_lemma2(word):\n",
    "    return WordNetLemmatizer().lemmatize(word)"
   ]
  },
  {
   "cell_type": "code",
   "execution_count": 29,
   "metadata": {
    "tags": []
   },
   "outputs": [
    {
     "name": "stderr",
     "output_type": "stream",
     "text": [
      "[nltk_data] Downloading package stopwords to\n",
      "[nltk_data]     C:\\Users\\Ben\\AppData\\Roaming\\nltk_data...\n",
      "[nltk_data]   Package stopwords is already up-to-date!\n"
     ]
    }
   ],
   "source": [
    "# Filter out stop words:\n",
    "nltk.download('stopwords')\n",
    "en_stop = set(nltk.corpus.stopwords.words('english'))"
   ]
  },
  {
   "cell_type": "code",
   "execution_count": 30,
   "metadata": {},
   "outputs": [],
   "source": [
    "# Now we can define a function to prepare the text for topic modelling:\n",
    "def prepare_text_for_lda(text):\n",
    "    tokens = tokenize(text)\n",
    "    tokens = [token for token in tokens if len(token) > 4]\n",
    "    tokens = [token for token in tokens if token not in en_stop]\n",
    "    tokens = [get_lemma(token) for token in tokens]\n",
    "    return tokens"
   ]
  },
  {
   "cell_type": "code",
   "execution_count": 31,
   "metadata": {
    "tags": []
   },
   "outputs": [],
   "source": [
    "text = prepare_text_for_lda(climate_plan_text)"
   ]
  },
  {
   "cell_type": "code",
   "execution_count": 32,
   "metadata": {},
   "outputs": [],
   "source": [
    "text_data = [prepare_text_for_lda(sent) for sent in sents]\n"
   ]
  },
  {
   "cell_type": "markdown",
   "metadata": {},
   "source": [
    "### LDA = Latent Dirichlet Allocation\n",
    "\n",
    "This topic modelling is an unsupervised machine learning method that helps us discover hidden semantic structures in a document, that allows us to learn topic representations of documents in a corpus. The model can be applied to any kinds of labels on documents, such as tags on posts on a website."
   ]
  },
  {
   "cell_type": "code",
   "execution_count": 33,
   "metadata": {},
   "outputs": [],
   "source": [
    "from gensim import corpora\n",
    "dictionary = corpora.Dictionary(text_data)\n",
    "corpus = [dictionary.doc2bow(sent) for sent in text_data]"
   ]
  },
  {
   "cell_type": "code",
   "execution_count": 34,
   "metadata": {},
   "outputs": [],
   "source": [
    "import pickle\n",
    "pickle.dump(corpus, open('corpus.pkl', 'wb'))\n",
    "dictionary.save('dictionary.gensim')"
   ]
  },
  {
   "cell_type": "code",
   "execution_count": 35,
   "metadata": {},
   "outputs": [
    {
     "name": "stdout",
     "output_type": "stream",
     "text": [
      "(0, '0.055*\"electricity\" + 0.027*\"demand\" + 0.021*\"change\" + 0.019*\"renewable\"')\n",
      "(1, '0.030*\"enable\" + 0.029*\"strategy\" + 0.029*\"across\" + 0.026*\"change\"')\n",
      "(2, '0.030*\"consumption\" + 0.030*\"energy\" + 0.021*\"approach\" + 0.015*\"business\"')\n",
      "(3, '0.031*\"support\" + 0.029*\"national\" + 0.026*\"local\" + 0.026*\"regional\"')\n",
      "(4, '0.026*\"infrastructure\" + 0.022*\"support\" + 0.015*\"water\" + 0.015*\"clear\"')\n",
      "(5, '0.081*\"bristol\" + 0.042*\"emission\" + 0.036*\"services\" + 0.027*\"public\"')\n",
      "(6, '0.054*\"infrastructure\" + 0.035*\"green\" + 0.025*\"climate\" + 0.025*\"change\"')\n",
      "(7, '0.031*\"delivery\" + 0.030*\"evidence\" + 0.027*\"bristol\" + 0.025*\"climate\"')\n",
      "(8, '0.048*\"climate\" + 0.024*\"bristol\" + 0.022*\"carbon\" + 0.021*\"theme\"')\n",
      "(9, '0.029*\"bristol\" + 0.018*\"programme\" + 0.015*\"include\" + 0.015*\"infrastructure\"')\n",
      "(10, '0.045*\"climate\" + 0.018*\"impact\" + 0.017*\"report\" + 0.015*\"emission\"')\n",
      "(11, '0.038*\"climate\" + 0.034*\"bristol\" + 0.027*\"change\" + 0.021*\"emergency\"')\n",
      "(12, '0.050*\"climate\" + 0.038*\"change\" + 0.037*\"strategy\" + 0.023*\"bristol\"')\n",
      "(13, '0.041*\"emission\" + 0.023*\"supply\" + 0.022*\"scope\" + 0.019*\"carbon\"')\n",
      "(14, '0.022*\"waste\" + 0.019*\"support\" + 0.017*\"leadership\" + 0.014*\"critical\"')\n",
      "(15, '0.039*\"share\" + 0.034*\"climate\" + 0.026*\"bristol\" + 0.022*\"community\"')\n",
      "(16, '0.041*\"carbon\" + 0.034*\"change\" + 0.033*\"climate\" + 0.030*\"neutral\"')\n",
      "(17, '0.036*\"transport\" + 0.019*\"infrastructure\" + 0.018*\"public\" + 0.018*\"energy\"')\n",
      "(18, '0.047*\"carbon\" + 0.029*\"neutral\" + 0.020*\"support\" + 0.020*\"heating\"')\n",
      "(19, '0.037*\"climate\" + 0.014*\"capacity\" + 0.014*\"hazard\" + 0.013*\"emergency\"')\n"
     ]
    }
   ],
   "source": [
    "import gensim\n",
    "NUM_TOPICS = 20\n",
    "ldamodel = gensim.models.ldamodel.LdaModel(corpus, num_topics = NUM_TOPICS, id2word=dictionary, passes=15)\n",
    "ldamodel.save('model5.gensim')\n",
    "\n",
    "topics = ldamodel.print_topics(num_words = 4)\n",
    "for topic in topics:\n",
    "    print(topic)"
   ]
  },
  {
   "cell_type": "code",
   "execution_count": null,
   "metadata": {},
   "outputs": [],
   "source": []
  },
  {
   "cell_type": "markdown",
   "metadata": {},
   "source": [
    "## Part 3: Bag of words analysis, sentence by sentence (not yet working)"
   ]
  },
  {
   "cell_type": "code",
   "execution_count": 36,
   "metadata": {},
   "outputs": [],
   "source": [
    "from sklearn.feature_extraction.text import CountVectorizer, TfidfTransformer, TfidfVectorizer"
   ]
  },
  {
   "cell_type": "code",
   "execution_count": 37,
   "metadata": {},
   "outputs": [
    {
     "name": "stdout",
     "output_type": "stream",
     "text": [
      "['1 ClimateOne CityStrategyA strategy for a carbon neutral, climate resilient Bristol by 2030 ForewordFrom the One City Environmental Sustainability BoardWe are facing a climate emergency.', 'As a city we need to act now to reduce direct and indirect carbon emissions to net zero.', 'We need to prepare and adapt to deal with the projected impacts of climate change.', 'In the One City Plan, Bristol committed to becoming carbon neutral and climate resilient by 2030.', 'To achieve this, over the next decade, we need to radically rethink how we live, work and invest in the city.']\n"
     ]
    }
   ],
   "source": [
    "# We'll use 'sents', which is a list generated above, each sentence is an item in the list. We'll try to find the topic of each sentence. \n",
    "print(sents[:5])"
   ]
  },
  {
   "cell_type": "code",
   "execution_count": 38,
   "metadata": {},
   "outputs": [],
   "source": [
    "# instantiate the vectorizer and fit it to our sentences\n",
    "vectorizer = CountVectorizer()\n",
    "counts = vectorizer.fit_transform(sents)"
   ]
  },
  {
   "cell_type": "code",
   "execution_count": 39,
   "metadata": {},
   "outputs": [],
   "source": [
    "#convert counts to tf-idf\n",
    "transformer = TfidfTransformer(norm = None)\n",
    "\n",
    "#initialize and fit TfidfVectorizer\n",
    "tfidf_scores_transformed = transformer.fit_transform(counts)"
   ]
  },
  {
   "cell_type": "code",
   "execution_count": 40,
   "metadata": {},
   "outputs": [],
   "source": [
    "#check if tf-idf scores are equal\n",
    "vectorizer = TfidfVectorizer(norm = None)\n",
    "tfidf_scores = vectorizer.fit_transform(sents)"
   ]
  },
  {
   "cell_type": "code",
   "execution_count": 41,
   "metadata": {},
   "outputs": [
    {
     "name": "stdout",
     "output_type": "stream",
     "text": [
      "  Are the tf-idf scores all the same?\n",
      "0                                 YES\n"
     ]
    }
   ],
   "source": [
    "if np.allclose(tfidf_scores_transformed.todense(), tfidf_scores.todense()):\n",
    "    print(pd.DataFrame({'Are the tf-idf scores all the same?': ['YES']}))\n",
    "else:\n",
    "    print(pd.DataFrame({'Are the tf-idf scores all the same?': ['No, something is wrong :(']}))"
   ]
  },
  {
   "cell_type": "code",
   "execution_count": 42,
   "metadata": {},
   "outputs": [],
   "source": [
    "# get vocabulary of terms\n",
    "try:\n",
    "    feature_names = vectorizer.get_feature_names()\n",
    "except:\n",
    "    print('Hm, no')\n",
    "    pass"
   ]
  },
  {
   "cell_type": "code",
   "execution_count": 43,
   "metadata": {},
   "outputs": [
    {
     "name": "stdout",
     "output_type": "stream",
     "text": [
      "Hm, yes\n"
     ]
    }
   ],
   "source": [
    "# get article index\n",
    "try:\n",
    "    sent_index = [f'Sentence {i+1}' for i in range(len(sents))]\n",
    "    print('Hm, yes')\n",
    "except:\n",
    "    print('Hm, no')\n",
    "    pass\n"
   ]
  },
  {
   "cell_type": "code",
   "execution_count": 44,
   "metadata": {},
   "outputs": [
    {
     "name": "stdout",
     "output_type": "stream",
     "text": [
      "               Sentence 1  Sentence 2  Sentence 3  Sentence 4  Sentence 5  \\\n",
      "00                      0           0           0           0           0   \n",
      "000                     0           0           0           0           0   \n",
      "005                     0           0           0           0           0   \n",
      "0217                    0           0           0           0           0   \n",
      "05                      0           0           0           0           0   \n",
      "...                   ...         ...         ...         ...         ...   \n",
      "ﬁenabling               0           0           0           0           0   \n",
      "ﬁgreenﬁ                 0           0           0           0           0   \n",
      "ﬁin                     0           0           0           0           0   \n",
      "ﬁthe                    0           0           0           0           0   \n",
      "ﬂintroduction           0           0           0           0           0   \n",
      "\n",
      "               Sentence 6  Sentence 7  Sentence 8  Sentence 9  Sentence 10  \\\n",
      "00                      0           0           0           0            0   \n",
      "000                     0           0           0           0            0   \n",
      "005                     0           0           0           0            0   \n",
      "0217                    0           0           0           0            0   \n",
      "05                      0           0           0           0            0   \n",
      "...                   ...         ...         ...         ...          ...   \n",
      "ﬁenabling               0           0           0           0            0   \n",
      "ﬁgreenﬁ                 0           0           0           0            0   \n",
      "ﬁin                     0           0           0           0            0   \n",
      "ﬁthe                    0           0           0           0            0   \n",
      "ﬂintroduction           0           0           0           0            0   \n",
      "\n",
      "               ...  Sentence 3707  Sentence 3708  Sentence 3709  \\\n",
      "00             ...              0              0              0   \n",
      "000            ...              0              0              0   \n",
      "005            ...              0              0              0   \n",
      "0217           ...              0              0              0   \n",
      "05             ...              0              0              0   \n",
      "...            ...            ...            ...            ...   \n",
      "ﬁenabling      ...              0              0              0   \n",
      "ﬁgreenﬁ        ...              0              0              0   \n",
      "ﬁin            ...              0              0              0   \n",
      "ﬁthe           ...              0              0              0   \n",
      "ﬂintroduction  ...              0              0              0   \n",
      "\n",
      "               Sentence 3710  Sentence 3711  Sentence 3712  Sentence 3713  \\\n",
      "00                         0              0              0              0   \n",
      "000                        0              0              0              0   \n",
      "005                        0              0              0              0   \n",
      "0217                       0              0              0              0   \n",
      "05                         0              0              0              0   \n",
      "...                      ...            ...            ...            ...   \n",
      "ﬁenabling                  0              0              0              0   \n",
      "ﬁgreenﬁ                    0              0              0              0   \n",
      "ﬁin                        0              0              0              0   \n",
      "ﬁthe                       0              0              0              0   \n",
      "ﬂintroduction              0              0              0              0   \n",
      "\n",
      "               Sentence 3714  Sentence 3715  Sentence 3716  \n",
      "00                         0              0              0  \n",
      "000                        0              0              0  \n",
      "005                        0              0              0  \n",
      "0217                       0              0              0  \n",
      "05                         0              0              0  \n",
      "...                      ...            ...            ...  \n",
      "ﬁenabling                  0              0              0  \n",
      "ﬁgreenﬁ                    0              0              0  \n",
      "ﬁin                        0              0              0  \n",
      "ﬁthe                       0              0              0  \n",
      "ﬂintroduction              0              0              0  \n",
      "\n",
      "[2812 rows x 3716 columns]\n"
     ]
    }
   ],
   "source": [
    "# create pandas DataFrame with word counts\n",
    "try:\n",
    "  df_word_counts = pd.DataFrame(counts.T.todense(), index=feature_names, columns=sent_index)\n",
    "  print(df_word_counts)\n",
    "except:\n",
    "  pass"
   ]
  },
  {
   "cell_type": "code",
   "execution_count": 45,
   "metadata": {},
   "outputs": [
    {
     "name": "stdout",
     "output_type": "stream",
     "text": [
      "               Sentence 1  Sentence 2  Sentence 3  Sentence 4  Sentence 5  \\\n",
      "00                    0.0         0.0         0.0         0.0         0.0   \n",
      "000                   0.0         0.0         0.0         0.0         0.0   \n",
      "005                   0.0         0.0         0.0         0.0         0.0   \n",
      "0217                  0.0         0.0         0.0         0.0         0.0   \n",
      "05                    0.0         0.0         0.0         0.0         0.0   \n",
      "...                   ...         ...         ...         ...         ...   \n",
      "ﬁenabling             0.0         0.0         0.0         0.0         0.0   \n",
      "ﬁgreenﬁ               0.0         0.0         0.0         0.0         0.0   \n",
      "ﬁin                   0.0         0.0         0.0         0.0         0.0   \n",
      "ﬁthe                  0.0         0.0         0.0         0.0         0.0   \n",
      "ﬂintroduction         0.0         0.0         0.0         0.0         0.0   \n",
      "\n",
      "               Sentence 6  Sentence 7  Sentence 8  Sentence 9  Sentence 10  \\\n",
      "00                    0.0         0.0         0.0         0.0          0.0   \n",
      "000                   0.0         0.0         0.0         0.0          0.0   \n",
      "005                   0.0         0.0         0.0         0.0          0.0   \n",
      "0217                  0.0         0.0         0.0         0.0          0.0   \n",
      "05                    0.0         0.0         0.0         0.0          0.0   \n",
      "...                   ...         ...         ...         ...          ...   \n",
      "ﬁenabling             0.0         0.0         0.0         0.0          0.0   \n",
      "ﬁgreenﬁ               0.0         0.0         0.0         0.0          0.0   \n",
      "ﬁin                   0.0         0.0         0.0         0.0          0.0   \n",
      "ﬁthe                  0.0         0.0         0.0         0.0          0.0   \n",
      "ﬂintroduction         0.0         0.0         0.0         0.0          0.0   \n",
      "\n",
      "               ...  Sentence 3707  Sentence 3708  Sentence 3709  \\\n",
      "00             ...            0.0            0.0            0.0   \n",
      "000            ...            0.0            0.0            0.0   \n",
      "005            ...            0.0            0.0            0.0   \n",
      "0217           ...            0.0            0.0            0.0   \n",
      "05             ...            0.0            0.0            0.0   \n",
      "...            ...            ...            ...            ...   \n",
      "ﬁenabling      ...            0.0            0.0            0.0   \n",
      "ﬁgreenﬁ        ...            0.0            0.0            0.0   \n",
      "ﬁin            ...            0.0            0.0            0.0   \n",
      "ﬁthe           ...            0.0            0.0            0.0   \n",
      "ﬂintroduction  ...            0.0            0.0            0.0   \n",
      "\n",
      "               Sentence 3710  Sentence 3711  Sentence 3712  Sentence 3713  \\\n",
      "00                       0.0            0.0            0.0            0.0   \n",
      "000                      0.0            0.0            0.0            0.0   \n",
      "005                      0.0            0.0            0.0            0.0   \n",
      "0217                     0.0            0.0            0.0            0.0   \n",
      "05                       0.0            0.0            0.0            0.0   \n",
      "...                      ...            ...            ...            ...   \n",
      "ﬁenabling                0.0            0.0            0.0            0.0   \n",
      "ﬁgreenﬁ                  0.0            0.0            0.0            0.0   \n",
      "ﬁin                      0.0            0.0            0.0            0.0   \n",
      "ﬁthe                     0.0            0.0            0.0            0.0   \n",
      "ﬂintroduction            0.0            0.0            0.0            0.0   \n",
      "\n",
      "               Sentence 3714  Sentence 3715  Sentence 3716  \n",
      "00                       0.0            0.0            0.0  \n",
      "000                      0.0            0.0            0.0  \n",
      "005                      0.0            0.0            0.0  \n",
      "0217                     0.0            0.0            0.0  \n",
      "05                       0.0            0.0            0.0  \n",
      "...                      ...            ...            ...  \n",
      "ﬁenabling                0.0            0.0            0.0  \n",
      "ﬁgreenﬁ                  0.0            0.0            0.0  \n",
      "ﬁin                      0.0            0.0            0.0  \n",
      "ﬁthe                     0.0            0.0            0.0  \n",
      "ﬂintroduction            0.0            0.0            0.0  \n",
      "\n",
      "[2812 rows x 3716 columns]\n",
      "               Sentence 1  Sentence 2  Sentence 3  Sentence 4  Sentence 5  \\\n",
      "00                    0.0         0.0         0.0         0.0         0.0   \n",
      "000                   0.0         0.0         0.0         0.0         0.0   \n",
      "005                   0.0         0.0         0.0         0.0         0.0   \n",
      "0217                  0.0         0.0         0.0         0.0         0.0   \n",
      "05                    0.0         0.0         0.0         0.0         0.0   \n",
      "...                   ...         ...         ...         ...         ...   \n",
      "ﬁenabling             0.0         0.0         0.0         0.0         0.0   \n",
      "ﬁgreenﬁ               0.0         0.0         0.0         0.0         0.0   \n",
      "ﬁin                   0.0         0.0         0.0         0.0         0.0   \n",
      "ﬁthe                  0.0         0.0         0.0         0.0         0.0   \n",
      "ﬂintroduction         0.0         0.0         0.0         0.0         0.0   \n",
      "\n",
      "               Sentence 6  Sentence 7  Sentence 8  Sentence 9  Sentence 10  \\\n",
      "00                    0.0         0.0         0.0         0.0          0.0   \n",
      "000                   0.0         0.0         0.0         0.0          0.0   \n",
      "005                   0.0         0.0         0.0         0.0          0.0   \n",
      "0217                  0.0         0.0         0.0         0.0          0.0   \n",
      "05                    0.0         0.0         0.0         0.0          0.0   \n",
      "...                   ...         ...         ...         ...          ...   \n",
      "ﬁenabling             0.0         0.0         0.0         0.0          0.0   \n",
      "ﬁgreenﬁ               0.0         0.0         0.0         0.0          0.0   \n",
      "ﬁin                   0.0         0.0         0.0         0.0          0.0   \n",
      "ﬁthe                  0.0         0.0         0.0         0.0          0.0   \n",
      "ﬂintroduction         0.0         0.0         0.0         0.0          0.0   \n",
      "\n",
      "               ...  Sentence 3707  Sentence 3708  Sentence 3709  \\\n",
      "00             ...            0.0            0.0            0.0   \n",
      "000            ...            0.0            0.0            0.0   \n",
      "005            ...            0.0            0.0            0.0   \n",
      "0217           ...            0.0            0.0            0.0   \n",
      "05             ...            0.0            0.0            0.0   \n",
      "...            ...            ...            ...            ...   \n",
      "ﬁenabling      ...            0.0            0.0            0.0   \n",
      "ﬁgreenﬁ        ...            0.0            0.0            0.0   \n",
      "ﬁin            ...            0.0            0.0            0.0   \n",
      "ﬁthe           ...            0.0            0.0            0.0   \n",
      "ﬂintroduction  ...            0.0            0.0            0.0   \n",
      "\n",
      "               Sentence 3710  Sentence 3711  Sentence 3712  Sentence 3713  \\\n",
      "00                       0.0            0.0            0.0            0.0   \n",
      "000                      0.0            0.0            0.0            0.0   \n",
      "005                      0.0            0.0            0.0            0.0   \n",
      "0217                     0.0            0.0            0.0            0.0   \n",
      "05                       0.0            0.0            0.0            0.0   \n",
      "...                      ...            ...            ...            ...   \n",
      "ﬁenabling                0.0            0.0            0.0            0.0   \n",
      "ﬁgreenﬁ                  0.0            0.0            0.0            0.0   \n",
      "ﬁin                      0.0            0.0            0.0            0.0   \n",
      "ﬁthe                     0.0            0.0            0.0            0.0   \n",
      "ﬂintroduction            0.0            0.0            0.0            0.0   \n",
      "\n",
      "               Sentence 3714  Sentence 3715  Sentence 3716  \n",
      "00                       0.0            0.0            0.0  \n",
      "000                      0.0            0.0            0.0  \n",
      "005                      0.0            0.0            0.0  \n",
      "0217                     0.0            0.0            0.0  \n",
      "05                       0.0            0.0            0.0  \n",
      "...                      ...            ...            ...  \n",
      "ﬁenabling                0.0            0.0            0.0  \n",
      "ﬁgreenﬁ                  0.0            0.0            0.0  \n",
      "ﬁin                      0.0            0.0            0.0  \n",
      "ﬁthe                     0.0            0.0            0.0  \n",
      "ﬂintroduction            0.0            0.0            0.0  \n",
      "\n",
      "[2812 rows x 3716 columns]\n"
     ]
    }
   ],
   "source": [
    "#Create dataframe with tf-idf scores\n",
    "try:\n",
    "  df_tf_idf = pd.DataFrame(tfidf_scores_transformed.T.todense(), index=feature_names, columns=sent_index)\n",
    "  print(df_tf_idf)\n",
    "except:\n",
    "  pass\n",
    "\n",
    "try:\n",
    "  df_tf_idf = pd.DataFrame(tfidf_scores.T.todense(), index=feature_names, columns=sent_index)\n",
    "  print(df_tf_idf)\n",
    "except:\n",
    "  pass"
   ]
  },
  {
   "cell_type": "code",
   "execution_count": 46,
   "metadata": {},
   "outputs": [
    {
     "name": "stdout",
     "output_type": "stream",
     "text": [
      "Sentence 100    lasts\n",
      "dtype: object\n",
      "Sentence 101    cold\n",
      "dtype: object\n",
      "Sentence 102    still\n",
      "dtype: object\n",
      "Sentence 103    impacts\n",
      "dtype: object\n",
      "Sentence 104    clearer\n",
      "dtype: object\n",
      "Sentence 105    causing\n",
      "dtype: object\n",
      "Sentence 106    progressively\n",
      "dtype: object\n",
      "Sentence 107    know\n",
      "dtype: object\n",
      "Sentence 108    ranging\n",
      "dtype: object\n",
      "Sentence 109    2003\n",
      "dtype: object\n",
      "Sentence 110    supply\n",
      "dtype: object\n",
      "Sentence 111    risk\n",
      "dtype: object\n",
      "Sentence 112    foundations\n",
      "dtype: object\n",
      "Sentence 113    projected\n",
      "dtype: object\n",
      "Sentence 114    bristolintroductionbristol\n",
      "dtype: object\n",
      "Sentence 115    yet\n",
      "dtype: object\n",
      "Sentence 116    uk\n",
      "dtype: object\n",
      "Sentence 117    rst\n",
      "dtype: object\n",
      "Sentence 118    concerned\n",
      "dtype: object\n",
      "Sentence 119    citybristol\n",
      "dtype: object\n",
      "Sentence 120    other\n",
      "dtype: object\n",
      "Sentence 121    91\n",
      "dtype: object\n",
      "Sentence 122    contributor\n",
      "dtype: object\n",
      "Sentence 123    most\n",
      "dtype: object\n",
      "Sentence 124    house\n",
      "dtype: object\n",
      "Sentence 125    fuel\n",
      "dtype: object\n",
      "Sentence 126    households\n",
      "dtype: object\n",
      "Sentence 127    ordability\n",
      "dtype: object\n",
      "Sentence 128    deprivation\n",
      "dtype: object\n",
      "Sentence 129    homes\n",
      "dtype: object\n",
      "Sentence 130    77\n",
      "dtype: object\n",
      "Sentence 131    people\n",
      "dtype: object\n",
      "Sentence 132    000\n",
      "dtype: object\n",
      "Sentence 133    concern\n",
      "dtype: object\n",
      "Sentence 134    reducing\n",
      "dtype: object\n",
      "Sentence 135    ambitionin\n",
      "dtype: object\n",
      "Sentence 136    pioneering\n",
      "dtype: object\n",
      "Sentence 137    2050\n",
      "dtype: object\n",
      "Sentence 138    country\n",
      "dtype: object\n",
      "Sentence 139    placed\n",
      "dtype: object\n",
      "Sentence 140    163\n",
      "dtype: object\n",
      "Sentence 141    13\n",
      "dtype: object\n",
      "Sentence 142    university\n",
      "dtype: object\n",
      "Sentence 143    ambitious\n",
      "dtype: object\n",
      "Sentence 144    wider\n",
      "dtype: object\n",
      "Sentence 145    globally\n",
      "dtype: object\n",
      "Sentence 146    ected\n",
      "dtype: object\n",
      "Sentence 147    waste\n",
      "dtype: object\n",
      "Sentence 148    bristolhistory\n",
      "dtype: object\n",
      "Sentence 149    depth\n",
      "dtype: object\n",
      "Sentence 150    left\n",
      "dtype: object\n",
      "Sentence 151    capitalise\n",
      "dtype: object\n",
      "Sentence 152    capacitybristol\n",
      "dtype: object\n",
      "Sentence 153    history\n",
      "dtype: object\n",
      "Sentence 154    environment\n",
      "dtype: object\n",
      "Sentence 155    sector\n",
      "dtype: object\n",
      "Sentence 156    leading\n",
      "dtype: object\n",
      "Sentence 157    commitmentsa\n",
      "dtype: object\n",
      "Sentence 158    mw\n",
      "dtype: object\n",
      "Sentence 159    installed\n",
      "dtype: object\n",
      "Sentence 160    declaring\n",
      "dtype: object\n",
      "Sentence 161    ice\n",
      "dtype: object\n",
      "Sentence 162    seen\n",
      "dtype: object\n",
      "Sentence 163    2011\n",
      "dtype: object\n",
      "Sentence 164    embleton\n",
      "dtype: object\n",
      "Sentence 165    similarly\n",
      "dtype: object\n",
      "Sentence 166    adopted\n",
      "dtype: object\n",
      "Sentence 167    community\n",
      "dtype: object\n",
      "Sentence 168    committed\n",
      "dtype: object\n",
      "Sentence 169    seeking\n",
      "dtype: object\n",
      "Sentence 170    expect\n",
      "dtype: object\n",
      "Sentence 171    183\n",
      "dtype: object\n",
      "Sentence 172    bristol\n",
      "dtype: object\n",
      "Sentence 173    our\n",
      "dtype: object\n",
      "Sentence 174    graphic\n",
      "dtype: object\n",
      "Sentence 175    reaching\n",
      "dtype: object\n",
      "Sentence 176    sets\n",
      "dtype: object\n",
      "Sentence 177    objectives\n",
      "dtype: object\n",
      "Sentence 178    underestimated\n",
      "dtype: object\n",
      "Sentence 179    beyond\n",
      "dtype: object\n",
      "Sentence 180    changeﬂ\n",
      "dtype: object\n",
      "Sentence 181    time\n",
      "dtype: object\n",
      "Sentence 182    do\n",
      "dtype: object\n",
      "Sentence 183    same\n",
      "dtype: object\n",
      "Sentence 184    reinforce\n",
      "dtype: object\n",
      "Sentence 185    scale\n",
      "dtype: object\n",
      "Sentence 186    pledge\n",
      "dtype: object\n",
      "Sentence 187    hospital\n",
      "dtype: object\n",
      "Sentence 188    economy\n",
      "dtype: object\n",
      "Sentence 189    publicservices\n",
      "dtype: object\n",
      "Sentence 190    naturalenvironment\n",
      "dtype: object\n",
      "Sentence 191    10\n",
      "dtype: object\n",
      "Sentence 192    infrastructureinterdependencies\n",
      "dtype: object\n",
      "Sentence 193    consumption\n",
      "dtype: object\n",
      "Sentence 194    electricity\n",
      "dtype: object\n",
      "Sentence 195    heatdecarbonisation\n",
      "dtype: object\n",
      "Sentence 196    204\n",
      "dtype: object\n",
      "Sentence 197    changethe\n",
      "dtype: object\n",
      "Sentence 198    cutting\n",
      "dtype: object\n",
      "Sentence 199    six\n",
      "dtype: object\n"
     ]
    }
   ],
   "source": [
    "for i in range(100, 200):\n",
    "  print(df_tf_idf[[f'Sentence {i}']].idxmax())"
   ]
  },
  {
   "cell_type": "markdown",
   "metadata": {},
   "source": [
    "### Start again - try a Gensim analysis....\n",
    "https://radimrehurek.com/gensim/auto_examples/core/run_corpora_and_vector_spaces.html#sphx-glr-auto-examples-core-run-corpora-and-vector-spaces-py"
   ]
  },
  {
   "cell_type": "markdown",
   "metadata": {},
   "source": [
    "# Phrase / Key Word matching\n",
    "Using SpaCy "
   ]
  },
  {
   "cell_type": "code",
   "execution_count": 47,
   "metadata": {},
   "outputs": [],
   "source": [
    "nlp = spacy.load('en_core_web_sm')\n",
    "from spacy.matcher import PhraseMatcher\n",
    "phrase_matcher = PhraseMatcher(nlp.vocab)"
   ]
  },
  {
   "cell_type": "code",
   "execution_count": 56,
   "metadata": {},
   "outputs": [
    {
     "name": "stdout",
     "output_type": "stream",
     "text": [
      "582256\n"
     ]
    }
   ],
   "source": [
    "# phrases = ['electric vehicles', 'electric vehicle', 'charging', 'transport', 'cars', 'zero emission vehicles', 'emission vehicles']\n",
    "\n",
    "# patterns = [nlp(text) for text in phrases]\n",
    "\n",
    "# phrase_matcher.add('EVs', None, *patterns)\n",
    "\n",
    "# sentence = nlp(climate_plan_text)\n",
    "\n",
    "# matched_phrases = phrase_matcher(sentence)\n",
    "\n",
    "# for match_id, start, end in matched_phrases:\n",
    "#     string_id = nlp.vocab.strings[match_id]\n",
    "#     span = sentence[start:end]\n",
    "#     print(match_id, string_id, start, end, span.text)\n",
    "print(len(climate_plan_text))"
   ]
  },
  {
   "cell_type": "code",
   "execution_count": 57,
   "metadata": {
    "tags": [
     "outputPrepend"
    ]
   },
   "outputs": [
    {
     "name": "stdout",
     "output_type": "stream",
     "text": [
      "olders and the public with transparency about the process. As one of our key principles is learning and evolving this plan, this review will feed into continuous review and revision of the delivery plans. This will enable us to be agile and expend e˙ort on the most e˙ective interventions. Next stepsIn 2020, and in parallel with the delivery planning, we need to develop a clear framework for monitoring and review in subsequent years. We will:  -Develop indicators for mitigation and resilience action covering both outputs (what is delivered through actions) and outcomes (the di˙erence made by the outputs). This monitoring will aim to identify and mitigate any unintended negative consequences.  -Establish a transparent process to monitor delivery, communicate progress and update planning. A note on o˝settingAchieving carbon neutrality will mean managing residual emissions remaining after all planned interventions have been made. This will typically involve o˙setting; this is a complex issue, with challenges around additionality, fairness, ˜nancing interventions and carbon accounting. For example, sequestration of carbon emissions through land use change may be more acceptable than sequestration through land use change outside the city. Given the need to prioritise direct interventions to reduce emissions, o˙setting will be considered as we get closer to 2030. However, given the potential lead in times to assemble ˜nance from across partners in the city, the potential need for land assembly and other complexities to resolve, we are proposing a review of o˙setting requirements in the late 2020 s. 69 DeliveryThis strategy sets out the city™s shared ambition and vision for a decade of transformative climate action. The route for delivering actions will be detailed in delivery plans, which will be developed and engaged on. We quickly need to move from strategy to action. Two key things will be required to enable this;  -Committed, collective, and collaborative leadership from across the city; and  -Resource and capacity to deliver. Committed, collective leadership from across the cityThe One City Approach has already proven successful in bringing partners together to provide collective leadership on key issues and challenges for the city. It is a mechanism aligned to sustainable development, where all actors in society need to play their part in order for us to succeed. Bristol is a city where leadership comes from all sectors and all people; formal structures will only ever represent a part of the picture. And of course people don™t need to wait for someone else in order to act. In fact, many people and businesses are already taking action individually and in communities or networks. This will need to continue and scale up. People™s individual actions to reduce their emissions and make their voices heard are extremely important, both in direct emissions reduction and in bringing about the policy changed we need to achieve these goals. However, governance provides accountability, support and co-ordination within wider networks. The One City Environmental Sustainability Board will continue to provide leadership and oversight of the delivery of the strategy, supported by all ˜ve other Boards, who all came together to support the development of this strategy. The Bristol Advisory Committee on Climate Change will continue to provide evidence and advice to city partners, as we move from action to delivery. Resource and capacity to deliverThe strategy will be followed by delivery plans, in some instances these will be existing statutory plans, in other instances a new approach will be required. In both cases, it is essential to ensure that there are su˛cient human and ˜nancial resources within partners to deliver the plans. This will require a commitment from an initial partner to kick-start and co-ordinate action. Delivery will comprise elements that are both top-down and bottom-up. People who live, work, play and invest in Bristol all have a crucial role to play. There is a strong existing ecosystem of partners working to deliver climate action across the city. It is essential that this work continues. However, in order to deliver at a new pace and scale of change, and to share learning e˙ectively and quickly, new programmes of work will be required. These may well be delivered by individual organisations, but co-ordination will be needed to achieve our shared ambitions as one of the UK™s leading cities. 70 Appendices 82. Introduction and approachGlobal warming and climate change present us with an urgent challenge we need to address. To solve this challenge there is the opportunity to take a collaborative city-wide approach to make transformational change. As the Environmental Sustainability Board we have developed this strategy with partners, based on robust evidence. Global warming has already impacted natural and human systems through increased ˝ooding, devastating wild˜res, storms, loss of biodiversity and extreme drought. Climate related risks to the environment, health, livelihoods, food security, raw materials, water supply and economic growth will rise, even if we manage to limit change to 1. 5 °C and will be felt di˙erently in di˙erent regions. Populations most at risk are marginalised, disadvantaged and vulnerable. In Bristol, some of our most deprived wards will be the most vulnerable to the impacts of climate change, including areas like Lawrence Hill, where ˝ood risk is also higher.  We urgently need to transform We are facing twin emergencies: a climate emergency and an ecological emergency. In addition to the climate emergency, we are also experiencing unprecedented global change due to land and sea use change, direct exploitation of species, pollution and invasive alien species. Human actions threaten more species with global extinction than ever before with the sixth mass extinction already underway. This strategy provides a way forward for Bristol to respond to the climate emergency. We explore opportunities to maximise bene˜ts to the ecological emergency, but a full response will be developed separately. This is a climate strategy for Bristol to respond to both: -Mitigation: the causes of climate change e. g. reducing greenhouse gas emissions and improving carbon sinks; and  -Adaptation: addressing the potential impacts of climate change e. g. actions to adapt to ˝oods, storms or heatwaves and ongoing stresses such as sea level rise and increasing urban heat. It is essential that we address both climate mitigation and adaptation together as an integrated response as no single option is su˛cient by itself. Integrated consideration of adaptation and mitigation will allow us to identify interdependencies, be more e˛cient and minimise risk. The world is rapidly changing and there is uncertainty over what the future will look like. Climate change is likely to impact the city directly though local extreme weather events and through changes further a˜eld which may impact the city indirectly by impacting the economy and the supply of goods and services, such as food or public services. We need to plan for, adapt and build our resilience for projected future risk in a way that provides wider co-bene˜ts so that, no matter what the future looks like, our city will be better for our citizens. This plan is for 2030 when we aim to have the plans and mitigation in place or in progress to make us resilient for events that will occur in 2030 and well beyond. We are facing a climate and ecological emergencyHuman activities are estimated to have caused 1 °C of global warming above pre-industrial levels. We are already seeing devastating impacts of 1 °C warming; this is expected to get worse. The science on the climate emergency is clear; we need urgent action to reduce our carbon emissions to limit global temperature rise to below 1. 5 oC, and so prevent disastrous impacts. We also need to prepare for a changing climate. 71 Glossary and de˚nitionsDe˚nitionsThe following key terms are used within this strategy: Climate change mitigation: A human intervention to reduce the sources or enhance the sinks of greenhouse gases (IPCC, 2012 ). Carbon emissions: Throughout this strategy, we have used the term carbon emissions as a shorthand for all greenhouse gas emissions, expressed as CO 2 e (carbon dioxide equivalents). This strategy refers to greenhouse gas (GHG) emissions, covering scopes 1 - 3, in line with the GHG protocol for cities:  -Scope 1 emissions Direct emissions from owned or controlled services, e. g. fuel combustion, vehicle use.  -Scope 2 emissions Indirect emissions from the generation of purchased energy, e. g. electricity, electric heating.  -Scope 3 emissions All other indirect emissions after scope 2 have been accounted that occur in the entity™s footprint, e. g. production of goods and services, waste disposal, etc. Carbon neutral: Where the carbon emissions caused by an entity (e. g. individual, business, product, etc.) have either been eliminated, or balanced by removals of greenhouse gasses (including o˙setting). This can sometimes be referred to as net zero. For the purposes of this strategy, we have used ﬁcarbon neutralﬂ as shorthand for greenhouse gas emission neutrality. Carbon o˝setting: The action or process of compensating for carbon dioxide emissions arising from industrial or other human activity, by participating in schemes designed to make equivalent reductions of carbon dioxide in the atmosphere. This o˙setting can either be local or international. Carbon sequestration: The process of removing carbon from the atmosphere and storing it˚in a carbon sink, a ˜xed molecule in soil, oceans or plants.˚Climate change adaptation: The process of adapting, either through reducing the impact of the climate hazard, or through reducing exposure or vulnerability, to the actual or expected climate and its e˙ects. Climate resilient: Ability of human and non-human systems to withstand and respond to future changes in the earth™s climate, e. g. extreme weather temperatures, ˝ooding, increased rainfall, etc. Climate resilient by 2030 : In this strategy, we have used this term to mean being prepared, through adaptive planning, for a global temperature rise of up to 4. 3 OC by 2100 compared to pre-industrial levels. Physical climate risk: comprises an assessment of climate hazard exposure, sensitivity and adaptive capacity. Climate hazard: climate-related physical events, such as ˝ooding or drought. Sensitivity: the vulnerability of assets to be impacted by climate hazards based on their condition and capacity and the potential consequences of these hazards on people. 72 Glossary and de˚nitionsAdaptive capacity: the ability of systems, organisations or people to adjust to events, respond to consequences or take advantage of opportunities. Health and wellbeing impacts of climate change: Health impacts, in the context of the strategy, are linked to more physical metrics such as increased risk of illness from increased temperatures (e. g. heat stroke). Wellbeing impacts consider a wider range of aspects, such as physical, economic, social, emotional and psychological wellbeing. In both cases, impacts could be positive or negative depending on the driver, e. g. poorly insulated dwellings can have a negative impact on health through increased risk of mould and damp conditions, whereas well insulated dwellings, that are also optimally designed to avoid overheating in summer, can have a positive wellbeing impact through reduced energy costs and feeling of comfort. Natural capital: Natural capital refers to the biological, physical and chemical resources/assets, known as ‚Stock™. According to agreed convention, this Stock broadly includes biodiversity (ecological communities), soils, freshwater, land, minerals, atmosphere (air), subsoil assets, and oceans. Biodiversity: The variability among living organisms from all sources, including terrestrial, marine, and other aquatic ecosystems and the ecological complexes of which they are part; this includes diversity within species, between species, and of ecosystems.  Blue green infrastructure: A strategically planned network of natural and semi-natural areas with other environmental features designed and managed to deliver a wide range of ecosystem services is both rural and urban settings. Ecosystem services: Processes and functions provided by the earth™s natural resources, e. g. pollination, ˝ood mitigation, air puri˜cation. 73 References -Arup, 2020 a, Climate Resilience Assessment for Bristol -Arup 2020 b, Bristol™s businesses scope 3 emissions.  -Bristol City Council, BCC, 2018, City Leap Prospectus [https://www. energyservicebristol. co. uk/wp-content/pdf/City_Leap_Prospectus% 204 - 5 - 18. pdf] -BGCP, 2015 : Bristol Green Capital Partnership, European Green Capital Award 2015 [https://bristolgreencapital. org/who-we-are/european-green-capital-award/]  -C 40, 2018 : C 40 Cities, Climate Action Planning Framework, 15. 05. 2018 [https://cdn. locomotive. works/sites/ 5 ab 410 c 8 a 2 f 4220 f 797 e/pages/ 5 ae 2 f 9237 c 4837 e 195 d 0 e 00 /˜les/CAP_Framework_ 2018. pdf? 1541 ]  -Cebellos et al, 2017 : Ceballos, G., Ehrlich, P. R., Dirzo, R., Biological annihilation via the ongoing sixth mass extinction signaled by vertebrate population losses and declines, PNAS July 25, 2017 114 ( 30 ) E 6089 -E 6096 ; ˜rst published July 10, 2017 https://doi. org/ 10. 1073 /pnas. 1704  -CEUK, 2018 : Climate Emergency, UK, Bristol City, 14 November 2018 [online at https://www. climateemergency. uk/blog/bristol-council-declares-a-climate-emergency/] -CSE, 2019 : Centre for Sustainable Energy (CSE), 2019, Bristol net zero by 2030 : The Evidence Base.  -Gouldson, 2015 : , Gouldson. A, 2015 The economics of a low carbon Bristol -GHGP, 2014 : Global Protocol for Community-Scale Greenhouse Gas Emission Inventories: An accounting and reporting standard for cities, Greenhouse Gas Protocol (GHGP) 2014, [Available online at: https://ghgprotocol. org/greenhouse-gas-protocol-accounting-reporting-standard-cities] -IPBES, 2019 : Diaz, S., Settele, J., Brondizio, E. et al, Summary for policymakers of the global assessment report on biodiversity and ecosystem services of the Intergovernmental Science Policy Platform on Biodiversity and Ecosystem Services ADVANCE UNEDITED VERSION, 6 May 2019. [https://www. dropbox. com/sh/yd 8 l 2 v 0 u 4 jqptp 3 /AAACtf 6 ctsoUQ 9 hlPQxLpVsKa?dl= 0 ]  -IPCC, 2012, IPCC, 2012 : Glossary of terms. In: Managing the Risks of Extreme Events and Disasters to Advance Climate Change Adaptation [Field, C. B., V. Barros, T. F. Stocker, D. Qin, D. J. Dokken, K. L. Ebi, M. D. Mastrandrea, K. J. Mach, G.-K. Plattner, S. K. Allen, M. Tignor, and P. M. Midgley (eds.)]. A Special Report of Working Groups I and II of the Intergovernmental Panel on Climate Change (IPCC). Cambridge University Press, Cambridge, UK, and New York, NY, USA, pp. 555 - 564. [https://archive. ipcc. ch/pdf/special-reports/srex/SREX-Annex_Glossary. pdf]  -IPCC, 2014 : Climate Change 2014 : Synthesis Report. Contribution of Working Groups I, II and III to the Fifth Assessment Report of the Intergovernmental Panel on Climate Change [Core Writing Team, R. K. Pachauri and L. A. Meyer (eds.)]. IPCC, Geneva, Switzerland, 151 pp [https://ar 5 -syr. ipcc. ch/ipcc/ipcc/resources/pdf/IPCC_SynthesisReport. pdf]  -IPCC, 2018 : Summary for Policymakers. In: Global Warming of 1. 5 °C. An IPCC Special Report on the impacts of global warming of 1. 5 °C above pre-industrial levels and related global greenhouse gas emission pathways, in the context of strengthening the global response to the threat of climate change, sustainable development, and e˙orts to eradicate poverty [Masson-Delmotte, V., P. Zhai, H.-O. Pörtner, D. Roberts, J. Skea, P. R. Shukla, A. Pirani, W. Moufouma-Okia, C. Péan, R. Pidcock, S. Connors, J. B. R. Matthews, Y. Chen, X. Zhou, M. I. Gomis, E. Lonnoy, T. Maycock, M. Tignor, and T. Water˜eld (eds.)]. In Press. [https://www. ipcc. ch/site/assets/uploads/sites/ 2 / 2019 / 05 /SR 15 _SPM_version_report_LR. pdf]  -Jahn, M., 2015, Economics of extreme weather events: Terminology and regional impact models, Weather and Cliamte Extremes, 10, https://doi. org/ 10. 1016 /j. wace. 2015. 08. 005  -Landscape Institute, 2020, Green Infrastructure [https://www. landscapeinstitute. org/policy/green-infrastructure/]  -Maxwell, S. and Lovell, R. ( 2017 ).˚Evidence Statement on the links between natural environments and human health. Defra. -QoL, 2019, Bristol City Council, Bristol Quality of Life survey 2019 / 20  -Sustain, 2019, Every mouthful counts  -United Nations (UN), The Paris Agreement, 2015 [https://unfccc. int/process-and-meetings/the-paris-agreement/the-paris-agreement] 7492. Introduction and approachTaking this integrated approach will enable our climate action to support Bristol™s wider goal, set out in the One City Plan, of becoming a fair, healthy and sustainable city. A city of hope and aspiration, where everyone can share in its success. An integrated approach to delivering our One City Climate Strategy will enable us to achieve so much more for Bristol than simply achieving carbon neutrality and climate resilience. Working together as a city, we can achieve a future that delivers improvements in public health, reduced costs for public services, improved air quality, reduced congestion, reduced inequalities and reduced poverty, increases in job and economic opportunities across society, greater community engagement, improved biodiversity alongside wider environmental bene˜ts such as soil and water quality, and more. This will require us, as the Environmental Sustainability Board, to work closely with the Housing Board, the Health and Wellbeing Board, the Learning and Skills Board, the Economy Board and the Transport Board, as well as with a wide range of others across the city. We are committed to doing this, as we recognise the opportunity that tackling the climate emergency brings to tackle many more challenges in the city. It will also require others to step up and take action across the city. 102. Introduction and approachBristol™s Advisory Committee on Climate ChangeEnvironmental Sustainability BoardOne City Boards and One City ApproachUnderpinned by evidence and engagementClimate strategyClimate actionDelivery plansIn placeIn progressStill to be developedDeveloping this strategyBristol™s˚One City Approach brings together a wide range of public, private, and third sector partners within Bristol. As part of this approach, six boards have been set up to provide leadership on key themes. As the Environmental Sustainability Board, we have led the development of this strategy, engaging with all of the other ˜ve boards, recognising the cross-cutting nature of the challenge we face. All of the underpinning evidence to inform this strategy has been developed with advice and challenge from the Bristol Advisory Committee on Climate Change. This evidence is explained in more detail in the remainder of this section. We recognise that evidence is not ˜xed. As this evidence base evolves and we gain new learning, we will use this knowledge to overcome challenges and respond to new opportunities that arise as we implement this strategy together. We will continue to have an open dialogue and engage with individuals, households, organisations and businesses over the coming decade. This strategy sets the direction of travel for Bristol as a city. A number of detailed delivery plans will be developed and work has already started on these. As we explore in section 3, we are not starting from scratch, there is wealth of activity in the city that is already underway to support the journey towards our vision. Businesses, organisations, communities and individuals will need to work hand in hand to deliver a step change in terms of scale and pace of action.    We have engaged with over 300 people in the development of this strategy. \n"
     ]
    }
   ],
   "source": [
    "print(climate_plan_text)"
   ]
  },
  {
   "cell_type": "code",
   "execution_count": 49,
   "metadata": {
    "tags": []
   },
   "outputs": [],
   "source": [
    "text = climate_plan_text\n",
    "\n",
    "phrases  = ['electric vehicles', 'electric vehicle', 'charging', 'cars', 'zero emission vehicles', 'emission vehicles']\n",
    "\n",
    "patterns = [nlp(t) for t in phrases]\n",
    "\n",
    "phrase_matcher.add('EVs', None, *patterns)\n",
    "\n",
    "doc = nlp(text)\n",
    "\n"
   ]
  },
  {
   "cell_type": "code",
   "execution_count": 50,
   "metadata": {},
   "outputs": [],
   "source": [
    "tags = []\n",
    "tagged_sentences = []"
   ]
  },
  {
   "cell_type": "code",
   "execution_count": 51,
   "metadata": {},
   "outputs": [
    {
     "name": "stdout",
     "output_type": "stream",
     "text": [
      "charging\n",
      "charging\n",
      "electric vehicles\n",
      "electric vehicle\n",
      "charging\n",
      "cars\n",
      "cars\n",
      "charging\n",
      "cars\n",
      "emission vehicles\n",
      "electric vehicle\n",
      "charging\n",
      "charging\n",
      "emission vehicles\n",
      "emission vehicles\n",
      "charging\n",
      "charging\n",
      "electric vehicles\n",
      "electric vehicle\n",
      "charging\n",
      "cars\n",
      "cars\n",
      "charging\n",
      "cars\n",
      "emission vehicles\n",
      "electric vehicle\n",
      "charging\n",
      "charging\n",
      "emission vehicles\n",
      "emission vehicles\n",
      "charging\n",
      "charging\n",
      "electric vehicles\n",
      "electric vehicle\n",
      "charging\n",
      "cars\n",
      "cars\n",
      "charging\n",
      "cars\n",
      "emission vehicles\n",
      "electric vehicle\n",
      "charging\n",
      "charging\n",
      "emission vehicles\n",
      "emission vehicles\n",
      "charging\n",
      "charging\n",
      "electric vehicles\n",
      "electric vehicle\n",
      "charging\n",
      "cars\n",
      "cars\n",
      "charging\n",
      "cars\n",
      "emission vehicles\n",
      "electric vehicle\n",
      "charging\n",
      "charging\n",
      "emission vehicles\n",
      "emission vehicles\n"
     ]
    }
   ],
   "source": [
    "matches = phrase_matcher(doc)\n",
    "for match_id, start, end in matches:\n",
    "    span = doc[start:end]\n",
    "    tags.append(span.text)\n",
    "    tagged_sentences.append(span.sent)\n",
    "    print(span.text)"
   ]
  },
  {
   "cell_type": "code",
   "execution_count": 52,
   "metadata": {},
   "outputs": [
    {
     "name": "stdout",
     "output_type": "stream",
     "text": [
      "This will include working with regulators to change regulatory frameworks; -New ˜nancing approaches such as Green Bonds, crowdsourcing and more; -Growing the ability to raise local investment through charging levies, business rates etc;  -Addressing high risk shortfalls in capital and revenue budgets which could undermine our resilience, and;  -Incentivising action through procurement and supply chains.\n",
      "We will need signi˜cant new walking, cycling and public transport infrastructure, as well as charging infrastructure for electric vehicles, or other zero carbon fuels.\n",
      "We will need signi˜cant new walking, cycling and public transport infrastructure, as well as charging infrastructure for electric vehicles, or other zero carbon fuels.\n",
      " -Development of a citywide plan for electric vehicle charging and hydrogen refuelling infrastructure and engage with the market.\n",
      " -Development of a citywide plan for electric vehicle charging and hydrogen refuelling infrastructure and engage with the market.\n",
      "Driving is the largest single element - approximately 17 % from the use of diesel or petrol cars and 2 % from the making of the car.\n",
      "For travel within the city our analysis shows we need to ˜rstly reduce the amount of vehicles on the roads, with more people using buses, walking and cycling instead of private cars.\n",
      "Without the change in travel patterns, a sudden swap to these clean vehicles would require a signi˜cant amount of charging infrastructure and would also omit the possible health, congestion and social bene˜ts.\n",
      "2030 Objective (ii)All of Bristol™s cars primarily consist of ultra-low emission vehicles (ULEVs) and 90 % of other vehicles to be ULEV.\n",
      "2030 Objective (ii)All of Bristol™s cars primarily consist of ultra-low emission vehicles (ULEVs) and 90 % of other vehicles to be ULEV.\n",
      "This could involve programmes such as extensive electric vehicle car club/share schemes and personalised travel planning programmes.\n",
      "Funding  and ˚nance We know we will need to update how transport is ˜nanced through actions such as subsidised public transport, road user charging and business rate incentives for sustainable transport use and low aviation mileage.\n",
      "This will need to be through actions like:  -Enhancing walking and cycling experience and infrastructure˚through reallocation of road space away from the motor vehicle;  -Using transport corridors to enhance blue and green infrastructure; -Improving public transport services through major expansion of infrastructure and services to create an integrated, segregated, high quality, rapid and reliable service and ultra low emissions vehicles ; -Delivering a comprehensive freight consolidation scheme, including e˙ective ˜rst and last mile solutions, that drastically reduce delivery trips; -Installing and smart management of electrical vehicle charging and hydrogen infrastructure across the city; and -Reduction in parking capacity for non ultra low emission vehicles, increased car parking charges and workplace car parking levy.\n",
      "This will need to be through actions like:  -Enhancing walking and cycling experience and infrastructure˚through reallocation of road space away from the motor vehicle;  -Using transport corridors to enhance blue and green infrastructure; -Improving public transport services through major expansion of infrastructure and services to create an integrated, segregated, high quality, rapid and reliable service and ultra low emissions vehicles ; -Delivering a comprehensive freight consolidation scheme, including e˙ective ˜rst and last mile solutions, that drastically reduce delivery trips; -Installing and smart management of electrical vehicle charging and hydrogen infrastructure across the city; and -Reduction in parking capacity for non ultra low emission vehicles, increased car parking charges and workplace car parking levy.\n",
      "Business and the economy: Bristol businesses move to be carbon neutral and climate resilient, capturing job opportunities for all through the transition 7.˜Public, voluntary, community and social enterprise services: carbon neutral public and VCSE services and supply chains that are also prepared for future climate conditions and hazards 31 Key challenges to delivery: -Identifying, securing and justifying funding -Time needed for regulatory and planning processes and for construction of new infrastructure -The higher capital cost of ultra low emission vehicles, both for private owners and commercial operators -The input needed from national and international bodies and businesses to change the market, incentives for businesses and individuals, and policy and regulation.\n",
      "This will include working with regulators to change regulatory frameworks; -New ˜nancing approaches such as Green Bonds, crowdsourcing and more; -Growing the ability to raise local investment through charging levies, business rates etc;  -Addressing high risk shortfalls in capital and revenue budgets which could undermine our resilience, and;  -Incentivising action through procurement and supply chains.\n",
      "We will need signi˜cant new walking, cycling and public transport infrastructure, as well as charging infrastructure for electric vehicles, or other zero carbon fuels.\n",
      "We will need signi˜cant new walking, cycling and public transport infrastructure, as well as charging infrastructure for electric vehicles, or other zero carbon fuels.\n",
      " -Development of a citywide plan for electric vehicle charging and hydrogen refuelling infrastructure and engage with the market.\n",
      " -Development of a citywide plan for electric vehicle charging and hydrogen refuelling infrastructure and engage with the market.\n",
      "Driving is the largest single element - approximately 17 % from the use of diesel or petrol cars and 2 % from the making of the car.\n",
      "For travel within the city our analysis shows we need to ˜rstly reduce the amount of vehicles on the roads, with more people using buses, walking and cycling instead of private cars.\n",
      "Without the change in travel patterns, a sudden swap to these clean vehicles would require a signi˜cant amount of charging infrastructure and would also omit the possible health, congestion and social bene˜ts.\n",
      "2030 Objective (ii)All of Bristol™s cars primarily consist of ultra-low emission vehicles (ULEVs) and 90 % of other vehicles to be ULEV.\n",
      "2030 Objective (ii)All of Bristol™s cars primarily consist of ultra-low emission vehicles (ULEVs) and 90 % of other vehicles to be ULEV.\n",
      "This could involve programmes such as extensive electric vehicle car club/share schemes and personalised travel planning programmes.\n",
      "Funding  and ˚nance We know we will need to update how transport is ˜nanced through actions such as subsidised public transport, road user charging and business rate incentives for sustainable transport use and low aviation mileage.\n",
      "This will need to be through actions like:  -Enhancing walking and cycling experience and infrastructure˚through reallocation of road space away from the motor vehicle;  -Using transport corridors to enhance blue and green infrastructure; -Improving public transport services through major expansion of infrastructure and services to create an integrated, segregated, high quality, rapid and reliable service and ultra low emissions vehicles ; -Delivering a comprehensive freight consolidation scheme, including e˙ective ˜rst and last mile solutions, that drastically reduce delivery trips; -Installing and smart management of electrical vehicle charging and hydrogen infrastructure across the city; and -Reduction in parking capacity for non ultra low emission vehicles, increased car parking charges and workplace car parking levy.\n",
      "This will need to be through actions like:  -Enhancing walking and cycling experience and infrastructure˚through reallocation of road space away from the motor vehicle;  -Using transport corridors to enhance blue and green infrastructure; -Improving public transport services through major expansion of infrastructure and services to create an integrated, segregated, high quality, rapid and reliable service and ultra low emissions vehicles ; -Delivering a comprehensive freight consolidation scheme, including e˙ective ˜rst and last mile solutions, that drastically reduce delivery trips; -Installing and smart management of electrical vehicle charging and hydrogen infrastructure across the city; and -Reduction in parking capacity for non ultra low emission vehicles, increased car parking charges and workplace car parking levy.\n",
      "Business and the economy: Bristol businesses move to be carbon neutral and climate resilient, capturing job opportunities for all through the transition 7.˜Public, voluntary, community and social enterprise services: carbon neutral public and VCSE services and supply chains that are also prepared for future climate conditions and hazards 31 Key challenges to delivery: -Identifying, securing and justifying funding -Time needed for regulatory and planning processes and for construction of new infrastructure -The higher capital cost of ultra low emission vehicles, both for private owners and commercial operators -The input needed from national and international bodies and businesses to change the market, incentives for businesses and individuals, and policy and regulation.\n",
      "This will include working with regulators to change regulatory frameworks; -New ˜nancing approaches such as Green Bonds, crowdsourcing and more; -Growing the ability to raise local investment through charging levies, business rates etc;  -Addressing high risk shortfalls in capital and revenue budgets which could undermine our resilience, and;  -Incentivising action through procurement and supply chains.\n",
      "We will need signi˜cant new walking, cycling and public transport infrastructure, as well as charging infrastructure for electric vehicles, or other zero carbon fuels.\n",
      "We will need signi˜cant new walking, cycling and public transport infrastructure, as well as charging infrastructure for electric vehicles, or other zero carbon fuels.\n",
      " -Development of a citywide plan for electric vehicle charging and hydrogen refuelling infrastructure and engage with the market.\n",
      " -Development of a citywide plan for electric vehicle charging and hydrogen refuelling infrastructure and engage with the market.\n",
      "Driving is the largest single element - approximately 17 % from the use of diesel or petrol cars and 2 % from the making of the car.\n",
      "For travel within the city our analysis shows we need to ˜rstly reduce the amount of vehicles on the roads, with more people using buses, walking and cycling instead of private cars.\n",
      "Without the change in travel patterns, a sudden swap to these clean vehicles would require a signi˜cant amount of charging infrastructure and would also omit the possible health, congestion and social bene˜ts.\n",
      "2030 Objective (ii)All of Bristol™s cars primarily consist of ultra-low emission vehicles (ULEVs) and 90 % of other vehicles to be ULEV.\n",
      "2030 Objective (ii)All of Bristol™s cars primarily consist of ultra-low emission vehicles (ULEVs) and 90 % of other vehicles to be ULEV.\n",
      "This could involve programmes such as extensive electric vehicle car club/share schemes and personalised travel planning programmes.\n",
      "Funding  and ˚nance We know we will need to update how transport is ˜nanced through actions such as subsidised public transport, road user charging and business rate incentives for sustainable transport use and low aviation mileage.\n",
      "This will need to be through actions like:  -Enhancing walking and cycling experience and infrastructure˚through reallocation of road space away from the motor vehicle;  -Using transport corridors to enhance blue and green infrastructure; -Improving public transport services through major expansion of infrastructure and services to create an integrated, segregated, high quality, rapid and reliable service and ultra low emissions vehicles ; -Delivering a comprehensive freight consolidation scheme, including e˙ective ˜rst and last mile solutions, that drastically reduce delivery trips; -Installing and smart management of electrical vehicle charging and hydrogen infrastructure across the city; and -Reduction in parking capacity for non ultra low emission vehicles, increased car parking charges and workplace car parking levy.\n",
      "This will need to be through actions like:  -Enhancing walking and cycling experience and infrastructure˚through reallocation of road space away from the motor vehicle;  -Using transport corridors to enhance blue and green infrastructure; -Improving public transport services through major expansion of infrastructure and services to create an integrated, segregated, high quality, rapid and reliable service and ultra low emissions vehicles ; -Delivering a comprehensive freight consolidation scheme, including e˙ective ˜rst and last mile solutions, that drastically reduce delivery trips; -Installing and smart management of electrical vehicle charging and hydrogen infrastructure across the city; and -Reduction in parking capacity for non ultra low emission vehicles, increased car parking charges and workplace car parking levy.\n",
      "Business and the economy: Bristol businesses move to be carbon neutral and climate resilient, capturing job opportunities for all through the transition 7.˜Public, voluntary, community and social enterprise services: carbon neutral public and VCSE services and supply chains that are also prepared for future climate conditions and hazards 31 Key challenges to delivery: -Identifying, securing and justifying funding -Time needed for regulatory and planning processes and for construction of new infrastructure -The higher capital cost of ultra low emission vehicles, both for private owners and commercial operators -The input needed from national and international bodies and businesses to change the market, incentives for businesses and individuals, and policy and regulation.\n",
      "This will include working with regulators to change regulatory frameworks; -New ˜nancing approaches such as Green Bonds, crowdsourcing and more; -Growing the ability to raise local investment through charging levies, business rates etc;  -Addressing high risk shortfalls in capital and revenue budgets which could undermine our resilience, and;  -Incentivising action through procurement and supply chains.\n",
      "We will need signi˜cant new walking, cycling and public transport infrastructure, as well as charging infrastructure for electric vehicles, or other zero carbon fuels.\n",
      "We will need signi˜cant new walking, cycling and public transport infrastructure, as well as charging infrastructure for electric vehicles, or other zero carbon fuels.\n",
      " -Development of a citywide plan for electric vehicle charging and hydrogen refuelling infrastructure and engage with the market.\n",
      " -Development of a citywide plan for electric vehicle charging and hydrogen refuelling infrastructure and engage with the market.\n",
      "Driving is the largest single element - approximately 17 % from the use of diesel or petrol cars and 2 % from the making of the car.\n",
      "For travel within the city our analysis shows we need to ˜rstly reduce the amount of vehicles on the roads, with more people using buses, walking and cycling instead of private cars.\n",
      "Without the change in travel patterns, a sudden swap to these clean vehicles would require a signi˜cant amount of charging infrastructure and would also omit the possible health, congestion and social bene˜ts.\n",
      "2030 Objective (ii)All of Bristol™s cars primarily consist of ultra-low emission vehicles (ULEVs) and 90 % of other vehicles to be ULEV.\n",
      "2030 Objective (ii)All of Bristol™s cars primarily consist of ultra-low emission vehicles (ULEVs) and 90 % of other vehicles to be ULEV.\n",
      "This could involve programmes such as extensive electric vehicle car club/share schemes and personalised travel planning programmes.\n",
      "Funding  and ˚nance We know we will need to update how transport is ˜nanced through actions such as subsidised public transport, road user charging and business rate incentives for sustainable transport use and low aviation mileage.\n",
      "This will need to be through actions like:  -Enhancing walking and cycling experience and infrastructure˚through reallocation of road space away from the motor vehicle;  -Using transport corridors to enhance blue and green infrastructure; -Improving public transport services through major expansion of infrastructure and services to create an integrated, segregated, high quality, rapid and reliable service and ultra low emissions vehicles ; -Delivering a comprehensive freight consolidation scheme, including e˙ective ˜rst and last mile solutions, that drastically reduce delivery trips; -Installing and smart management of electrical vehicle charging and hydrogen infrastructure across the city; and -Reduction in parking capacity for non ultra low emission vehicles, increased car parking charges and workplace car parking levy.\n",
      "This will need to be through actions like:  -Enhancing walking and cycling experience and infrastructure˚through reallocation of road space away from the motor vehicle;  -Using transport corridors to enhance blue and green infrastructure; -Improving public transport services through major expansion of infrastructure and services to create an integrated, segregated, high quality, rapid and reliable service and ultra low emissions vehicles ; -Delivering a comprehensive freight consolidation scheme, including e˙ective ˜rst and last mile solutions, that drastically reduce delivery trips; -Installing and smart management of electrical vehicle charging and hydrogen infrastructure across the city; and -Reduction in parking capacity for non ultra low emission vehicles, increased car parking charges and workplace car parking levy.\n",
      "Business and the economy: Bristol businesses move to be carbon neutral and climate resilient, capturing job opportunities for all through the transition 7.˜Public, voluntary, community and social enterprise services: carbon neutral public and VCSE services and supply chains that are also prepared for future climate conditions and hazards 31 Key challenges to delivery: -Identifying, securing and justifying funding -Time needed for regulatory and planning processes and for construction of new infrastructure -The higher capital cost of ultra low emission vehicles, both for private owners and commercial operators -The input needed from national and international bodies and businesses to change the market, incentives for businesses and individuals, and policy and regulation.\n"
     ]
    }
   ],
   "source": [
    "matches = phrase_matcher(doc)\n",
    "for match_id, start, end in matches:\n",
    "    span = doc[start:end]\n",
    "    print(span.sent)"
   ]
  },
  {
   "cell_type": "code",
   "execution_count": 53,
   "metadata": {
    "tags": []
   },
   "outputs": [],
   "source": [
    "# for sent in doc.sents:\n",
    "#     for match_id, start, end in phrase_matcher(nlp(sent.text)):\n",
    "#         if nlp.vocab.strings[match_id] in ['EVs']:\n",
    "#             print(sent.text)"
   ]
  },
  {
   "cell_type": "code",
   "execution_count": 6,
   "metadata": {},
   "outputs": [
    {
     "ename": "NameError",
     "evalue": "name 'tags' is not defined",
     "output_type": "error",
     "traceback": [
      "\u001b[1;31m---------------------------------------------------------------------------\u001b[0m",
      "\u001b[1;31mNameError\u001b[0m                                 Traceback (most recent call last)",
      "\u001b[1;32m<ipython-input-6-996da38d5197>\u001b[0m in \u001b[0;36m<module>\u001b[1;34m\u001b[0m\n\u001b[1;32m----> 1\u001b[1;33m \u001b[0mdata\u001b[0m \u001b[1;33m=\u001b[0m \u001b[1;33m{\u001b[0m\u001b[1;34m'tags'\u001b[0m\u001b[1;33m:\u001b[0m \u001b[0mtags\u001b[0m\u001b[1;33m,\u001b[0m \u001b[1;34m'tagged_sents'\u001b[0m\u001b[1;33m:\u001b[0m \u001b[0mtagged_sentences\u001b[0m\u001b[1;33m}\u001b[0m\u001b[1;33m\u001b[0m\u001b[1;33m\u001b[0m\u001b[0m\n\u001b[0m\u001b[0;32m      2\u001b[0m \u001b[0mdf\u001b[0m \u001b[1;33m=\u001b[0m \u001b[0mpd\u001b[0m\u001b[1;33m.\u001b[0m\u001b[0mDataFrame\u001b[0m\u001b[1;33m(\u001b[0m\u001b[0mdata\u001b[0m \u001b[1;33m=\u001b[0m \u001b[0mdata\u001b[0m\u001b[1;33m)\u001b[0m\u001b[1;33m\u001b[0m\u001b[1;33m\u001b[0m\u001b[0m\n\u001b[0;32m      3\u001b[0m \u001b[0mdf\u001b[0m\u001b[1;33m.\u001b[0m\u001b[0mhead\u001b[0m\u001b[1;33m(\u001b[0m\u001b[1;33m)\u001b[0m\u001b[1;33m\u001b[0m\u001b[1;33m\u001b[0m\u001b[0m\n",
      "\u001b[1;31mNameError\u001b[0m: name 'tags' is not defined"
     ]
    }
   ],
   "source": [
    "data = {'tags': tags, 'tagged_sents': tagged_sentences}\n",
    "df = pd.DataFrame(data = data)\n",
    "df.head()"
   ]
  },
  {
   "cell_type": "markdown",
   "metadata": {},
   "source": [
    "## Seeing whether it's possible to download a website and do keyword extraction on it#"
   ]
  },
  {
   "cell_type": "markdown",
   "metadata": {},
   "source": [
    " Run conda install -c conda-forge scrapy!"
   ]
  },
  {
   "cell_type": "code",
   "execution_count": null,
   "metadata": {},
   "outputs": [],
   "source": []
  }
 ],
 "metadata": {
  "kernelspec": {
   "display_name": "Python 3",
   "language": "python",
   "name": "python3"
  },
  "language_info": {
   "codemirror_mode": {
    "name": "ipython",
    "version": 3
   },
   "file_extension": ".py",
   "mimetype": "text/x-python",
   "name": "python",
   "nbconvert_exporter": "python",
   "pygments_lexer": "ipython3",
   "version": "3.8.5"
  }
 },
 "nbformat": 4,
 "nbformat_minor": 4
}
